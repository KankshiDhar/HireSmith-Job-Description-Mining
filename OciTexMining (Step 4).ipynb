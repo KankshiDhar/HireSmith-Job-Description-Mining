{
 "cells": [
  {
   "cell_type": "code",
   "execution_count": 66,
   "metadata": {},
   "outputs": [],
   "source": [
    "from nltk.corpus import stopwords\n",
    "from nltk.tokenize import word_tokenize\n",
    "from nltk.stem import PorterStemmer\n",
    "from collections import Counter\n",
    "from num2words import num2words\n",
    "\n",
    "import nltk\n",
    "import os\n",
    "import string\n",
    "import numpy as np\n",
    "import copy\n",
    "import pandas as pd\n",
    "import pickle\n",
    "import re\n",
    "import math\n",
    "import string\n",
    "\n",
    "from tkinter import filedialog\n",
    "from tkinter import *\n",
    "\n",
    "from plotly import __version__\n",
    "from plotly.offline import download_plotlyjs, init_notebook_mode, plot, iplot\n",
    "import plotly.graph_objs as go"
   ]
  },
  {
   "cell_type": "code",
   "execution_count": 68,
   "metadata": {},
   "outputs": [
    {
     "name": "stdout",
     "output_type": "stream",
     "text": [
      "C:/Users/krish/Desktop/UMD/Capstone/Categorized dataset/OciByIndustry.csv\n"
     ]
    }
   ],
   "source": [
    "### Select CategorizedOCI.csv file from your working directory ###\n",
    "\n",
    "root = Tk()\n",
    "root.filename =  filedialog.askopenfilename()\n",
    "print (root.filename)\n",
    "root.destroy()"
   ]
  },
  {
   "cell_type": "code",
   "execution_count": 69,
   "metadata": {},
   "outputs": [],
   "source": [
    "jobs=pd.read_csv(root.filename)"
   ]
  },
  {
   "cell_type": "code",
   "execution_count": 70,
   "metadata": {},
   "outputs": [
    {
     "name": "stdout",
     "output_type": "stream",
     "text": [
      "C:/Users/krish/Desktop/UMD/Capstone/skillwords.csv\n"
     ]
    }
   ],
   "source": [
    "### Select the skillwords.csv from your working directory ###\n",
    "\n",
    "root = Tk()\n",
    "root.filename =  filedialog.askopenfilename()\n",
    "print (root.filename)\n",
    "root.destroy()"
   ]
  },
  {
   "cell_type": "code",
   "execution_count": 71,
   "metadata": {},
   "outputs": [],
   "source": [
    "## hard skills/tool/concept knowledge required ##\n",
    "s = pd.read_csv(root.filename)\n",
    "s['Skills'] = s['Skills'].str.strip()\n",
    "skillset = s['Skills'].unique()"
   ]
  },
  {
   "cell_type": "code",
   "execution_count": 72,
   "metadata": {},
   "outputs": [],
   "source": [
    "data = jobs['Job Description'].tolist()"
   ]
  },
  {
   "cell_type": "code",
   "execution_count": 73,
   "metadata": {},
   "outputs": [],
   "source": [
    "def convert_lower_case(data):\n",
    "    return np.char.lower(data)\n",
    "\n",
    "def remove_stop_words(data):\n",
    "    stop_words = stopwords.words('english')\n",
    "    words = word_tokenize(str(data))\n",
    "    new_text = \"\"\n",
    "    for w in words:\n",
    "        if w not in stop_words and len(w) > 1:\n",
    "            new_text = new_text + \" \" + w\n",
    "    return new_text\n",
    "\n",
    "def remove_punctuation(data):\n",
    "    symbols = \"!\\\"#$%&()*+-./:;<=>?@[\\]^_`{|}~\\n\"\n",
    "    for i in range(len(symbols)):\n",
    "        data = np.char.replace(data, symbols[i], ' ')\n",
    "        data = np.char.replace(data, \"  \", \" \")\n",
    "    data = np.char.replace(data, ',', '')\n",
    "    return data\n",
    "\n",
    "def remove_apostrophe(data):\n",
    "    return np.char.replace(data, \"'\", \"\")\n",
    "\n",
    "def stemming(data):\n",
    "    stemmer= PorterStemmer()\n",
    "    \n",
    "    tokens = word_tokenize(str(data))\n",
    "    new_text = \"\"\n",
    "    for w in tokens:\n",
    "        new_text = new_text + \" \" + stemmer.stem(w)\n",
    "    return new_text\n",
    "\n",
    "def convert_numbers(data):\n",
    "    tokens = word_tokenize(str(data))\n",
    "    new_text = \"\"\n",
    "    for w in tokens:\n",
    "        try:\n",
    "            w = num2words(int(w))\n",
    "        except:\n",
    "            a = 0\n",
    "        new_text = new_text + \" \" + w\n",
    "    new_text = np.char.replace(new_text, \"-\", \" \")\n",
    "    return new_text"
   ]
  },
  {
   "cell_type": "code",
   "execution_count": 74,
   "metadata": {},
   "outputs": [],
   "source": [
    "def preprocess(data):\n",
    "    data = convert_lower_case(data)\n",
    "    data = remove_punctuation(data) #remove comma seperately\n",
    "    data = remove_apostrophe(data)\n",
    "    data = remove_stop_words(data)\n",
    "    data = convert_numbers(data)\n",
    "    data = stemming(data)\n",
    "    data = remove_punctuation(data)\n",
    "    data = convert_numbers(data)\n",
    "    data = stemming(data) #needed again as we need to stem the words\n",
    "    data = remove_punctuation(data) #needed again as num2word is giving few hypens and commas fourty-one\n",
    "    data = remove_stop_words(data) #needed again as num2word is giving stop words 101 - one hundred and one\n",
    "    return data"
   ]
  },
  {
   "cell_type": "code",
   "execution_count": 75,
   "metadata": {},
   "outputs": [],
   "source": [
    "for i in range(len(data)):\n",
    "    data[i] = preprocess(data[i])"
   ]
  },
  {
   "cell_type": "code",
   "execution_count": 76,
   "metadata": {},
   "outputs": [],
   "source": [
    "#### creating a set of multiworded skills and single worded skill \n",
    "skill_words = []\n",
    "skill_keywords1 = []\n",
    "skill_keywords2 = []\n",
    "for i in skillset:\n",
    "        skill_words = i.split(' ')\n",
    "        if len(skill_words) > 1:\n",
    "            skill_keywords2.append(i)\n",
    "        else:\n",
    "            skill_keywords1.append(i)"
   ]
  },
  {
   "cell_type": "code",
   "execution_count": 77,
   "metadata": {},
   "outputs": [],
   "source": [
    "degree_dict = {'bs': 1, 'bachelor': 1, 'undergraduate': 1, \n",
    "               'master': 2, 'graduate': 2, 'mba': 2.5, \n",
    "               'phd': 3, 'ph.d': 3, 'ba': 1, 'ma': 2,\n",
    "               'postdoctoral': 4, 'postdoc': 4, 'doctorate': 3}\n",
    "\n",
    "\n",
    "degree_dict2 = {'advanced degree': 2, 'ms or': 2, 'ms degree': 2, '4 year degree': 1, 'bs/': 1, 'ba/': 1,\n",
    "                '4-year degree': 1, 'b.s.': 1, 'm.s.': 2, 'm.s': 2, 'b.s': 1, 'phd/': 3, 'ph.d.': 3, 'ms/': 2,\n",
    "                'm.s/': 2, 'm.s./': 2, 'msc/': 2, 'master/': 2, 'master\\'s/': 2, 'bachelor\\s/': 1}\n",
    "degree_keywords2 = set(degree_dict2.keys())"
   ]
  },
  {
   "cell_type": "code",
   "execution_count": 79,
   "metadata": {},
   "outputs": [],
   "source": [
    "import pandas as pd\n",
    "df = pd.DataFrame()\n",
    "df['Job Description'] = data\n",
    "df['Year'] = jobs['year']\n",
    "## Since OCI final dataset has no Job Function column, we are merging Function with Industry since they serve the same \n",
    "## purpose of added filtering of visualizations. This will make sure OCI and Non OCI skillsets will have the same columns\n",
    "df['Job Function'] = jobs['Industry'] "
   ]
  },
  {
   "cell_type": "code",
   "execution_count": 80,
   "metadata": {},
   "outputs": [],
   "source": [
    "from nltk import pos_tag\n",
    "from nltk.stem import PorterStemmer\n",
    "\n",
    "ps = PorterStemmer()\n",
    "\n",
    "\n",
    "# process the job description.\n",
    "def prepare_job_desc(desc):\n",
    "    # tokenize description.\n",
    "    tokens = word_tokenize(desc)\n",
    "        \n",
    "    # Parts of speech (POS) tag tokens.\n",
    "    token_tag = pos_tag(tokens)\n",
    "    \n",
    "    # Only include some of the POS tags.\n",
    "    include_tags = ['VBN', 'VBD', 'JJ', 'JJS', 'JJR', 'CD', 'NN', 'NNS', 'NNP', 'NNPS']\n",
    "    filtered_tokens = [tok for tok, tag in token_tag if tag in include_tags]\n",
    "    \n",
    "    # stem words.\n",
    "    stemmed_tokens = [tok.lower() for tok in filtered_tokens]\n",
    "    return set(stemmed_tokens)\n",
    "\n",
    "df['job_description_word_set'] = df['Job Description'].map(prepare_job_desc)\n",
    "\n",
    "\n",
    "skill_keywords1_set = set([ps.stem(tok) for tok in skill_keywords1])# stem the keywords (since the job description is also stemmed.)\n",
    "skill_keywords1_dict = {ps.stem(tok):tok for tok in skill_keywords1}# use this dictionary to revert the stemmed words back to the original.\n",
    "\n",
    "degree_keywords1_set = set([ps.stem(tok) for tok in degree_dict.keys()])\n",
    "degree_keywords1_dict = {ps.stem(tok):tok for tok in degree_dict.keys()}\n"
   ]
  },
  {
   "cell_type": "code",
   "execution_count": 82,
   "metadata": {},
   "outputs": [
    {
     "data": {
      "text/plain": [
       "array(['Other', 'Financial Services', 'Consulting',\n",
       "       'Transportation & Logistics', 'Healthcare & Pharmaceuticals',\n",
       "       'Manufacturing', 'Real Estate & Construction',\n",
       "       'Professional Services', 'Technology',\n",
       "       'Government & Non Profit & Education', 'Consumer Packaged Goods',\n",
       "       'Retail', 'Media & Entertainment & Sports', 'Hospitality',\n",
       "       'Energy'], dtype=object)"
      ]
     },
     "execution_count": 82,
     "metadata": {},
     "output_type": "execute_result"
    }
   ],
   "source": [
    "ind_list = df['Job Function'].unique()\n",
    "ind_list"
   ]
  },
  {
   "cell_type": "code",
   "execution_count": 87,
   "metadata": {
    "scrolled": true
   },
   "outputs": [],
   "source": [
    "skill_list = []\n",
    "degree_list = []\n",
    "skill_year = []\n",
    "degree_year = []\n",
    "JobFunction = []\n",
    "JobFunction_deg = []\n",
    "tot_postings = []\n",
    "postings_degree = []\n",
    "\n",
    "Oci = pd.DataFrame()\n",
    "\n",
    "for ind in ind_list:\n",
    "    Oci = df[df['Job Function'] == ind] # Filtering based on Job Function\n",
    "    for z in range(2011,2021):\n",
    "        msk = Oci['Year'] == z # Filtering based on year\n",
    "\n",
    "        num_postings = len(Oci[msk].index)\n",
    "        for i in range(num_postings):\n",
    "            job_desc = Oci[msk].iloc[i]['Job Description'].lower()\n",
    "            job_desc_set = Oci[msk].iloc[i]['job_description_word_set']\n",
    "\n",
    "            # check if the keywords are in the job description. Look for exact match by token.\n",
    "            skill_words = skill_keywords1_set.intersection(job_desc_set)\n",
    "            degree_words = degree_keywords1_set.intersection(job_desc_set)\n",
    "\n",
    "            # check if longer keywords (more than one word) are in the job description. Match by substring.\n",
    "            k = 0\n",
    "            for skill_keyword2 in skill_keywords2:\n",
    "                # skill keywords.\n",
    "                if skill_keyword2 in job_desc:\n",
    "                    skill_list.append(skill_keyword2)\n",
    "                    k += 1\n",
    "\n",
    "            # search for the minimum education.\n",
    "            min_education_level = 999\n",
    "            for degree_word in degree_words:\n",
    "                level = degree_dict[degree_keywords1_dict[degree_word]]\n",
    "                min_education_level = min(min_education_level, level)\n",
    "\n",
    "            for degree_keyword2 in degree_keywords2:\n",
    "                # longer keywords. Match by substring.\n",
    "                if degree_keyword2 in job_desc:\n",
    "                    level = degree_dict2[degree_keyword2]\n",
    "                    min_education_level = min(min_education_level, level)\n",
    "\n",
    "            # If none of the keywords were found, but the word degree is present, then assume it's a bachelors level.\n",
    "            if min_education_level > 500:\n",
    "                if 'degree' in job_desc:\n",
    "                    min_education_level = 1\n",
    "\n",
    "            skill_list += list(skill_words)\n",
    "            degree_list.append(min_education_level)\n",
    "        A = len(skill_list)\n",
    "        B = len(skill_year)\n",
    "        C = len(degree_list)\n",
    "        D = len(degree_year)\n",
    "        skill_year.extend([z] * (A-B))\n",
    "        degree_year.extend([z] * (C-D))\n",
    "        tot_postings.extend([num_postings] * (A-B))\n",
    "        postings_degree.extend([num_postings] * (C-D))\n",
    "    A = len(skill_year)\n",
    "    B = len(JobFunction)\n",
    "    C = len(degree_year)\n",
    "    D = len(JobFunction_deg)\n",
    "    JobFunction.extend([ind] * (A-B))\n",
    "    JobFunction_deg.extend([ind] * (C-D))"
   ]
  },
  {
   "cell_type": "code",
   "execution_count": 90,
   "metadata": {},
   "outputs": [],
   "source": [
    "# create the list of skills/knowledge.\n",
    "df_skills = pd.DataFrame(data={'cnt': skill_list, \n",
    "                               'Year': skill_year, \n",
    "                               'Job Function': JobFunction, \n",
    "                               'Postingcount': tot_postings})\n",
    "df_skills = df_skills.replace(skill_keywords1_dict)\n",
    "\n",
    "# group some of the categories together.\n",
    "\n",
    "msk = df_skills['cnt'] == 'ms excel'\n",
    "df_skills.loc[msk, 'cnt'] = 'excel'\n",
    "\n",
    "msk = df_skills['cnt'] == 'excel skills'\n",
    "df_skills.loc[msk, 'cnt'] = 'excel'\n",
    "\n",
    "msk = df_skills['cnt'] == 'strong excel'\n",
    "df_skills.loc[msk, 'cnt'] = 'excel'\n",
    "\n",
    "msk = df_skills['cnt'] == 'power bi'\n",
    "df_skills.loc[msk, 'cnt'] = 'powerbi'\n",
    "\n",
    "msk = df_skills['cnt'] == 'erp system'\n",
    "df_skills.loc[msk, 'cnt'] = 'erp'\n",
    "\n",
    "msk = df_skills['cnt'] == 'sql server'\n",
    "df_skills.loc[msk, 'cnt'] = 'sql'\n",
    "\n",
    "msk = df_skills['cnt'] == 'sqlexperience'\n",
    "df_skills.loc[msk, 'cnt'] = 'sql'\n",
    "\n",
    "msk = df_skills['cnt'] == 'sta'\n",
    "df_skills.loc[msk, 'cnt'] = 'stata'\n",
    "\n",
    "msk = df_skills['cnt'] == 'microsoft excel'\n",
    "df_skills.loc[msk, 'cnt'] = 'excel'\n",
    "\n",
    "msk = df_skills['cnt'] == 'ms powerpoint'\n",
    "df_skills.loc[msk, 'cnt'] = 'powerpoint'\n",
    "\n",
    "msk = df_skills['cnt'] == 'power point'\n",
    "df_skills.loc[msk, 'cnt'] = 'powerpoint'\n",
    "\n",
    "msk = df_skills['cnt'] == 'ms power point'\n",
    "df_skills.loc[msk, 'cnt'] = 'powerpoint'\n",
    "\n",
    "msk = df_skills['cnt'] == 'microsoft power point'\n",
    "df_skills.loc[msk, 'cnt'] = 'powerpoint'\n",
    "\n",
    "msk = df_skills['cnt'] == 'microsoft powerpoint'\n",
    "df_skills.loc[msk, 'cnt'] = 'powerpoint'\n",
    "\n",
    "msk = df_skills['cnt'] == 'six sigma'\n",
    "df_skills.loc[msk, 'cnt'] = 'lean six sigma'\n",
    "\n",
    "msk = df_skills['cnt'] == 'nlp'\n",
    "df_skills.loc[msk, 'cnt'] = 'natural language processing'\n",
    "\n",
    "msk = df_skills['cnt'] == 'convolutional'\n",
    "df_skills.loc[msk, 'cnt'] = 'convolutional neural network'\n",
    "\n",
    "msk = df_skills['cnt'] == 'cnn'\n",
    "df_skills.loc[msk, 'cnt'] = 'convolutional neural network'\n",
    "\n",
    "msk = df_skills['cnt'] == 'recurrent'\n",
    "df_skills.loc[msk, 'cnt'] = 'recurrent neural network'\n",
    "\n",
    "msk = df_skills['cnt'] == 'rnn'\n",
    "df_skills.loc[msk, 'cnt'] = 'recurrent neural network'\n",
    "\n",
    "msk = df_skills['cnt'] == 'knn'\n",
    "df_skills.loc[msk, 'cnt'] = 'nearest neighbors'\n",
    "\n",
    "msk = df_skills['cnt'] == 'svm'\n",
    "df_skills.loc[msk, 'cnt'] = 'support vector machine'\n",
    "\n",
    "msk = df_skills['cnt'] == 'machine vision'\n",
    "df_skills.loc[msk, 'cnt'] = 'computer vision'\n",
    "\n",
    "msk = df_skills['cnt'] == 'ab testing'\n",
    "df_skills.loc[msk, 'cnt'] = 'a/b testing'\n",
    "\n",
    "msk = df_skills['cnt'] == 'h20'\n",
    "df_skills.loc[msk, 'cnt'] = 'h2o'\n",
    "\n",
    "msk = df_skills['cnt'] == 'aws'\n",
    "df_skills.loc[msk, 'cnt'] = 'amazon web services'\n",
    "\n",
    "msk = df_skills['cnt'] == 'gcp'\n",
    "df_skills.loc[msk, 'cnt'] = 'google cloud'\n",
    "\n",
    "msk = df_skills['cnt'] == 'github'\n",
    "df_skills.loc[msk, 'cnt'] = 'git'\n",
    "\n",
    "msk = df_skills['cnt'] == 'postgressql'\n",
    "df_skills.loc[msk, 'cnt'] = 'postgres'\n",
    "\n",
    "msk = df_skills['cnt'] == 'tensor'\n",
    "df_skills.loc[msk, 'cnt'] = 'tensorflow'\n",
    "\n",
    "msk = df_skills['cnt'] == 'abi'\n",
    "df_skills.loc[msk, 'cnt'] = 'application binary interface'"
   ]
  },
  {
   "cell_type": "code",
   "execution_count": 91,
   "metadata": {
    "scrolled": true
   },
   "outputs": [],
   "source": [
    "df_skillcount = pd.DataFrame()\n",
    "df_skills_top = pd.DataFrame()\n",
    "for ind in ind_list:\n",
    "    df_skillcount_f = df_skills[df_skills['Job Function'] == ind]\n",
    "    for k in range(2011, 2021):\n",
    "        if k in df_skillcount_f['Year'].values:\n",
    "            value = df_skillcount_f[df_skillcount_f['Year'] == k]['Postingcount'].iloc[0]\n",
    "            df_skillcount = df_skillcount_f[df_skillcount_f['Year'] == k]['cnt'].value_counts().reset_index().rename(columns={'index': 'skill'}).iloc[:30]\n",
    "            df_skillcount['Year'] = k\n",
    "            df_skillcount['cnt'] = round((df_skillcount['cnt']/value) * 100)\n",
    "            df_skillcount['Job Function'] = ind\n",
    "            df_skills_top = df_skills_top.append(df_skillcount)"
   ]
  },
  {
   "cell_type": "code",
   "execution_count": 92,
   "metadata": {},
   "outputs": [],
   "source": [
    "df_skills_top = df_skills_top.sort_values(['Job Function', 'Year', 'cnt'], ascending=[True, True, False])"
   ]
  },
  {
   "cell_type": "code",
   "execution_count": 93,
   "metadata": {},
   "outputs": [
    {
     "data": {
      "application/vnd.plotly.v1+json": {
       "config": {
        "plotlyServerURL": "https://plot.ly"
       },
       "data": [
        {
         "alignmentgroup": "True",
         "hovertemplate": "Year=2018<br>skill=%{x}<br>cnt=%{y}<extra></extra>",
         "legendgroup": "",
         "marker": {
          "color": "#636efa"
         },
         "name": "",
         "offsetgroup": "",
         "orientation": "v",
         "showlegend": false,
         "textposition": "auto",
         "type": "bar",
         "x": [
          "excel",
          "advisory",
          "auditing",
          "asp",
          "cpa",
          "word",
          "access",
          "visualization",
          "agile",
          "ice",
          "statistics",
          "salesforce",
          "client relationships",
          "procurement",
          "mentorship",
          "cloud",
          "bi",
          "crm",
          "sql",
          "spreadsheets",
          "erp",
          "client interaction",
          "client engagements",
          "powerpoint",
          "hyperion",
          "dashboard",
          "virtualization",
          "cash flow",
          "forecast",
          "oracle",
          "excel",
          "access",
          "kpis",
          "smed",
          "cloud",
          "excel",
          "auditing",
          "cpa",
          "advisory",
          "access",
          "asp",
          "word",
          "powerpoint",
          "agile",
          "statistics",
          "sql",
          "mentorship",
          "php",
          "strong leadership",
          "visualization",
          "bi",
          "windows",
          "cpe",
          "classification",
          "virtualization",
          "forecast",
          "cfa",
          "javascript",
          "sas",
          "cissp",
          "microsoft sql server",
          "time analyst",
          "big data",
          "java",
          "python",
          "auditing",
          "excel",
          "advisory",
          "cpa",
          "agile",
          "word",
          "powerpoint",
          "procurement",
          "strong leadership",
          "visio",
          "excel",
          "classification",
          "prediction",
          "microsoft office",
          "cpa",
          "cash flow",
          "strong leadership",
          "fmp",
          "cash flow",
          "auditing",
          "problem solving",
          "fmp",
          "global logistics",
          "access",
          "cloud",
          "excel",
          "access",
          "microsoft office",
          "virtualization",
          "advisory",
          "word",
          "cloud",
          "statistics",
          "ms word",
          "powerpoint",
          "outlook",
          "excel",
          "ice",
          "visualization",
          "client interaction",
          "crm",
          "access",
          "salesforce",
          "global logistics",
          "problem solving",
          "cloud",
          "word",
          "tgt",
          "access",
          "microsoft office",
          "auditing",
          "spring",
          "cloud",
          "access",
          "cloud",
          "word",
          "tgt",
          "cloud",
          "auditing",
          "hyperion",
          "bi",
          "mentorship",
          "oracle",
          "excel",
          "access",
          "excel",
          "word",
          "procurement",
          "auditing",
          "access",
          "powerpoint",
          "product design",
          "qa",
          "erp",
          "cloud",
          "visio",
          "strong leadership",
          "qc",
          "detail oriented"
         ],
         "xaxis": "x",
         "y": [
          62,
          31,
          27,
          20,
          16,
          15,
          12,
          11,
          10,
          9,
          7,
          6,
          6,
          6,
          6,
          5,
          5,
          5,
          4,
          4,
          4,
          4,
          4,
          4,
          2,
          2,
          2,
          2,
          2,
          2,
          133,
          100,
          67,
          33,
          33,
          60,
          38,
          32,
          22,
          21,
          17,
          15,
          10,
          7,
          6,
          5,
          5,
          4,
          4,
          4,
          3,
          3,
          3,
          3,
          3,
          3,
          3,
          2,
          2,
          2,
          2,
          2,
          2,
          2,
          2,
          50,
          50,
          33,
          33,
          33,
          17,
          17,
          17,
          17,
          17,
          43,
          43,
          29,
          29,
          29,
          14,
          14,
          14,
          40,
          20,
          20,
          20,
          20,
          100,
          100,
          33,
          33,
          25,
          25,
          17,
          17,
          8,
          8,
          8,
          8,
          8,
          44,
          44,
          44,
          22,
          22,
          22,
          22,
          11,
          11,
          11,
          11,
          11,
          67,
          50,
          17,
          17,
          17,
          33,
          17,
          17,
          17,
          100,
          67,
          67,
          67,
          67,
          67,
          33,
          33,
          56,
          56,
          33,
          22,
          22,
          22,
          11,
          11,
          11,
          11,
          11,
          11,
          11,
          11
         ],
         "yaxis": "y"
        }
       ],
       "frames": [
        {
         "data": [
          {
           "alignmentgroup": "True",
           "hovertemplate": "Year=2018<br>skill=%{x}<br>cnt=%{y}<extra></extra>",
           "legendgroup": "",
           "marker": {
            "color": "#636efa"
           },
           "name": "",
           "offsetgroup": "",
           "orientation": "v",
           "showlegend": false,
           "textposition": "auto",
           "type": "bar",
           "x": [
            "excel",
            "advisory",
            "auditing",
            "asp",
            "cpa",
            "word",
            "access",
            "visualization",
            "agile",
            "ice",
            "statistics",
            "salesforce",
            "client relationships",
            "procurement",
            "mentorship",
            "cloud",
            "bi",
            "crm",
            "sql",
            "spreadsheets",
            "erp",
            "client interaction",
            "client engagements",
            "powerpoint",
            "hyperion",
            "dashboard",
            "virtualization",
            "cash flow",
            "forecast",
            "oracle",
            "excel",
            "access",
            "kpis",
            "smed",
            "cloud",
            "excel",
            "auditing",
            "cpa",
            "advisory",
            "access",
            "asp",
            "word",
            "powerpoint",
            "agile",
            "statistics",
            "sql",
            "mentorship",
            "php",
            "strong leadership",
            "visualization",
            "bi",
            "windows",
            "cpe",
            "classification",
            "virtualization",
            "forecast",
            "cfa",
            "javascript",
            "sas",
            "cissp",
            "microsoft sql server",
            "time analyst",
            "big data",
            "java",
            "python",
            "auditing",
            "excel",
            "advisory",
            "cpa",
            "agile",
            "word",
            "powerpoint",
            "procurement",
            "strong leadership",
            "visio",
            "excel",
            "classification",
            "prediction",
            "microsoft office",
            "cpa",
            "cash flow",
            "strong leadership",
            "fmp",
            "cash flow",
            "auditing",
            "problem solving",
            "fmp",
            "global logistics",
            "access",
            "cloud",
            "excel",
            "access",
            "microsoft office",
            "virtualization",
            "advisory",
            "word",
            "cloud",
            "statistics",
            "ms word",
            "powerpoint",
            "outlook",
            "excel",
            "ice",
            "visualization",
            "client interaction",
            "crm",
            "access",
            "salesforce",
            "global logistics",
            "problem solving",
            "cloud",
            "word",
            "tgt",
            "access",
            "microsoft office",
            "auditing",
            "spring",
            "cloud",
            "access",
            "cloud",
            "word",
            "tgt",
            "cloud",
            "auditing",
            "hyperion",
            "bi",
            "mentorship",
            "oracle",
            "excel",
            "access",
            "excel",
            "word",
            "procurement",
            "auditing",
            "access",
            "powerpoint",
            "product design",
            "qa",
            "erp",
            "cloud",
            "visio",
            "strong leadership",
            "qc",
            "detail oriented"
           ],
           "xaxis": "x",
           "y": [
            62,
            31,
            27,
            20,
            16,
            15,
            12,
            11,
            10,
            9,
            7,
            6,
            6,
            6,
            6,
            5,
            5,
            5,
            4,
            4,
            4,
            4,
            4,
            4,
            2,
            2,
            2,
            2,
            2,
            2,
            133,
            100,
            67,
            33,
            33,
            60,
            38,
            32,
            22,
            21,
            17,
            15,
            10,
            7,
            6,
            5,
            5,
            4,
            4,
            4,
            3,
            3,
            3,
            3,
            3,
            3,
            3,
            2,
            2,
            2,
            2,
            2,
            2,
            2,
            2,
            50,
            50,
            33,
            33,
            33,
            17,
            17,
            17,
            17,
            17,
            43,
            43,
            29,
            29,
            29,
            14,
            14,
            14,
            40,
            20,
            20,
            20,
            20,
            100,
            100,
            33,
            33,
            25,
            25,
            17,
            17,
            8,
            8,
            8,
            8,
            8,
            44,
            44,
            44,
            22,
            22,
            22,
            22,
            11,
            11,
            11,
            11,
            11,
            67,
            50,
            17,
            17,
            17,
            33,
            17,
            17,
            17,
            100,
            67,
            67,
            67,
            67,
            67,
            33,
            33,
            56,
            56,
            33,
            22,
            22,
            22,
            11,
            11,
            11,
            11,
            11,
            11,
            11,
            11
           ],
           "yaxis": "y"
          }
         ],
         "name": "2018"
        },
        {
         "data": [
          {
           "alignmentgroup": "True",
           "hovertemplate": "Year=2019<br>skill=%{x}<br>cnt=%{y}<extra></extra>",
           "legendgroup": "",
           "marker": {
            "color": "#636efa"
           },
           "name": "",
           "offsetgroup": "",
           "orientation": "v",
           "showlegend": false,
           "textposition": "auto",
           "type": "bar",
           "x": [
            "excel",
            "auditing",
            "advisory",
            "access",
            "statistics",
            "cpa",
            "agile",
            "mentorship",
            "client relationships",
            "word",
            "powerpoint",
            "sql",
            "cissp",
            "asp",
            "client engagements",
            "visualization",
            "virtualization",
            "bi",
            "cloud",
            "oracle",
            "tableau",
            "erp",
            "microsoft word",
            "bain",
            "etl",
            "microsoft sql server",
            "hyperion",
            "sound decisions",
            "time analyst",
            "ssis",
            "access",
            "asp",
            "excel",
            "strong leadership",
            "forecast",
            "statistics",
            "mentorship",
            "kpis",
            "process improvement",
            "sap",
            "jda strategist",
            "bain",
            "spring",
            "probability",
            "leadership skills",
            "transport operations",
            "vlookup",
            "problem solving",
            "roi",
            "bayes",
            "bain",
            "excel",
            "excel",
            "auditing",
            "cpa",
            "advisory",
            "access",
            "word",
            "asp",
            "powerpoint",
            "php",
            "visualization",
            "agile",
            "statistics",
            "sql",
            "ms word",
            "mentorship",
            "tableau",
            "sas",
            "java",
            "windows",
            "spring",
            "bi",
            "prediction",
            "gaas",
            "leadership skills",
            "jquery",
            "time analyst",
            "vba",
            "big data",
            "javascript",
            "strong leadership",
            "spring",
            "auditing",
            "cpa",
            "bain",
            "access",
            "excel",
            "process design",
            "cissp",
            "html",
            "leadership skills",
            "react",
            "bi",
            "graphic design",
            "adobe",
            "css",
            "mentorship",
            "excel",
            "classification",
            "word",
            "bain",
            "bioinformatics",
            "sap",
            "process improvement",
            "access",
            "visio",
            "powerpoint",
            "ms word",
            "cpa",
            "excel",
            "bain",
            "excel",
            "mentorship",
            "access",
            "bain",
            "bayes",
            "hvac",
            "sap",
            "java",
            "procurement",
            "vlookup",
            "clustering",
            "erp",
            "global logistics",
            "nosql",
            "cloud",
            "js",
            "html5",
            "cash flow",
            "excel",
            "bain",
            "excel",
            "access",
            "mentorship",
            "auditing",
            "procurement",
            "fmp",
            "bain",
            "word",
            "java",
            "powerpoint",
            "vlookup",
            "lean six sigma",
            "microsoft word",
            "spring",
            "cloud",
            "js",
            "sap",
            "bayes",
            "html5",
            "nosql",
            "cash flow",
            "excel",
            "access",
            "tgt",
            "virtualization",
            "advisory",
            "bain",
            "agile",
            "auditing",
            "strong leadership",
            "bain",
            "spring",
            "excel",
            "word",
            "access",
            "tgt",
            "bain",
            "excel",
            "team leadership",
            "ecommerce",
            "auditing",
            "excel",
            "bain",
            "access",
            "procurement",
            "cissp",
            "erp",
            "classification",
            "sap",
            "cpa",
            "excel",
            "word",
            "bain",
            "procurement",
            "powerpoint",
            "access",
            "clustering",
            "outlook",
            "state regulations",
            "detail oriented",
            "sql",
            "vba",
            "sound decisions",
            "auditing",
            "microsoft word",
            "sap",
            "bayes",
            "erp",
            "PLCs",
            "global logistics"
           ],
           "xaxis": "x",
           "y": [
            32,
            16,
            12,
            8,
            7,
            6,
            5,
            4,
            4,
            4,
            4,
            4,
            4,
            3,
            3,
            3,
            2,
            2,
            2,
            2,
            2,
            2,
            2,
            2,
            1,
            1,
            1,
            1,
            1,
            1,
            53,
            53,
            41,
            29,
            24,
            18,
            12,
            12,
            12,
            12,
            12,
            12,
            6,
            6,
            6,
            6,
            6,
            6,
            6,
            6,
            100,
            50,
            47,
            34,
            22,
            21,
            18,
            12,
            10,
            10,
            9,
            5,
            5,
            5,
            4,
            3,
            3,
            3,
            3,
            3,
            3,
            3,
            3,
            2,
            2,
            2,
            2,
            2,
            2,
            2,
            2,
            2,
            53,
            20,
            13,
            13,
            13,
            13,
            7,
            7,
            7,
            7,
            7,
            7,
            7,
            7,
            7,
            7,
            75,
            38,
            38,
            25,
            25,
            12,
            12,
            12,
            12,
            12,
            12,
            12,
            67,
            67,
            50,
            25,
            19,
            12,
            12,
            12,
            6,
            6,
            6,
            6,
            6,
            6,
            6,
            6,
            6,
            6,
            6,
            6,
            67,
            67,
            43,
            29,
            21,
            21,
            14,
            14,
            14,
            7,
            7,
            7,
            7,
            7,
            7,
            7,
            7,
            7,
            7,
            7,
            7,
            7,
            7,
            40,
            33,
            27,
            20,
            13,
            13,
            13,
            7,
            7,
            50,
            25,
            25,
            25,
            27,
            27,
            13,
            13,
            7,
            7,
            42,
            42,
            17,
            17,
            17,
            8,
            8,
            8,
            8,
            8,
            79,
            14,
            14,
            14,
            14,
            14,
            7,
            7,
            7,
            7,
            7,
            7,
            7,
            7,
            7,
            7,
            7,
            7,
            7,
            7
           ],
           "yaxis": "y"
          }
         ],
         "name": "2019"
        },
        {
         "data": [
          {
           "alignmentgroup": "True",
           "hovertemplate": "Year=2020<br>skill=%{x}<br>cnt=%{y}<extra></extra>",
           "legendgroup": "",
           "marker": {
            "color": "#636efa"
           },
           "name": "",
           "offsetgroup": "",
           "orientation": "v",
           "showlegend": false,
           "textposition": "auto",
           "type": "bar",
           "x": [
            "asp",
            "excel",
            "auditing",
            "vba",
            "bayes",
            "crm",
            "macros",
            "cloud",
            "cloud computing",
            "mentorship",
            "excel",
            "access",
            "mentorship",
            "macros",
            "vba",
            "excel",
            "macros",
            "vba",
            "bayes",
            "auditing",
            "excel",
            "cpa",
            "asp",
            "advisory",
            "agile",
            "access",
            "visualization",
            "sql",
            "word",
            "bi",
            "vba",
            "tableau",
            "powerbi",
            "windows",
            "sas",
            "java",
            "qlikview",
            "client relationships",
            "html",
            "ajax",
            "javascript",
            "vb",
            "jquery",
            "time management",
            "project management",
            "cfa",
            "mentorship",
            "cissp",
            "spring",
            "asp",
            "excel",
            "vba",
            "normalization",
            "access",
            "ms word",
            "mysql",
            "javascript",
            "css",
            "python",
            "nodejs",
            "macros",
            "powerpoint",
            "outlook",
            "word",
            "mentorship",
            "excel",
            "macros",
            "vba",
            "mentorship",
            "bayes",
            "excel",
            "macros",
            "vba",
            "mentorship",
            "excel",
            "erp",
            "bayes",
            "vba",
            "macros",
            "powerpoint",
            "ms word",
            "word",
            "oracle",
            "procurement",
            "excel",
            "macros",
            "vba",
            "mentorship",
            "excel",
            "macros",
            "vba",
            "mentorship",
            "bayes",
            "excel",
            "access",
            "auditing",
            "advisory",
            "vba",
            "bayes",
            "macros",
            "mentorship",
            "excel",
            "macros",
            "vba",
            "mentorship",
            "excel",
            "access",
            "team leadership",
            "vba",
            "macros",
            "ecommerce",
            "mentorship",
            "asp",
            "excel",
            "macros",
            "vba",
            "salesforce",
            "mentorship",
            "excel",
            "macros",
            "vba",
            "bayes"
           ],
           "xaxis": "x",
           "y": [
            26,
            9,
            5,
            2,
            2,
            2,
            2,
            2,
            2,
            2,
            43,
            29,
            29,
            14,
            14,
            150,
            50,
            50,
            50,
            34,
            29,
            21,
            17,
            17,
            13,
            12,
            8,
            7,
            7,
            5,
            5,
            5,
            4,
            4,
            4,
            4,
            4,
            4,
            4,
            4,
            4,
            4,
            4,
            3,
            3,
            3,
            3,
            1,
            1,
            44,
            33,
            11,
            11,
            11,
            11,
            11,
            11,
            11,
            11,
            11,
            11,
            11,
            11,
            11,
            11,
            100,
            33,
            33,
            33,
            33,
            100,
            33,
            33,
            33,
            71,
            29,
            29,
            14,
            14,
            14,
            14,
            14,
            14,
            14,
            100,
            50,
            50,
            50,
            100,
            33,
            33,
            33,
            33,
            67,
            44,
            22,
            22,
            11,
            11,
            11,
            11,
            100,
            50,
            50,
            50,
            29,
            29,
            14,
            14,
            14,
            14,
            14,
            45,
            27,
            9,
            9,
            9,
            9,
            100,
            33,
            33,
            33
           ],
           "yaxis": "y"
          }
         ],
         "name": "2020"
        },
        {
         "data": [
          {
           "alignmentgroup": "True",
           "hovertemplate": "Year=2014<br>skill=%{x}<br>cnt=%{y}<extra></extra>",
           "legendgroup": "",
           "marker": {
            "color": "#636efa"
           },
           "name": "",
           "offsetgroup": "",
           "orientation": "v",
           "showlegend": false,
           "textposition": "auto",
           "type": "bar",
           "x": [
            "excel",
            "auditing",
            "advisory",
            "powerpoint",
            "cpa",
            "asp",
            "word",
            "access",
            "statistics",
            "sap",
            "virtualization",
            "sequencing",
            "sql",
            "agile",
            "php",
            "forecast",
            "windows",
            "ms word",
            "visualization",
            "outlook",
            "erp",
            "strong leadership",
            "gaas",
            "mentorship",
            "procurement",
            "spring",
            "process design",
            "telecommunication",
            "vb",
            "c4isr"
           ],
           "xaxis": "x",
           "y": [
            42,
            25,
            25,
            16,
            13,
            13,
            11,
            11,
            8,
            5,
            5,
            5,
            4,
            4,
            4,
            3,
            3,
            3,
            2,
            2,
            2,
            2,
            2,
            2,
            2,
            2,
            2,
            1,
            1,
            1
           ],
           "yaxis": "y"
          }
         ],
         "name": "2014"
        },
        {
         "data": [
          {
           "alignmentgroup": "True",
           "hovertemplate": "Year=2015<br>skill=%{x}<br>cnt=%{y}<extra></extra>",
           "legendgroup": "",
           "marker": {
            "color": "#636efa"
           },
           "name": "",
           "offsetgroup": "",
           "orientation": "v",
           "showlegend": false,
           "textposition": "auto",
           "type": "bar",
           "x": [
            "excel",
            "advisory",
            "auditing",
            "powerpoint",
            "word",
            "access",
            "statistics",
            "cpa",
            "asp",
            "forecast",
            "cash flow",
            "virtualization",
            "sql",
            "php",
            "strong leadership",
            "spring",
            "time analyst",
            "html",
            "c4isr",
            "erp",
            "sap",
            "agile",
            "classification",
            "cfa",
            "mentorship",
            "ms word",
            "dashboard",
            "process design",
            "cloud",
            "java"
           ],
           "xaxis": "x",
           "y": [
            43,
            19,
            18,
            15,
            11,
            11,
            9,
            7,
            6,
            5,
            4,
            4,
            4,
            3,
            3,
            3,
            3,
            2,
            2,
            2,
            2,
            2,
            2,
            2,
            2,
            2,
            2,
            2,
            2,
            2
           ],
           "yaxis": "y"
          }
         ],
         "name": "2015"
        },
        {
         "data": [
          {
           "alignmentgroup": "True",
           "hovertemplate": "Year=2016<br>skill=%{x}<br>cnt=%{y}<extra></extra>",
           "legendgroup": "",
           "marker": {
            "color": "#636efa"
           },
           "name": "",
           "offsetgroup": "",
           "orientation": "v",
           "showlegend": false,
           "textposition": "auto",
           "type": "bar",
           "x": [
            "excel",
            "access",
            "word",
            "auditing",
            "powerpoint",
            "advisory",
            "statistics",
            "spring",
            "forecast",
            "cpa",
            "sql",
            "cash flow",
            "virtualization",
            "classification",
            "prediction",
            "agile",
            "spreadsheets",
            "strong leadership",
            "mentorship",
            "time analyst",
            "procurement",
            "dashboard",
            "visio",
            "sas",
            "outlook",
            "telecommunication",
            "kpis",
            "mandarin",
            "bi",
            "malvern"
           ],
           "xaxis": "x",
           "y": [
            38,
            13,
            10,
            10,
            9,
            9,
            7,
            6,
            5,
            5,
            4,
            3,
            3,
            3,
            3,
            3,
            2,
            2,
            2,
            2,
            2,
            2,
            2,
            2,
            1,
            1,
            1,
            1,
            1,
            1
           ],
           "yaxis": "y"
          }
         ],
         "name": "2016"
        },
        {
         "data": [
          {
           "alignmentgroup": "True",
           "hovertemplate": "Year=2017<br>skill=%{x}<br>cnt=%{y}<extra></extra>",
           "legendgroup": "",
           "marker": {
            "color": "#636efa"
           },
           "name": "",
           "offsetgroup": "",
           "orientation": "v",
           "showlegend": false,
           "textposition": "auto",
           "type": "bar",
           "x": [
            "excel",
            "word",
            "powerpoint",
            "access",
            "mentorship",
            "classification",
            "outlook",
            "strong leadership",
            "auditing",
            "spring",
            "advisory",
            "agile",
            "forecast",
            "statistics",
            "sql",
            "sap",
            "cpa",
            "problem solving",
            "cash flow",
            "process design",
            "macros",
            "procurement",
            "telecommunication",
            "malvern",
            "spreadsheets",
            "rfis",
            "python",
            "qa",
            "sharepoint",
            "sequencing"
           ],
           "xaxis": "x",
           "y": [
            38,
            20,
            12,
            11,
            6,
            5,
            5,
            5,
            5,
            5,
            5,
            5,
            5,
            3,
            3,
            3,
            3,
            3,
            3,
            2,
            2,
            2,
            2,
            2,
            2,
            2,
            2,
            2,
            2,
            2
           ],
           "yaxis": "y"
          }
         ],
         "name": "2017"
        }
       ],
       "layout": {
        "barmode": "group",
        "legend": {
         "tracegroupgap": 0
        },
        "margin": {
         "t": 60
        },
        "sliders": [
         {
          "active": 0,
          "currentvalue": {
           "prefix": "Year="
          },
          "len": 0.9,
          "pad": {
           "b": 10,
           "t": 60
          },
          "steps": [
           {
            "args": [
             [
              "2018"
             ],
             {
              "frame": {
               "duration": 0,
               "redraw": true
              },
              "fromcurrent": true,
              "mode": "immediate",
              "transition": {
               "duration": 0,
               "easing": "linear"
              }
             }
            ],
            "label": "2018",
            "method": "animate"
           },
           {
            "args": [
             [
              "2019"
             ],
             {
              "frame": {
               "duration": 0,
               "redraw": true
              },
              "fromcurrent": true,
              "mode": "immediate",
              "transition": {
               "duration": 0,
               "easing": "linear"
              }
             }
            ],
            "label": "2019",
            "method": "animate"
           },
           {
            "args": [
             [
              "2020"
             ],
             {
              "frame": {
               "duration": 0,
               "redraw": true
              },
              "fromcurrent": true,
              "mode": "immediate",
              "transition": {
               "duration": 0,
               "easing": "linear"
              }
             }
            ],
            "label": "2020",
            "method": "animate"
           },
           {
            "args": [
             [
              "2014"
             ],
             {
              "frame": {
               "duration": 0,
               "redraw": true
              },
              "fromcurrent": true,
              "mode": "immediate",
              "transition": {
               "duration": 0,
               "easing": "linear"
              }
             }
            ],
            "label": "2014",
            "method": "animate"
           },
           {
            "args": [
             [
              "2015"
             ],
             {
              "frame": {
               "duration": 0,
               "redraw": true
              },
              "fromcurrent": true,
              "mode": "immediate",
              "transition": {
               "duration": 0,
               "easing": "linear"
              }
             }
            ],
            "label": "2015",
            "method": "animate"
           },
           {
            "args": [
             [
              "2016"
             ],
             {
              "frame": {
               "duration": 0,
               "redraw": true
              },
              "fromcurrent": true,
              "mode": "immediate",
              "transition": {
               "duration": 0,
               "easing": "linear"
              }
             }
            ],
            "label": "2016",
            "method": "animate"
           },
           {
            "args": [
             [
              "2017"
             ],
             {
              "frame": {
               "duration": 0,
               "redraw": true
              },
              "fromcurrent": true,
              "mode": "immediate",
              "transition": {
               "duration": 0,
               "easing": "linear"
              }
             }
            ],
            "label": "2017",
            "method": "animate"
           }
          ],
          "x": 0.1,
          "xanchor": "left",
          "y": 0,
          "yanchor": "top"
         }
        ],
        "template": {
         "data": {
          "bar": [
           {
            "error_x": {
             "color": "#2a3f5f"
            },
            "error_y": {
             "color": "#2a3f5f"
            },
            "marker": {
             "line": {
              "color": "#E5ECF6",
              "width": 0.5
             }
            },
            "type": "bar"
           }
          ],
          "barpolar": [
           {
            "marker": {
             "line": {
              "color": "#E5ECF6",
              "width": 0.5
             }
            },
            "type": "barpolar"
           }
          ],
          "carpet": [
           {
            "aaxis": {
             "endlinecolor": "#2a3f5f",
             "gridcolor": "white",
             "linecolor": "white",
             "minorgridcolor": "white",
             "startlinecolor": "#2a3f5f"
            },
            "baxis": {
             "endlinecolor": "#2a3f5f",
             "gridcolor": "white",
             "linecolor": "white",
             "minorgridcolor": "white",
             "startlinecolor": "#2a3f5f"
            },
            "type": "carpet"
           }
          ],
          "choropleth": [
           {
            "colorbar": {
             "outlinewidth": 0,
             "ticks": ""
            },
            "type": "choropleth"
           }
          ],
          "contour": [
           {
            "colorbar": {
             "outlinewidth": 0,
             "ticks": ""
            },
            "colorscale": [
             [
              0,
              "#0d0887"
             ],
             [
              0.1111111111111111,
              "#46039f"
             ],
             [
              0.2222222222222222,
              "#7201a8"
             ],
             [
              0.3333333333333333,
              "#9c179e"
             ],
             [
              0.4444444444444444,
              "#bd3786"
             ],
             [
              0.5555555555555556,
              "#d8576b"
             ],
             [
              0.6666666666666666,
              "#ed7953"
             ],
             [
              0.7777777777777778,
              "#fb9f3a"
             ],
             [
              0.8888888888888888,
              "#fdca26"
             ],
             [
              1,
              "#f0f921"
             ]
            ],
            "type": "contour"
           }
          ],
          "contourcarpet": [
           {
            "colorbar": {
             "outlinewidth": 0,
             "ticks": ""
            },
            "type": "contourcarpet"
           }
          ],
          "heatmap": [
           {
            "colorbar": {
             "outlinewidth": 0,
             "ticks": ""
            },
            "colorscale": [
             [
              0,
              "#0d0887"
             ],
             [
              0.1111111111111111,
              "#46039f"
             ],
             [
              0.2222222222222222,
              "#7201a8"
             ],
             [
              0.3333333333333333,
              "#9c179e"
             ],
             [
              0.4444444444444444,
              "#bd3786"
             ],
             [
              0.5555555555555556,
              "#d8576b"
             ],
             [
              0.6666666666666666,
              "#ed7953"
             ],
             [
              0.7777777777777778,
              "#fb9f3a"
             ],
             [
              0.8888888888888888,
              "#fdca26"
             ],
             [
              1,
              "#f0f921"
             ]
            ],
            "type": "heatmap"
           }
          ],
          "heatmapgl": [
           {
            "colorbar": {
             "outlinewidth": 0,
             "ticks": ""
            },
            "colorscale": [
             [
              0,
              "#0d0887"
             ],
             [
              0.1111111111111111,
              "#46039f"
             ],
             [
              0.2222222222222222,
              "#7201a8"
             ],
             [
              0.3333333333333333,
              "#9c179e"
             ],
             [
              0.4444444444444444,
              "#bd3786"
             ],
             [
              0.5555555555555556,
              "#d8576b"
             ],
             [
              0.6666666666666666,
              "#ed7953"
             ],
             [
              0.7777777777777778,
              "#fb9f3a"
             ],
             [
              0.8888888888888888,
              "#fdca26"
             ],
             [
              1,
              "#f0f921"
             ]
            ],
            "type": "heatmapgl"
           }
          ],
          "histogram": [
           {
            "marker": {
             "colorbar": {
              "outlinewidth": 0,
              "ticks": ""
             }
            },
            "type": "histogram"
           }
          ],
          "histogram2d": [
           {
            "colorbar": {
             "outlinewidth": 0,
             "ticks": ""
            },
            "colorscale": [
             [
              0,
              "#0d0887"
             ],
             [
              0.1111111111111111,
              "#46039f"
             ],
             [
              0.2222222222222222,
              "#7201a8"
             ],
             [
              0.3333333333333333,
              "#9c179e"
             ],
             [
              0.4444444444444444,
              "#bd3786"
             ],
             [
              0.5555555555555556,
              "#d8576b"
             ],
             [
              0.6666666666666666,
              "#ed7953"
             ],
             [
              0.7777777777777778,
              "#fb9f3a"
             ],
             [
              0.8888888888888888,
              "#fdca26"
             ],
             [
              1,
              "#f0f921"
             ]
            ],
            "type": "histogram2d"
           }
          ],
          "histogram2dcontour": [
           {
            "colorbar": {
             "outlinewidth": 0,
             "ticks": ""
            },
            "colorscale": [
             [
              0,
              "#0d0887"
             ],
             [
              0.1111111111111111,
              "#46039f"
             ],
             [
              0.2222222222222222,
              "#7201a8"
             ],
             [
              0.3333333333333333,
              "#9c179e"
             ],
             [
              0.4444444444444444,
              "#bd3786"
             ],
             [
              0.5555555555555556,
              "#d8576b"
             ],
             [
              0.6666666666666666,
              "#ed7953"
             ],
             [
              0.7777777777777778,
              "#fb9f3a"
             ],
             [
              0.8888888888888888,
              "#fdca26"
             ],
             [
              1,
              "#f0f921"
             ]
            ],
            "type": "histogram2dcontour"
           }
          ],
          "mesh3d": [
           {
            "colorbar": {
             "outlinewidth": 0,
             "ticks": ""
            },
            "type": "mesh3d"
           }
          ],
          "parcoords": [
           {
            "line": {
             "colorbar": {
              "outlinewidth": 0,
              "ticks": ""
             }
            },
            "type": "parcoords"
           }
          ],
          "pie": [
           {
            "automargin": true,
            "type": "pie"
           }
          ],
          "scatter": [
           {
            "marker": {
             "colorbar": {
              "outlinewidth": 0,
              "ticks": ""
             }
            },
            "type": "scatter"
           }
          ],
          "scatter3d": [
           {
            "line": {
             "colorbar": {
              "outlinewidth": 0,
              "ticks": ""
             }
            },
            "marker": {
             "colorbar": {
              "outlinewidth": 0,
              "ticks": ""
             }
            },
            "type": "scatter3d"
           }
          ],
          "scattercarpet": [
           {
            "marker": {
             "colorbar": {
              "outlinewidth": 0,
              "ticks": ""
             }
            },
            "type": "scattercarpet"
           }
          ],
          "scattergeo": [
           {
            "marker": {
             "colorbar": {
              "outlinewidth": 0,
              "ticks": ""
             }
            },
            "type": "scattergeo"
           }
          ],
          "scattergl": [
           {
            "marker": {
             "colorbar": {
              "outlinewidth": 0,
              "ticks": ""
             }
            },
            "type": "scattergl"
           }
          ],
          "scattermapbox": [
           {
            "marker": {
             "colorbar": {
              "outlinewidth": 0,
              "ticks": ""
             }
            },
            "type": "scattermapbox"
           }
          ],
          "scatterpolar": [
           {
            "marker": {
             "colorbar": {
              "outlinewidth": 0,
              "ticks": ""
             }
            },
            "type": "scatterpolar"
           }
          ],
          "scatterpolargl": [
           {
            "marker": {
             "colorbar": {
              "outlinewidth": 0,
              "ticks": ""
             }
            },
            "type": "scatterpolargl"
           }
          ],
          "scatterternary": [
           {
            "marker": {
             "colorbar": {
              "outlinewidth": 0,
              "ticks": ""
             }
            },
            "type": "scatterternary"
           }
          ],
          "surface": [
           {
            "colorbar": {
             "outlinewidth": 0,
             "ticks": ""
            },
            "colorscale": [
             [
              0,
              "#0d0887"
             ],
             [
              0.1111111111111111,
              "#46039f"
             ],
             [
              0.2222222222222222,
              "#7201a8"
             ],
             [
              0.3333333333333333,
              "#9c179e"
             ],
             [
              0.4444444444444444,
              "#bd3786"
             ],
             [
              0.5555555555555556,
              "#d8576b"
             ],
             [
              0.6666666666666666,
              "#ed7953"
             ],
             [
              0.7777777777777778,
              "#fb9f3a"
             ],
             [
              0.8888888888888888,
              "#fdca26"
             ],
             [
              1,
              "#f0f921"
             ]
            ],
            "type": "surface"
           }
          ],
          "table": [
           {
            "cells": {
             "fill": {
              "color": "#EBF0F8"
             },
             "line": {
              "color": "white"
             }
            },
            "header": {
             "fill": {
              "color": "#C8D4E3"
             },
             "line": {
              "color": "white"
             }
            },
            "type": "table"
           }
          ]
         },
         "layout": {
          "annotationdefaults": {
           "arrowcolor": "#2a3f5f",
           "arrowhead": 0,
           "arrowwidth": 1
          },
          "coloraxis": {
           "colorbar": {
            "outlinewidth": 0,
            "ticks": ""
           }
          },
          "colorscale": {
           "diverging": [
            [
             0,
             "#8e0152"
            ],
            [
             0.1,
             "#c51b7d"
            ],
            [
             0.2,
             "#de77ae"
            ],
            [
             0.3,
             "#f1b6da"
            ],
            [
             0.4,
             "#fde0ef"
            ],
            [
             0.5,
             "#f7f7f7"
            ],
            [
             0.6,
             "#e6f5d0"
            ],
            [
             0.7,
             "#b8e186"
            ],
            [
             0.8,
             "#7fbc41"
            ],
            [
             0.9,
             "#4d9221"
            ],
            [
             1,
             "#276419"
            ]
           ],
           "sequential": [
            [
             0,
             "#0d0887"
            ],
            [
             0.1111111111111111,
             "#46039f"
            ],
            [
             0.2222222222222222,
             "#7201a8"
            ],
            [
             0.3333333333333333,
             "#9c179e"
            ],
            [
             0.4444444444444444,
             "#bd3786"
            ],
            [
             0.5555555555555556,
             "#d8576b"
            ],
            [
             0.6666666666666666,
             "#ed7953"
            ],
            [
             0.7777777777777778,
             "#fb9f3a"
            ],
            [
             0.8888888888888888,
             "#fdca26"
            ],
            [
             1,
             "#f0f921"
            ]
           ],
           "sequentialminus": [
            [
             0,
             "#0d0887"
            ],
            [
             0.1111111111111111,
             "#46039f"
            ],
            [
             0.2222222222222222,
             "#7201a8"
            ],
            [
             0.3333333333333333,
             "#9c179e"
            ],
            [
             0.4444444444444444,
             "#bd3786"
            ],
            [
             0.5555555555555556,
             "#d8576b"
            ],
            [
             0.6666666666666666,
             "#ed7953"
            ],
            [
             0.7777777777777778,
             "#fb9f3a"
            ],
            [
             0.8888888888888888,
             "#fdca26"
            ],
            [
             1,
             "#f0f921"
            ]
           ]
          },
          "colorway": [
           "#636efa",
           "#EF553B",
           "#00cc96",
           "#ab63fa",
           "#FFA15A",
           "#19d3f3",
           "#FF6692",
           "#B6E880",
           "#FF97FF",
           "#FECB52"
          ],
          "font": {
           "color": "#2a3f5f"
          },
          "geo": {
           "bgcolor": "white",
           "lakecolor": "white",
           "landcolor": "#E5ECF6",
           "showlakes": true,
           "showland": true,
           "subunitcolor": "white"
          },
          "hoverlabel": {
           "align": "left"
          },
          "hovermode": "closest",
          "mapbox": {
           "style": "light"
          },
          "paper_bgcolor": "white",
          "plot_bgcolor": "#E5ECF6",
          "polar": {
           "angularaxis": {
            "gridcolor": "white",
            "linecolor": "white",
            "ticks": ""
           },
           "bgcolor": "#E5ECF6",
           "radialaxis": {
            "gridcolor": "white",
            "linecolor": "white",
            "ticks": ""
           }
          },
          "scene": {
           "xaxis": {
            "backgroundcolor": "#E5ECF6",
            "gridcolor": "white",
            "gridwidth": 2,
            "linecolor": "white",
            "showbackground": true,
            "ticks": "",
            "zerolinecolor": "white"
           },
           "yaxis": {
            "backgroundcolor": "#E5ECF6",
            "gridcolor": "white",
            "gridwidth": 2,
            "linecolor": "white",
            "showbackground": true,
            "ticks": "",
            "zerolinecolor": "white"
           },
           "zaxis": {
            "backgroundcolor": "#E5ECF6",
            "gridcolor": "white",
            "gridwidth": 2,
            "linecolor": "white",
            "showbackground": true,
            "ticks": "",
            "zerolinecolor": "white"
           }
          },
          "shapedefaults": {
           "line": {
            "color": "#2a3f5f"
           }
          },
          "ternary": {
           "aaxis": {
            "gridcolor": "white",
            "linecolor": "white",
            "ticks": ""
           },
           "baxis": {
            "gridcolor": "white",
            "linecolor": "white",
            "ticks": ""
           },
           "bgcolor": "#E5ECF6",
           "caxis": {
            "gridcolor": "white",
            "linecolor": "white",
            "ticks": ""
           }
          },
          "title": {
           "x": 0.05
          },
          "xaxis": {
           "automargin": true,
           "gridcolor": "white",
           "linecolor": "white",
           "ticks": "",
           "title": {
            "standoff": 15
           },
           "zerolinecolor": "white",
           "zerolinewidth": 2
          },
          "yaxis": {
           "automargin": true,
           "gridcolor": "white",
           "linecolor": "white",
           "ticks": "",
           "title": {
            "standoff": 15
           },
           "zerolinecolor": "white",
           "zerolinewidth": 2
          }
         }
        },
        "updatemenus": [
         {
          "buttons": [
           {
            "args": [
             null,
             {
              "frame": {
               "duration": 500,
               "redraw": true
              },
              "fromcurrent": true,
              "mode": "immediate",
              "transition": {
               "duration": 500,
               "easing": "linear"
              }
             }
            ],
            "label": "&#9654;",
            "method": "animate"
           },
           {
            "args": [
             [
              null
             ],
             {
              "frame": {
               "duration": 0,
               "redraw": true
              },
              "fromcurrent": true,
              "mode": "immediate",
              "transition": {
               "duration": 0,
               "easing": "linear"
              }
             }
            ],
            "label": "&#9724;",
            "method": "animate"
           }
          ],
          "direction": "left",
          "pad": {
           "r": 10,
           "t": 70
          },
          "showactive": false,
          "type": "buttons",
          "x": 0.1,
          "xanchor": "right",
          "y": 0,
          "yanchor": "top"
         }
        ],
        "xaxis": {
         "anchor": "y",
         "domain": [
          0,
          1
         ],
         "tickangle": 45,
         "title": {
          "text": "skill"
         }
        },
        "yaxis": {
         "anchor": "x",
         "domain": [
          0,
          1
         ],
         "title": {
          "text": "cnt"
         }
        }
       }
      },
      "text/html": [
       "<div>\n",
       "        \n",
       "        \n",
       "            <div id=\"0a486680-df86-453b-b945-55adc0e5c2a4\" class=\"plotly-graph-div\" style=\"height:525px; width:100%;\"></div>\n",
       "            <script type=\"text/javascript\">\n",
       "                require([\"plotly\"], function(Plotly) {\n",
       "                    window.PLOTLYENV=window.PLOTLYENV || {};\n",
       "                    \n",
       "                if (document.getElementById(\"0a486680-df86-453b-b945-55adc0e5c2a4\")) {\n",
       "                    Plotly.newPlot(\n",
       "                        '0a486680-df86-453b-b945-55adc0e5c2a4',\n",
       "                        [{\"alignmentgroup\": \"True\", \"hovertemplate\": \"Year=2018<br>skill=%{x}<br>cnt=%{y}<extra></extra>\", \"legendgroup\": \"\", \"marker\": {\"color\": \"#636efa\"}, \"name\": \"\", \"offsetgroup\": \"\", \"orientation\": \"v\", \"showlegend\": false, \"textposition\": \"auto\", \"type\": \"bar\", \"x\": [\"excel\", \"advisory\", \"auditing\", \"asp\", \"cpa\", \"word\", \"access\", \"visualization\", \"agile\", \"ice\", \"statistics\", \"salesforce\", \"client relationships\", \"procurement\", \"mentorship\", \"cloud\", \"bi\", \"crm\", \"sql\", \"spreadsheets\", \"erp\", \"client interaction\", \"client engagements\", \"powerpoint\", \"hyperion\", \"dashboard\", \"virtualization\", \"cash flow\", \"forecast\", \"oracle\", \"excel\", \"access\", \"kpis\", \"smed\", \"cloud\", \"excel\", \"auditing\", \"cpa\", \"advisory\", \"access\", \"asp\", \"word\", \"powerpoint\", \"agile\", \"statistics\", \"sql\", \"mentorship\", \"php\", \"strong leadership\", \"visualization\", \"bi\", \"windows\", \"cpe\", \"classification\", \"virtualization\", \"forecast\", \"cfa\", \"javascript\", \"sas\", \"cissp\", \"microsoft sql server\", \"time analyst\", \"big data\", \"java\", \"python\", \"auditing\", \"excel\", \"advisory\", \"cpa\", \"agile\", \"word\", \"powerpoint\", \"procurement\", \"strong leadership\", \"visio\", \"excel\", \"classification\", \"prediction\", \"microsoft office\", \"cpa\", \"cash flow\", \"strong leadership\", \"fmp\", \"cash flow\", \"auditing\", \"problem solving\", \"fmp\", \"global logistics\", \"access\", \"cloud\", \"excel\", \"access\", \"microsoft office\", \"virtualization\", \"advisory\", \"word\", \"cloud\", \"statistics\", \"ms word\", \"powerpoint\", \"outlook\", \"excel\", \"ice\", \"visualization\", \"client interaction\", \"crm\", \"access\", \"salesforce\", \"global logistics\", \"problem solving\", \"cloud\", \"word\", \"tgt\", \"access\", \"microsoft office\", \"auditing\", \"spring\", \"cloud\", \"access\", \"cloud\", \"word\", \"tgt\", \"cloud\", \"auditing\", \"hyperion\", \"bi\", \"mentorship\", \"oracle\", \"excel\", \"access\", \"excel\", \"word\", \"procurement\", \"auditing\", \"access\", \"powerpoint\", \"product design\", \"qa\", \"erp\", \"cloud\", \"visio\", \"strong leadership\", \"qc\", \"detail oriented\"], \"xaxis\": \"x\", \"y\": [62.0, 31.0, 27.0, 20.0, 16.0, 15.0, 12.0, 11.0, 10.0, 9.0, 7.0, 6.0, 6.0, 6.0, 6.0, 5.0, 5.0, 5.0, 4.0, 4.0, 4.0, 4.0, 4.0, 4.0, 2.0, 2.0, 2.0, 2.0, 2.0, 2.0, 133.0, 100.0, 67.0, 33.0, 33.0, 60.0, 38.0, 32.0, 22.0, 21.0, 17.0, 15.0, 10.0, 7.0, 6.0, 5.0, 5.0, 4.0, 4.0, 4.0, 3.0, 3.0, 3.0, 3.0, 3.0, 3.0, 3.0, 2.0, 2.0, 2.0, 2.0, 2.0, 2.0, 2.0, 2.0, 50.0, 50.0, 33.0, 33.0, 33.0, 17.0, 17.0, 17.0, 17.0, 17.0, 43.0, 43.0, 29.0, 29.0, 29.0, 14.0, 14.0, 14.0, 40.0, 20.0, 20.0, 20.0, 20.0, 100.0, 100.0, 33.0, 33.0, 25.0, 25.0, 17.0, 17.0, 8.0, 8.0, 8.0, 8.0, 8.0, 44.0, 44.0, 44.0, 22.0, 22.0, 22.0, 22.0, 11.0, 11.0, 11.0, 11.0, 11.0, 67.0, 50.0, 17.0, 17.0, 17.0, 33.0, 17.0, 17.0, 17.0, 100.0, 67.0, 67.0, 67.0, 67.0, 67.0, 33.0, 33.0, 56.0, 56.0, 33.0, 22.0, 22.0, 22.0, 11.0, 11.0, 11.0, 11.0, 11.0, 11.0, 11.0, 11.0], \"yaxis\": \"y\"}],\n",
       "                        {\"barmode\": \"group\", \"legend\": {\"tracegroupgap\": 0}, \"margin\": {\"t\": 60}, \"sliders\": [{\"active\": 0, \"currentvalue\": {\"prefix\": \"Year=\"}, \"len\": 0.9, \"pad\": {\"b\": 10, \"t\": 60}, \"steps\": [{\"args\": [[\"2018\"], {\"frame\": {\"duration\": 0, \"redraw\": true}, \"fromcurrent\": true, \"mode\": \"immediate\", \"transition\": {\"duration\": 0, \"easing\": \"linear\"}}], \"label\": \"2018\", \"method\": \"animate\"}, {\"args\": [[\"2019\"], {\"frame\": {\"duration\": 0, \"redraw\": true}, \"fromcurrent\": true, \"mode\": \"immediate\", \"transition\": {\"duration\": 0, \"easing\": \"linear\"}}], \"label\": \"2019\", \"method\": \"animate\"}, {\"args\": [[\"2020\"], {\"frame\": {\"duration\": 0, \"redraw\": true}, \"fromcurrent\": true, \"mode\": \"immediate\", \"transition\": {\"duration\": 0, \"easing\": \"linear\"}}], \"label\": \"2020\", \"method\": \"animate\"}, {\"args\": [[\"2014\"], {\"frame\": {\"duration\": 0, \"redraw\": true}, \"fromcurrent\": true, \"mode\": \"immediate\", \"transition\": {\"duration\": 0, \"easing\": \"linear\"}}], \"label\": \"2014\", \"method\": \"animate\"}, {\"args\": [[\"2015\"], {\"frame\": {\"duration\": 0, \"redraw\": true}, \"fromcurrent\": true, \"mode\": \"immediate\", \"transition\": {\"duration\": 0, \"easing\": \"linear\"}}], \"label\": \"2015\", \"method\": \"animate\"}, {\"args\": [[\"2016\"], {\"frame\": {\"duration\": 0, \"redraw\": true}, \"fromcurrent\": true, \"mode\": \"immediate\", \"transition\": {\"duration\": 0, \"easing\": \"linear\"}}], \"label\": \"2016\", \"method\": \"animate\"}, {\"args\": [[\"2017\"], {\"frame\": {\"duration\": 0, \"redraw\": true}, \"fromcurrent\": true, \"mode\": \"immediate\", \"transition\": {\"duration\": 0, \"easing\": \"linear\"}}], \"label\": \"2017\", \"method\": \"animate\"}], \"x\": 0.1, \"xanchor\": \"left\", \"y\": 0, \"yanchor\": \"top\"}], \"template\": {\"data\": {\"bar\": [{\"error_x\": {\"color\": \"#2a3f5f\"}, \"error_y\": {\"color\": \"#2a3f5f\"}, \"marker\": {\"line\": {\"color\": \"#E5ECF6\", \"width\": 0.5}}, \"type\": \"bar\"}], \"barpolar\": [{\"marker\": {\"line\": {\"color\": \"#E5ECF6\", \"width\": 0.5}}, \"type\": \"barpolar\"}], \"carpet\": [{\"aaxis\": {\"endlinecolor\": \"#2a3f5f\", \"gridcolor\": \"white\", \"linecolor\": \"white\", \"minorgridcolor\": \"white\", \"startlinecolor\": \"#2a3f5f\"}, \"baxis\": {\"endlinecolor\": \"#2a3f5f\", \"gridcolor\": \"white\", \"linecolor\": \"white\", \"minorgridcolor\": \"white\", \"startlinecolor\": \"#2a3f5f\"}, \"type\": \"carpet\"}], \"choropleth\": [{\"colorbar\": {\"outlinewidth\": 0, \"ticks\": \"\"}, \"type\": \"choropleth\"}], \"contour\": [{\"colorbar\": {\"outlinewidth\": 0, \"ticks\": \"\"}, \"colorscale\": [[0.0, \"#0d0887\"], [0.1111111111111111, \"#46039f\"], [0.2222222222222222, \"#7201a8\"], [0.3333333333333333, \"#9c179e\"], [0.4444444444444444, \"#bd3786\"], [0.5555555555555556, \"#d8576b\"], [0.6666666666666666, \"#ed7953\"], [0.7777777777777778, \"#fb9f3a\"], [0.8888888888888888, \"#fdca26\"], [1.0, \"#f0f921\"]], \"type\": \"contour\"}], \"contourcarpet\": [{\"colorbar\": {\"outlinewidth\": 0, \"ticks\": \"\"}, \"type\": \"contourcarpet\"}], \"heatmap\": [{\"colorbar\": {\"outlinewidth\": 0, \"ticks\": \"\"}, \"colorscale\": [[0.0, \"#0d0887\"], [0.1111111111111111, \"#46039f\"], [0.2222222222222222, \"#7201a8\"], [0.3333333333333333, \"#9c179e\"], [0.4444444444444444, \"#bd3786\"], [0.5555555555555556, \"#d8576b\"], [0.6666666666666666, \"#ed7953\"], [0.7777777777777778, \"#fb9f3a\"], [0.8888888888888888, \"#fdca26\"], [1.0, \"#f0f921\"]], \"type\": \"heatmap\"}], \"heatmapgl\": [{\"colorbar\": {\"outlinewidth\": 0, \"ticks\": \"\"}, \"colorscale\": [[0.0, \"#0d0887\"], [0.1111111111111111, \"#46039f\"], [0.2222222222222222, \"#7201a8\"], [0.3333333333333333, \"#9c179e\"], [0.4444444444444444, \"#bd3786\"], [0.5555555555555556, \"#d8576b\"], [0.6666666666666666, \"#ed7953\"], [0.7777777777777778, \"#fb9f3a\"], [0.8888888888888888, \"#fdca26\"], [1.0, \"#f0f921\"]], \"type\": \"heatmapgl\"}], \"histogram\": [{\"marker\": {\"colorbar\": {\"outlinewidth\": 0, \"ticks\": \"\"}}, \"type\": \"histogram\"}], \"histogram2d\": [{\"colorbar\": {\"outlinewidth\": 0, \"ticks\": \"\"}, \"colorscale\": [[0.0, \"#0d0887\"], [0.1111111111111111, \"#46039f\"], [0.2222222222222222, \"#7201a8\"], [0.3333333333333333, \"#9c179e\"], [0.4444444444444444, \"#bd3786\"], [0.5555555555555556, \"#d8576b\"], [0.6666666666666666, \"#ed7953\"], [0.7777777777777778, \"#fb9f3a\"], [0.8888888888888888, \"#fdca26\"], [1.0, \"#f0f921\"]], \"type\": \"histogram2d\"}], \"histogram2dcontour\": [{\"colorbar\": {\"outlinewidth\": 0, \"ticks\": \"\"}, \"colorscale\": [[0.0, \"#0d0887\"], [0.1111111111111111, \"#46039f\"], [0.2222222222222222, \"#7201a8\"], [0.3333333333333333, \"#9c179e\"], [0.4444444444444444, \"#bd3786\"], [0.5555555555555556, \"#d8576b\"], [0.6666666666666666, \"#ed7953\"], [0.7777777777777778, \"#fb9f3a\"], [0.8888888888888888, \"#fdca26\"], [1.0, \"#f0f921\"]], \"type\": \"histogram2dcontour\"}], \"mesh3d\": [{\"colorbar\": {\"outlinewidth\": 0, \"ticks\": \"\"}, \"type\": \"mesh3d\"}], \"parcoords\": [{\"line\": {\"colorbar\": {\"outlinewidth\": 0, \"ticks\": \"\"}}, \"type\": \"parcoords\"}], \"pie\": [{\"automargin\": true, \"type\": \"pie\"}], \"scatter\": [{\"marker\": {\"colorbar\": {\"outlinewidth\": 0, \"ticks\": \"\"}}, \"type\": \"scatter\"}], \"scatter3d\": [{\"line\": {\"colorbar\": {\"outlinewidth\": 0, \"ticks\": \"\"}}, \"marker\": {\"colorbar\": {\"outlinewidth\": 0, \"ticks\": \"\"}}, \"type\": \"scatter3d\"}], \"scattercarpet\": [{\"marker\": {\"colorbar\": {\"outlinewidth\": 0, \"ticks\": \"\"}}, \"type\": \"scattercarpet\"}], \"scattergeo\": [{\"marker\": {\"colorbar\": {\"outlinewidth\": 0, \"ticks\": \"\"}}, \"type\": \"scattergeo\"}], \"scattergl\": [{\"marker\": {\"colorbar\": {\"outlinewidth\": 0, \"ticks\": \"\"}}, \"type\": \"scattergl\"}], \"scattermapbox\": [{\"marker\": {\"colorbar\": {\"outlinewidth\": 0, \"ticks\": \"\"}}, \"type\": \"scattermapbox\"}], \"scatterpolar\": [{\"marker\": {\"colorbar\": {\"outlinewidth\": 0, \"ticks\": \"\"}}, \"type\": \"scatterpolar\"}], \"scatterpolargl\": [{\"marker\": {\"colorbar\": {\"outlinewidth\": 0, \"ticks\": \"\"}}, \"type\": \"scatterpolargl\"}], \"scatterternary\": [{\"marker\": {\"colorbar\": {\"outlinewidth\": 0, \"ticks\": \"\"}}, \"type\": \"scatterternary\"}], \"surface\": [{\"colorbar\": {\"outlinewidth\": 0, \"ticks\": \"\"}, \"colorscale\": [[0.0, \"#0d0887\"], [0.1111111111111111, \"#46039f\"], [0.2222222222222222, \"#7201a8\"], [0.3333333333333333, \"#9c179e\"], [0.4444444444444444, \"#bd3786\"], [0.5555555555555556, \"#d8576b\"], [0.6666666666666666, \"#ed7953\"], [0.7777777777777778, \"#fb9f3a\"], [0.8888888888888888, \"#fdca26\"], [1.0, \"#f0f921\"]], \"type\": \"surface\"}], \"table\": [{\"cells\": {\"fill\": {\"color\": \"#EBF0F8\"}, \"line\": {\"color\": \"white\"}}, \"header\": {\"fill\": {\"color\": \"#C8D4E3\"}, \"line\": {\"color\": \"white\"}}, \"type\": \"table\"}]}, \"layout\": {\"annotationdefaults\": {\"arrowcolor\": \"#2a3f5f\", \"arrowhead\": 0, \"arrowwidth\": 1}, \"coloraxis\": {\"colorbar\": {\"outlinewidth\": 0, \"ticks\": \"\"}}, \"colorscale\": {\"diverging\": [[0, \"#8e0152\"], [0.1, \"#c51b7d\"], [0.2, \"#de77ae\"], [0.3, \"#f1b6da\"], [0.4, \"#fde0ef\"], [0.5, \"#f7f7f7\"], [0.6, \"#e6f5d0\"], [0.7, \"#b8e186\"], [0.8, \"#7fbc41\"], [0.9, \"#4d9221\"], [1, \"#276419\"]], \"sequential\": [[0.0, \"#0d0887\"], [0.1111111111111111, \"#46039f\"], [0.2222222222222222, \"#7201a8\"], [0.3333333333333333, \"#9c179e\"], [0.4444444444444444, \"#bd3786\"], [0.5555555555555556, \"#d8576b\"], [0.6666666666666666, \"#ed7953\"], [0.7777777777777778, \"#fb9f3a\"], [0.8888888888888888, \"#fdca26\"], [1.0, \"#f0f921\"]], \"sequentialminus\": [[0.0, \"#0d0887\"], [0.1111111111111111, \"#46039f\"], [0.2222222222222222, \"#7201a8\"], [0.3333333333333333, \"#9c179e\"], [0.4444444444444444, \"#bd3786\"], [0.5555555555555556, \"#d8576b\"], [0.6666666666666666, \"#ed7953\"], [0.7777777777777778, \"#fb9f3a\"], [0.8888888888888888, \"#fdca26\"], [1.0, \"#f0f921\"]]}, \"colorway\": [\"#636efa\", \"#EF553B\", \"#00cc96\", \"#ab63fa\", \"#FFA15A\", \"#19d3f3\", \"#FF6692\", \"#B6E880\", \"#FF97FF\", \"#FECB52\"], \"font\": {\"color\": \"#2a3f5f\"}, \"geo\": {\"bgcolor\": \"white\", \"lakecolor\": \"white\", \"landcolor\": \"#E5ECF6\", \"showlakes\": true, \"showland\": true, \"subunitcolor\": \"white\"}, \"hoverlabel\": {\"align\": \"left\"}, \"hovermode\": \"closest\", \"mapbox\": {\"style\": \"light\"}, \"paper_bgcolor\": \"white\", \"plot_bgcolor\": \"#E5ECF6\", \"polar\": {\"angularaxis\": {\"gridcolor\": \"white\", \"linecolor\": \"white\", \"ticks\": \"\"}, \"bgcolor\": \"#E5ECF6\", \"radialaxis\": {\"gridcolor\": \"white\", \"linecolor\": \"white\", \"ticks\": \"\"}}, \"scene\": {\"xaxis\": {\"backgroundcolor\": \"#E5ECF6\", \"gridcolor\": \"white\", \"gridwidth\": 2, \"linecolor\": \"white\", \"showbackground\": true, \"ticks\": \"\", \"zerolinecolor\": \"white\"}, \"yaxis\": {\"backgroundcolor\": \"#E5ECF6\", \"gridcolor\": \"white\", \"gridwidth\": 2, \"linecolor\": \"white\", \"showbackground\": true, \"ticks\": \"\", \"zerolinecolor\": \"white\"}, \"zaxis\": {\"backgroundcolor\": \"#E5ECF6\", \"gridcolor\": \"white\", \"gridwidth\": 2, \"linecolor\": \"white\", \"showbackground\": true, \"ticks\": \"\", \"zerolinecolor\": \"white\"}}, \"shapedefaults\": {\"line\": {\"color\": \"#2a3f5f\"}}, \"ternary\": {\"aaxis\": {\"gridcolor\": \"white\", \"linecolor\": \"white\", \"ticks\": \"\"}, \"baxis\": {\"gridcolor\": \"white\", \"linecolor\": \"white\", \"ticks\": \"\"}, \"bgcolor\": \"#E5ECF6\", \"caxis\": {\"gridcolor\": \"white\", \"linecolor\": \"white\", \"ticks\": \"\"}}, \"title\": {\"x\": 0.05}, \"xaxis\": {\"automargin\": true, \"gridcolor\": \"white\", \"linecolor\": \"white\", \"ticks\": \"\", \"title\": {\"standoff\": 15}, \"zerolinecolor\": \"white\", \"zerolinewidth\": 2}, \"yaxis\": {\"automargin\": true, \"gridcolor\": \"white\", \"linecolor\": \"white\", \"ticks\": \"\", \"title\": {\"standoff\": 15}, \"zerolinecolor\": \"white\", \"zerolinewidth\": 2}}}, \"updatemenus\": [{\"buttons\": [{\"args\": [null, {\"frame\": {\"duration\": 500, \"redraw\": true}, \"fromcurrent\": true, \"mode\": \"immediate\", \"transition\": {\"duration\": 500, \"easing\": \"linear\"}}], \"label\": \"&#9654;\", \"method\": \"animate\"}, {\"args\": [[null], {\"frame\": {\"duration\": 0, \"redraw\": true}, \"fromcurrent\": true, \"mode\": \"immediate\", \"transition\": {\"duration\": 0, \"easing\": \"linear\"}}], \"label\": \"&#9724;\", \"method\": \"animate\"}], \"direction\": \"left\", \"pad\": {\"r\": 10, \"t\": 70}, \"showactive\": false, \"type\": \"buttons\", \"x\": 0.1, \"xanchor\": \"right\", \"y\": 0, \"yanchor\": \"top\"}], \"xaxis\": {\"anchor\": \"y\", \"domain\": [0.0, 1.0], \"tickangle\": 45, \"title\": {\"text\": \"skill\"}}, \"yaxis\": {\"anchor\": \"x\", \"domain\": [0.0, 1.0], \"title\": {\"text\": \"cnt\"}}},\n",
       "                        {\"responsive\": true}\n",
       "                    ).then(function(){\n",
       "                            Plotly.addFrames('0a486680-df86-453b-b945-55adc0e5c2a4', [{\"data\": [{\"alignmentgroup\": \"True\", \"hovertemplate\": \"Year=2018<br>skill=%{x}<br>cnt=%{y}<extra></extra>\", \"legendgroup\": \"\", \"marker\": {\"color\": \"#636efa\"}, \"name\": \"\", \"offsetgroup\": \"\", \"orientation\": \"v\", \"showlegend\": false, \"textposition\": \"auto\", \"x\": [\"excel\", \"advisory\", \"auditing\", \"asp\", \"cpa\", \"word\", \"access\", \"visualization\", \"agile\", \"ice\", \"statistics\", \"salesforce\", \"client relationships\", \"procurement\", \"mentorship\", \"cloud\", \"bi\", \"crm\", \"sql\", \"spreadsheets\", \"erp\", \"client interaction\", \"client engagements\", \"powerpoint\", \"hyperion\", \"dashboard\", \"virtualization\", \"cash flow\", \"forecast\", \"oracle\", \"excel\", \"access\", \"kpis\", \"smed\", \"cloud\", \"excel\", \"auditing\", \"cpa\", \"advisory\", \"access\", \"asp\", \"word\", \"powerpoint\", \"agile\", \"statistics\", \"sql\", \"mentorship\", \"php\", \"strong leadership\", \"visualization\", \"bi\", \"windows\", \"cpe\", \"classification\", \"virtualization\", \"forecast\", \"cfa\", \"javascript\", \"sas\", \"cissp\", \"microsoft sql server\", \"time analyst\", \"big data\", \"java\", \"python\", \"auditing\", \"excel\", \"advisory\", \"cpa\", \"agile\", \"word\", \"powerpoint\", \"procurement\", \"strong leadership\", \"visio\", \"excel\", \"classification\", \"prediction\", \"microsoft office\", \"cpa\", \"cash flow\", \"strong leadership\", \"fmp\", \"cash flow\", \"auditing\", \"problem solving\", \"fmp\", \"global logistics\", \"access\", \"cloud\", \"excel\", \"access\", \"microsoft office\", \"virtualization\", \"advisory\", \"word\", \"cloud\", \"statistics\", \"ms word\", \"powerpoint\", \"outlook\", \"excel\", \"ice\", \"visualization\", \"client interaction\", \"crm\", \"access\", \"salesforce\", \"global logistics\", \"problem solving\", \"cloud\", \"word\", \"tgt\", \"access\", \"microsoft office\", \"auditing\", \"spring\", \"cloud\", \"access\", \"cloud\", \"word\", \"tgt\", \"cloud\", \"auditing\", \"hyperion\", \"bi\", \"mentorship\", \"oracle\", \"excel\", \"access\", \"excel\", \"word\", \"procurement\", \"auditing\", \"access\", \"powerpoint\", \"product design\", \"qa\", \"erp\", \"cloud\", \"visio\", \"strong leadership\", \"qc\", \"detail oriented\"], \"xaxis\": \"x\", \"y\": [62.0, 31.0, 27.0, 20.0, 16.0, 15.0, 12.0, 11.0, 10.0, 9.0, 7.0, 6.0, 6.0, 6.0, 6.0, 5.0, 5.0, 5.0, 4.0, 4.0, 4.0, 4.0, 4.0, 4.0, 2.0, 2.0, 2.0, 2.0, 2.0, 2.0, 133.0, 100.0, 67.0, 33.0, 33.0, 60.0, 38.0, 32.0, 22.0, 21.0, 17.0, 15.0, 10.0, 7.0, 6.0, 5.0, 5.0, 4.0, 4.0, 4.0, 3.0, 3.0, 3.0, 3.0, 3.0, 3.0, 3.0, 2.0, 2.0, 2.0, 2.0, 2.0, 2.0, 2.0, 2.0, 50.0, 50.0, 33.0, 33.0, 33.0, 17.0, 17.0, 17.0, 17.0, 17.0, 43.0, 43.0, 29.0, 29.0, 29.0, 14.0, 14.0, 14.0, 40.0, 20.0, 20.0, 20.0, 20.0, 100.0, 100.0, 33.0, 33.0, 25.0, 25.0, 17.0, 17.0, 8.0, 8.0, 8.0, 8.0, 8.0, 44.0, 44.0, 44.0, 22.0, 22.0, 22.0, 22.0, 11.0, 11.0, 11.0, 11.0, 11.0, 67.0, 50.0, 17.0, 17.0, 17.0, 33.0, 17.0, 17.0, 17.0, 100.0, 67.0, 67.0, 67.0, 67.0, 67.0, 33.0, 33.0, 56.0, 56.0, 33.0, 22.0, 22.0, 22.0, 11.0, 11.0, 11.0, 11.0, 11.0, 11.0, 11.0, 11.0], \"yaxis\": \"y\", \"type\": \"bar\"}], \"name\": \"2018\"}, {\"data\": [{\"alignmentgroup\": \"True\", \"hovertemplate\": \"Year=2019<br>skill=%{x}<br>cnt=%{y}<extra></extra>\", \"legendgroup\": \"\", \"marker\": {\"color\": \"#636efa\"}, \"name\": \"\", \"offsetgroup\": \"\", \"orientation\": \"v\", \"showlegend\": false, \"textposition\": \"auto\", \"x\": [\"excel\", \"auditing\", \"advisory\", \"access\", \"statistics\", \"cpa\", \"agile\", \"mentorship\", \"client relationships\", \"word\", \"powerpoint\", \"sql\", \"cissp\", \"asp\", \"client engagements\", \"visualization\", \"virtualization\", \"bi\", \"cloud\", \"oracle\", \"tableau\", \"erp\", \"microsoft word\", \"bain\", \"etl\", \"microsoft sql server\", \"hyperion\", \"sound decisions\", \"time analyst\", \"ssis\", \"access\", \"asp\", \"excel\", \"strong leadership\", \"forecast\", \"statistics\", \"mentorship\", \"kpis\", \"process improvement\", \"sap\", \"jda strategist\", \"bain\", \"spring\", \"probability\", \"leadership skills\", \"transport operations\", \"vlookup\", \"problem solving\", \"roi\", \"bayes\", \"bain\", \"excel\", \"excel\", \"auditing\", \"cpa\", \"advisory\", \"access\", \"word\", \"asp\", \"powerpoint\", \"php\", \"visualization\", \"agile\", \"statistics\", \"sql\", \"ms word\", \"mentorship\", \"tableau\", \"sas\", \"java\", \"windows\", \"spring\", \"bi\", \"prediction\", \"gaas\", \"leadership skills\", \"jquery\", \"time analyst\", \"vba\", \"big data\", \"javascript\", \"strong leadership\", \"spring\", \"auditing\", \"cpa\", \"bain\", \"access\", \"excel\", \"process design\", \"cissp\", \"html\", \"leadership skills\", \"react\", \"bi\", \"graphic design\", \"adobe\", \"css\", \"mentorship\", \"excel\", \"classification\", \"word\", \"bain\", \"bioinformatics\", \"sap\", \"process improvement\", \"access\", \"visio\", \"powerpoint\", \"ms word\", \"cpa\", \"excel\", \"bain\", \"excel\", \"mentorship\", \"access\", \"bain\", \"bayes\", \"hvac\", \"sap\", \"java\", \"procurement\", \"vlookup\", \"clustering\", \"erp\", \"global logistics\", \"nosql\", \"cloud\", \"js\", \"html5\", \"cash flow\", \"excel\", \"bain\", \"excel\", \"access\", \"mentorship\", \"auditing\", \"procurement\", \"fmp\", \"bain\", \"word\", \"java\", \"powerpoint\", \"vlookup\", \"lean six sigma\", \"microsoft word\", \"spring\", \"cloud\", \"js\", \"sap\", \"bayes\", \"html5\", \"nosql\", \"cash flow\", \"excel\", \"access\", \"tgt\", \"virtualization\", \"advisory\", \"bain\", \"agile\", \"auditing\", \"strong leadership\", \"bain\", \"spring\", \"excel\", \"word\", \"access\", \"tgt\", \"bain\", \"excel\", \"team leadership\", \"ecommerce\", \"auditing\", \"excel\", \"bain\", \"access\", \"procurement\", \"cissp\", \"erp\", \"classification\", \"sap\", \"cpa\", \"excel\", \"word\", \"bain\", \"procurement\", \"powerpoint\", \"access\", \"clustering\", \"outlook\", \"state regulations\", \"detail oriented\", \"sql\", \"vba\", \"sound decisions\", \"auditing\", \"microsoft word\", \"sap\", \"bayes\", \"erp\", \"PLCs\", \"global logistics\"], \"xaxis\": \"x\", \"y\": [32.0, 16.0, 12.0, 8.0, 7.0, 6.0, 5.0, 4.0, 4.0, 4.0, 4.0, 4.0, 4.0, 3.0, 3.0, 3.0, 2.0, 2.0, 2.0, 2.0, 2.0, 2.0, 2.0, 2.0, 1.0, 1.0, 1.0, 1.0, 1.0, 1.0, 53.0, 53.0, 41.0, 29.0, 24.0, 18.0, 12.0, 12.0, 12.0, 12.0, 12.0, 12.0, 6.0, 6.0, 6.0, 6.0, 6.0, 6.0, 6.0, 6.0, 100.0, 50.0, 47.0, 34.0, 22.0, 21.0, 18.0, 12.0, 10.0, 10.0, 9.0, 5.0, 5.0, 5.0, 4.0, 3.0, 3.0, 3.0, 3.0, 3.0, 3.0, 3.0, 3.0, 2.0, 2.0, 2.0, 2.0, 2.0, 2.0, 2.0, 2.0, 2.0, 53.0, 20.0, 13.0, 13.0, 13.0, 13.0, 7.0, 7.0, 7.0, 7.0, 7.0, 7.0, 7.0, 7.0, 7.0, 7.0, 75.0, 38.0, 38.0, 25.0, 25.0, 12.0, 12.0, 12.0, 12.0, 12.0, 12.0, 12.0, 67.0, 67.0, 50.0, 25.0, 19.0, 12.0, 12.0, 12.0, 6.0, 6.0, 6.0, 6.0, 6.0, 6.0, 6.0, 6.0, 6.0, 6.0, 6.0, 6.0, 67.0, 67.0, 43.0, 29.0, 21.0, 21.0, 14.0, 14.0, 14.0, 7.0, 7.0, 7.0, 7.0, 7.0, 7.0, 7.0, 7.0, 7.0, 7.0, 7.0, 7.0, 7.0, 7.0, 40.0, 33.0, 27.0, 20.0, 13.0, 13.0, 13.0, 7.0, 7.0, 50.0, 25.0, 25.0, 25.0, 27.0, 27.0, 13.0, 13.0, 7.0, 7.0, 42.0, 42.0, 17.0, 17.0, 17.0, 8.0, 8.0, 8.0, 8.0, 8.0, 79.0, 14.0, 14.0, 14.0, 14.0, 14.0, 7.0, 7.0, 7.0, 7.0, 7.0, 7.0, 7.0, 7.0, 7.0, 7.0, 7.0, 7.0, 7.0, 7.0], \"yaxis\": \"y\", \"type\": \"bar\"}], \"name\": \"2019\"}, {\"data\": [{\"alignmentgroup\": \"True\", \"hovertemplate\": \"Year=2020<br>skill=%{x}<br>cnt=%{y}<extra></extra>\", \"legendgroup\": \"\", \"marker\": {\"color\": \"#636efa\"}, \"name\": \"\", \"offsetgroup\": \"\", \"orientation\": \"v\", \"showlegend\": false, \"textposition\": \"auto\", \"x\": [\"asp\", \"excel\", \"auditing\", \"vba\", \"bayes\", \"crm\", \"macros\", \"cloud\", \"cloud computing\", \"mentorship\", \"excel\", \"access\", \"mentorship\", \"macros\", \"vba\", \"excel\", \"macros\", \"vba\", \"bayes\", \"auditing\", \"excel\", \"cpa\", \"asp\", \"advisory\", \"agile\", \"access\", \"visualization\", \"sql\", \"word\", \"bi\", \"vba\", \"tableau\", \"powerbi\", \"windows\", \"sas\", \"java\", \"qlikview\", \"client relationships\", \"html\", \"ajax\", \"javascript\", \"vb\", \"jquery\", \"time management\", \"project management\", \"cfa\", \"mentorship\", \"cissp\", \"spring\", \"asp\", \"excel\", \"vba\", \"normalization\", \"access\", \"ms word\", \"mysql\", \"javascript\", \"css\", \"python\", \"nodejs\", \"macros\", \"powerpoint\", \"outlook\", \"word\", \"mentorship\", \"excel\", \"macros\", \"vba\", \"mentorship\", \"bayes\", \"excel\", \"macros\", \"vba\", \"mentorship\", \"excel\", \"erp\", \"bayes\", \"vba\", \"macros\", \"powerpoint\", \"ms word\", \"word\", \"oracle\", \"procurement\", \"excel\", \"macros\", \"vba\", \"mentorship\", \"excel\", \"macros\", \"vba\", \"mentorship\", \"bayes\", \"excel\", \"access\", \"auditing\", \"advisory\", \"vba\", \"bayes\", \"macros\", \"mentorship\", \"excel\", \"macros\", \"vba\", \"mentorship\", \"excel\", \"access\", \"team leadership\", \"vba\", \"macros\", \"ecommerce\", \"mentorship\", \"asp\", \"excel\", \"macros\", \"vba\", \"salesforce\", \"mentorship\", \"excel\", \"macros\", \"vba\", \"bayes\"], \"xaxis\": \"x\", \"y\": [26.0, 9.0, 5.0, 2.0, 2.0, 2.0, 2.0, 2.0, 2.0, 2.0, 43.0, 29.0, 29.0, 14.0, 14.0, 150.0, 50.0, 50.0, 50.0, 34.0, 29.0, 21.0, 17.0, 17.0, 13.0, 12.0, 8.0, 7.0, 7.0, 5.0, 5.0, 5.0, 4.0, 4.0, 4.0, 4.0, 4.0, 4.0, 4.0, 4.0, 4.0, 4.0, 4.0, 3.0, 3.0, 3.0, 3.0, 1.0, 1.0, 44.0, 33.0, 11.0, 11.0, 11.0, 11.0, 11.0, 11.0, 11.0, 11.0, 11.0, 11.0, 11.0, 11.0, 11.0, 11.0, 100.0, 33.0, 33.0, 33.0, 33.0, 100.0, 33.0, 33.0, 33.0, 71.0, 29.0, 29.0, 14.0, 14.0, 14.0, 14.0, 14.0, 14.0, 14.0, 100.0, 50.0, 50.0, 50.0, 100.0, 33.0, 33.0, 33.0, 33.0, 67.0, 44.0, 22.0, 22.0, 11.0, 11.0, 11.0, 11.0, 100.0, 50.0, 50.0, 50.0, 29.0, 29.0, 14.0, 14.0, 14.0, 14.0, 14.0, 45.0, 27.0, 9.0, 9.0, 9.0, 9.0, 100.0, 33.0, 33.0, 33.0], \"yaxis\": \"y\", \"type\": \"bar\"}], \"name\": \"2020\"}, {\"data\": [{\"alignmentgroup\": \"True\", \"hovertemplate\": \"Year=2014<br>skill=%{x}<br>cnt=%{y}<extra></extra>\", \"legendgroup\": \"\", \"marker\": {\"color\": \"#636efa\"}, \"name\": \"\", \"offsetgroup\": \"\", \"orientation\": \"v\", \"showlegend\": false, \"textposition\": \"auto\", \"x\": [\"excel\", \"auditing\", \"advisory\", \"powerpoint\", \"cpa\", \"asp\", \"word\", \"access\", \"statistics\", \"sap\", \"virtualization\", \"sequencing\", \"sql\", \"agile\", \"php\", \"forecast\", \"windows\", \"ms word\", \"visualization\", \"outlook\", \"erp\", \"strong leadership\", \"gaas\", \"mentorship\", \"procurement\", \"spring\", \"process design\", \"telecommunication\", \"vb\", \"c4isr\"], \"xaxis\": \"x\", \"y\": [42.0, 25.0, 25.0, 16.0, 13.0, 13.0, 11.0, 11.0, 8.0, 5.0, 5.0, 5.0, 4.0, 4.0, 4.0, 3.0, 3.0, 3.0, 2.0, 2.0, 2.0, 2.0, 2.0, 2.0, 2.0, 2.0, 2.0, 1.0, 1.0, 1.0], \"yaxis\": \"y\", \"type\": \"bar\"}], \"name\": \"2014\"}, {\"data\": [{\"alignmentgroup\": \"True\", \"hovertemplate\": \"Year=2015<br>skill=%{x}<br>cnt=%{y}<extra></extra>\", \"legendgroup\": \"\", \"marker\": {\"color\": \"#636efa\"}, \"name\": \"\", \"offsetgroup\": \"\", \"orientation\": \"v\", \"showlegend\": false, \"textposition\": \"auto\", \"x\": [\"excel\", \"advisory\", \"auditing\", \"powerpoint\", \"word\", \"access\", \"statistics\", \"cpa\", \"asp\", \"forecast\", \"cash flow\", \"virtualization\", \"sql\", \"php\", \"strong leadership\", \"spring\", \"time analyst\", \"html\", \"c4isr\", \"erp\", \"sap\", \"agile\", \"classification\", \"cfa\", \"mentorship\", \"ms word\", \"dashboard\", \"process design\", \"cloud\", \"java\"], \"xaxis\": \"x\", \"y\": [43.0, 19.0, 18.0, 15.0, 11.0, 11.0, 9.0, 7.0, 6.0, 5.0, 4.0, 4.0, 4.0, 3.0, 3.0, 3.0, 3.0, 2.0, 2.0, 2.0, 2.0, 2.0, 2.0, 2.0, 2.0, 2.0, 2.0, 2.0, 2.0, 2.0], \"yaxis\": \"y\", \"type\": \"bar\"}], \"name\": \"2015\"}, {\"data\": [{\"alignmentgroup\": \"True\", \"hovertemplate\": \"Year=2016<br>skill=%{x}<br>cnt=%{y}<extra></extra>\", \"legendgroup\": \"\", \"marker\": {\"color\": \"#636efa\"}, \"name\": \"\", \"offsetgroup\": \"\", \"orientation\": \"v\", \"showlegend\": false, \"textposition\": \"auto\", \"x\": [\"excel\", \"access\", \"word\", \"auditing\", \"powerpoint\", \"advisory\", \"statistics\", \"spring\", \"forecast\", \"cpa\", \"sql\", \"cash flow\", \"virtualization\", \"classification\", \"prediction\", \"agile\", \"spreadsheets\", \"strong leadership\", \"mentorship\", \"time analyst\", \"procurement\", \"dashboard\", \"visio\", \"sas\", \"outlook\", \"telecommunication\", \"kpis\", \"mandarin\", \"bi\", \"malvern\"], \"xaxis\": \"x\", \"y\": [38.0, 13.0, 10.0, 10.0, 9.0, 9.0, 7.0, 6.0, 5.0, 5.0, 4.0, 3.0, 3.0, 3.0, 3.0, 3.0, 2.0, 2.0, 2.0, 2.0, 2.0, 2.0, 2.0, 2.0, 1.0, 1.0, 1.0, 1.0, 1.0, 1.0], \"yaxis\": \"y\", \"type\": \"bar\"}], \"name\": \"2016\"}, {\"data\": [{\"alignmentgroup\": \"True\", \"hovertemplate\": \"Year=2017<br>skill=%{x}<br>cnt=%{y}<extra></extra>\", \"legendgroup\": \"\", \"marker\": {\"color\": \"#636efa\"}, \"name\": \"\", \"offsetgroup\": \"\", \"orientation\": \"v\", \"showlegend\": false, \"textposition\": \"auto\", \"x\": [\"excel\", \"word\", \"powerpoint\", \"access\", \"mentorship\", \"classification\", \"outlook\", \"strong leadership\", \"auditing\", \"spring\", \"advisory\", \"agile\", \"forecast\", \"statistics\", \"sql\", \"sap\", \"cpa\", \"problem solving\", \"cash flow\", \"process design\", \"macros\", \"procurement\", \"telecommunication\", \"malvern\", \"spreadsheets\", \"rfis\", \"python\", \"qa\", \"sharepoint\", \"sequencing\"], \"xaxis\": \"x\", \"y\": [38.0, 20.0, 12.0, 11.0, 6.0, 5.0, 5.0, 5.0, 5.0, 5.0, 5.0, 5.0, 5.0, 3.0, 3.0, 3.0, 3.0, 3.0, 3.0, 2.0, 2.0, 2.0, 2.0, 2.0, 2.0, 2.0, 2.0, 2.0, 2.0, 2.0], \"yaxis\": \"y\", \"type\": \"bar\"}], \"name\": \"2017\"}]);\n",
       "                        }).then(function(){\n",
       "                            \n",
       "var gd = document.getElementById('0a486680-df86-453b-b945-55adc0e5c2a4');\n",
       "var x = new MutationObserver(function (mutations, observer) {{\n",
       "        var display = window.getComputedStyle(gd).display;\n",
       "        if (!display || display === 'none') {{\n",
       "            console.log([gd, 'removed!']);\n",
       "            Plotly.purge(gd);\n",
       "            observer.disconnect();\n",
       "        }}\n",
       "}});\n",
       "\n",
       "// Listen for the removal of the full notebook cells\n",
       "var notebookContainer = gd.closest('#notebook-container');\n",
       "if (notebookContainer) {{\n",
       "    x.observe(notebookContainer, {childList: true});\n",
       "}}\n",
       "\n",
       "// Listen for the clearing of the current output cell\n",
       "var outputEl = gd.closest('.output');\n",
       "if (outputEl) {{\n",
       "    x.observe(outputEl, {childList: true});\n",
       "}}\n",
       "\n",
       "                        })\n",
       "                };\n",
       "                });\n",
       "            </script>\n",
       "        </div>"
      ]
     },
     "metadata": {},
     "output_type": "display_data"
    }
   ],
   "source": [
    "# Visualizing Skills\n",
    "df_skills_top[\"Year\"] = df_skills_top[\"Year\"].astype(str)\n",
    "\n",
    "import plotly.express as px\n",
    "\n",
    "fig = px.bar(df_skills_top, x=\"skill\", y=\"cnt\", animation_frame ='Year', barmode = 'group')\n",
    "fig.update_layout(barmode='group', xaxis_tickangle=45)\n",
    "fig.show()"
   ]
  },
  {
   "cell_type": "code",
   "execution_count": 94,
   "metadata": {},
   "outputs": [],
   "source": [
    "df_skills_top['On Campus'] = 'OCI'"
   ]
  },
  {
   "cell_type": "code",
   "execution_count": 95,
   "metadata": {},
   "outputs": [],
   "source": [
    "# create the list of degree.\n",
    "df_degrees = pd.DataFrame(data={'cnt': degree_list, \n",
    "                                'Year': degree_year, \n",
    "                                'Job Function': JobFunction_deg, \n",
    "                                'Postingcount': postings_degree})\n",
    "df_degrees['degree_type'] = ''\n",
    "\n",
    "\n",
    "msk = df_degrees['cnt'] == 1\n",
    "df_degrees.loc[msk, 'degree_type'] = 'bachelors'\n",
    "\n",
    "msk = df_degrees['cnt'] == 2\n",
    "df_degrees.loc[msk, 'degree_type'] = 'masters'\n",
    "\n",
    "msk = df_degrees['cnt'] == 3\n",
    "df_degrees.loc[msk, 'degree_type'] = 'phd'\n",
    "\n",
    "msk = df_degrees['cnt'] == 4\n",
    "df_degrees.loc[msk, 'degree_type'] = 'postdoc'\n",
    "\n",
    "msk = df_degrees['cnt'] == 2.5\n",
    "df_degrees.loc[msk, 'degree_type'] = 'mba'\n",
    "\n",
    "msk = df_degrees['cnt'] > 500\n",
    "df_degrees.loc[msk, 'degree_type'] = 'not specified'\n",
    "\n",
    "\n",
    "df_degree_cnt = df_degrees['degree_type'].value_counts().reset_index().rename(columns={'index': 'degree'}).iloc[:50]\n"
   ]
  },
  {
   "cell_type": "code",
   "execution_count": 96,
   "metadata": {
    "scrolled": true
   },
   "outputs": [],
   "source": [
    "DegreeData = pd.DataFrame()\n",
    "for ind in ind_list:\n",
    "    df_degreecount = df_degrees[df_degrees['Job Function'] == ind]\n",
    "    for k in range(2011, 2021):\n",
    "        if k in df_degreecount['Year'].values:\n",
    "            value = df_degreecount[df_degreecount['Year'] == k]['Postingcount'].iloc[0]\n",
    "            df_MinDegree = df_degreecount[df_degreecount['Year'] == k]['degree_type'].value_counts().reset_index().rename(columns={'index': 'Degree'}).iloc[:30]\n",
    "            df_MinDegree['Year'] = k\n",
    "            df_MinDegree['degree_type'] = round((df_MinDegree['degree_type']/value) * 100)\n",
    "            df_MinDegree['Job Function'] = ind\n",
    "            DegreeData = DegreeData.append(df_MinDegree)"
   ]
  },
  {
   "cell_type": "code",
   "execution_count": 97,
   "metadata": {},
   "outputs": [
    {
     "data": {
      "application/vnd.plotly.v1+json": {
       "config": {
        "plotlyServerURL": "https://plot.ly"
       },
       "data": [
        {
         "alignmentgroup": "True",
         "hovertemplate": "Job Function=Other<br>Year=2014<br>Degree=%{x}<br>degree_type=%{y}<extra></extra>",
         "legendgroup": "Other",
         "marker": {
          "color": "#636efa"
         },
         "name": "Other",
         "offsetgroup": "Other",
         "orientation": "v",
         "showlegend": true,
         "textposition": "auto",
         "type": "bar",
         "x": [
          "bachelors",
          "not specified",
          "masters",
          "mba"
         ],
         "xaxis": "x",
         "y": [
          38,
          36,
          25,
          2
         ],
         "yaxis": "y"
        }
       ],
       "frames": [
        {
         "data": [
          {
           "alignmentgroup": "True",
           "hovertemplate": "Job Function=Other<br>Year=2014<br>Degree=%{x}<br>degree_type=%{y}<extra></extra>",
           "legendgroup": "Other",
           "marker": {
            "color": "#636efa"
           },
           "name": "Other",
           "offsetgroup": "Other",
           "orientation": "v",
           "showlegend": true,
           "textposition": "auto",
           "type": "bar",
           "x": [
            "bachelors",
            "not specified",
            "masters",
            "mba"
           ],
           "xaxis": "x",
           "y": [
            38,
            36,
            25,
            2
           ],
           "yaxis": "y"
          }
         ],
         "name": "2014"
        },
        {
         "data": [
          {
           "alignmentgroup": "True",
           "hovertemplate": "Job Function=Other<br>Year=2015<br>Degree=%{x}<br>degree_type=%{y}<extra></extra>",
           "legendgroup": "Other",
           "marker": {
            "color": "#636efa"
           },
           "name": "Other",
           "offsetgroup": "Other",
           "orientation": "v",
           "showlegend": true,
           "textposition": "auto",
           "type": "bar",
           "x": [
            "not specified",
            "bachelors",
            "masters",
            "mba"
           ],
           "xaxis": "x",
           "y": [
            46,
            33,
            16,
            5
           ],
           "yaxis": "y"
          }
         ],
         "name": "2015"
        },
        {
         "data": [
          {
           "alignmentgroup": "True",
           "hovertemplate": "Job Function=Other<br>Year=2016<br>Degree=%{x}<br>degree_type=%{y}<extra></extra>",
           "legendgroup": "Other",
           "marker": {
            "color": "#636efa"
           },
           "name": "Other",
           "offsetgroup": "Other",
           "orientation": "v",
           "showlegend": true,
           "textposition": "auto",
           "type": "bar",
           "x": [
            "not specified",
            "bachelors",
            "masters",
            "mba"
           ],
           "xaxis": "x",
           "y": [
            48,
            29,
            14,
            9
           ],
           "yaxis": "y"
          }
         ],
         "name": "2016"
        },
        {
         "data": [
          {
           "alignmentgroup": "True",
           "hovertemplate": "Job Function=Other<br>Year=2017<br>Degree=%{x}<br>degree_type=%{y}<extra></extra>",
           "legendgroup": "Other",
           "marker": {
            "color": "#636efa"
           },
           "name": "Other",
           "offsetgroup": "Other",
           "orientation": "v",
           "showlegend": true,
           "textposition": "auto",
           "type": "bar",
           "x": [
            "not specified",
            "bachelors",
            "masters",
            "mba"
           ],
           "xaxis": "x",
           "y": [
            46,
            37,
            9,
            8
           ],
           "yaxis": "y"
          }
         ],
         "name": "2017"
        },
        {
         "data": [
          {
           "alignmentgroup": "True",
           "hovertemplate": "Job Function=Other<br>Year=2018<br>Degree=%{x}<br>degree_type=%{y}<extra></extra>",
           "legendgroup": "Other",
           "marker": {
            "color": "#636efa"
           },
           "name": "Other",
           "offsetgroup": "Other",
           "orientation": "v",
           "showlegend": true,
           "textposition": "auto",
           "type": "bar",
           "x": [
            "not specified",
            "bachelors",
            "masters"
           ],
           "xaxis": "x",
           "y": [
            58,
            33,
            8
           ],
           "yaxis": "y"
          },
          {
           "alignmentgroup": "True",
           "hovertemplate": "Job Function=Financial Services<br>Year=2018<br>Degree=%{x}<br>degree_type=%{y}<extra></extra>",
           "legendgroup": "Financial Services",
           "marker": {
            "color": "#EF553B"
           },
           "name": "Financial Services",
           "offsetgroup": "Financial Services",
           "orientation": "v",
           "showlegend": true,
           "textposition": "auto",
           "type": "bar",
           "x": [
            "bachelors",
            "not specified",
            "masters",
            "mba"
           ],
           "xaxis": "x",
           "y": [
            49,
            28,
            22,
            1
           ],
           "yaxis": "y"
          },
          {
           "alignmentgroup": "True",
           "hovertemplate": "Job Function=Consulting<br>Year=2018<br>Degree=%{x}<br>degree_type=%{y}<extra></extra>",
           "legendgroup": "Consulting",
           "marker": {
            "color": "#00cc96"
           },
           "name": "Consulting",
           "offsetgroup": "Consulting",
           "orientation": "v",
           "showlegend": true,
           "textposition": "auto",
           "type": "bar",
           "x": [
            "bachelors",
            "masters",
            "not specified",
            "mba",
            "phd"
           ],
           "xaxis": "x",
           "y": [
            51,
            31,
            14,
            4,
            1
           ],
           "yaxis": "y"
          },
          {
           "alignmentgroup": "True",
           "hovertemplate": "Job Function=Transportation & Logistics<br>Year=2018<br>Degree=%{x}<br>degree_type=%{y}<extra></extra>",
           "legendgroup": "Transportation & Logistics",
           "marker": {
            "color": "#ab63fa"
           },
           "name": "Transportation & Logistics",
           "offsetgroup": "Transportation & Logistics",
           "orientation": "v",
           "showlegend": true,
           "textposition": "auto",
           "type": "bar",
           "x": [
            "not specified",
            "bachelors",
            "masters"
           ],
           "xaxis": "x",
           "y": [
            56,
            33,
            11
           ],
           "yaxis": "y"
          },
          {
           "alignmentgroup": "True",
           "hovertemplate": "Job Function=Healthcare & Pharmaceuticals<br>Year=2018<br>Degree=%{x}<br>degree_type=%{y}<extra></extra>",
           "legendgroup": "Healthcare & Pharmaceuticals",
           "marker": {
            "color": "#FFA15A"
           },
           "name": "Healthcare & Pharmaceuticals",
           "offsetgroup": "Healthcare & Pharmaceuticals",
           "orientation": "v",
           "showlegend": true,
           "textposition": "auto",
           "type": "bar",
           "x": [
            "not specified",
            "bachelors",
            "masters"
           ],
           "xaxis": "x",
           "y": [
            43,
            29,
            29
           ],
           "yaxis": "y"
          },
          {
           "alignmentgroup": "True",
           "hovertemplate": "Job Function=Manufacturing<br>Year=2018<br>Degree=%{x}<br>degree_type=%{y}<extra></extra>",
           "legendgroup": "Manufacturing",
           "marker": {
            "color": "#19d3f3"
           },
           "name": "Manufacturing",
           "offsetgroup": "Manufacturing",
           "orientation": "v",
           "showlegend": true,
           "textposition": "auto",
           "type": "bar",
           "x": [
            "masters",
            "mba",
            "not specified"
           ],
           "xaxis": "x",
           "y": [
            40,
            40,
            20
           ],
           "yaxis": "y"
          },
          {
           "alignmentgroup": "True",
           "hovertemplate": "Job Function=Real Estate & Construction<br>Year=2018<br>Degree=%{x}<br>degree_type=%{y}<extra></extra>",
           "legendgroup": "Real Estate & Construction",
           "marker": {
            "color": "#FF6692"
           },
           "name": "Real Estate & Construction",
           "offsetgroup": "Real Estate & Construction",
           "orientation": "v",
           "showlegend": true,
           "textposition": "auto",
           "type": "bar",
           "x": [
            "not specified",
            "bachelors",
            "masters"
           ],
           "xaxis": "x",
           "y": [
            67,
            17,
            17
           ],
           "yaxis": "y"
          },
          {
           "alignmentgroup": "True",
           "hovertemplate": "Job Function=Professional Services<br>Year=2018<br>Degree=%{x}<br>degree_type=%{y}<extra></extra>",
           "legendgroup": "Professional Services",
           "marker": {
            "color": "#B6E880"
           },
           "name": "Professional Services",
           "offsetgroup": "Professional Services",
           "orientation": "v",
           "showlegend": true,
           "textposition": "auto",
           "type": "bar",
           "x": [
            "bachelors",
            "not specified",
            "masters"
           ],
           "xaxis": "x",
           "y": [
            56,
            22,
            22
           ],
           "yaxis": "y"
          },
          {
           "alignmentgroup": "True",
           "hovertemplate": "Job Function=Technology<br>Year=2018<br>Degree=%{x}<br>degree_type=%{y}<extra></extra>",
           "legendgroup": "Technology",
           "marker": {
            "color": "#FF97FF"
           },
           "name": "Technology",
           "offsetgroup": "Technology",
           "orientation": "v",
           "showlegend": true,
           "textposition": "auto",
           "type": "bar",
           "x": [
            "bachelors",
            "masters"
           ],
           "xaxis": "x",
           "y": [
            67,
            33
           ],
           "yaxis": "y"
          },
          {
           "alignmentgroup": "True",
           "hovertemplate": "Job Function=Government & Non Profit & Education<br>Year=2018<br>Degree=%{x}<br>degree_type=%{y}<extra></extra>",
           "legendgroup": "Government & Non Profit & Education",
           "marker": {
            "color": "#FECB52"
           },
           "name": "Government & Non Profit & Education",
           "offsetgroup": "Government & Non Profit & Education",
           "orientation": "v",
           "showlegend": true,
           "textposition": "auto",
           "type": "bar",
           "x": [
            "bachelors",
            "not specified"
           ],
           "xaxis": "x",
           "y": [
            67,
            33
           ],
           "yaxis": "y"
          },
          {
           "alignmentgroup": "True",
           "hovertemplate": "Job Function=Consumer Packaged Goods<br>Year=2018<br>Degree=%{x}<br>degree_type=%{y}<extra></extra>",
           "legendgroup": "Consumer Packaged Goods",
           "marker": {
            "color": "#636efa"
           },
           "name": "Consumer Packaged Goods",
           "offsetgroup": "Consumer Packaged Goods",
           "orientation": "v",
           "showlegend": true,
           "textposition": "auto",
           "type": "bar",
           "x": [
            "bachelors",
            "masters"
           ],
           "xaxis": "x",
           "y": [
            67,
            33
           ],
           "yaxis": "y"
          },
          {
           "alignmentgroup": "True",
           "hovertemplate": "Job Function=Retail<br>Year=2018<br>Degree=%{x}<br>degree_type=%{y}<extra></extra>",
           "legendgroup": "Retail",
           "marker": {
            "color": "#EF553B"
           },
           "name": "Retail",
           "offsetgroup": "Retail",
           "orientation": "v",
           "showlegend": true,
           "textposition": "auto",
           "type": "bar",
           "x": [
            "not specified",
            "bachelors",
            "masters"
           ],
           "xaxis": "x",
           "y": [
            50,
            33,
            17
           ],
           "yaxis": "y"
          },
          {
           "alignmentgroup": "True",
           "hovertemplate": "Job Function=Media & Entertainment & Sports<br>Year=2018<br>Degree=%{x}<br>degree_type=%{y}<extra></extra>",
           "legendgroup": "Media & Entertainment & Sports",
           "marker": {
            "color": "#00cc96"
           },
           "name": "Media & Entertainment & Sports",
           "offsetgroup": "Media & Entertainment & Sports",
           "orientation": "v",
           "showlegend": true,
           "textposition": "auto",
           "type": "bar",
           "x": [
            "masters"
           ],
           "xaxis": "x",
           "y": [
            100
           ],
           "yaxis": "y"
          },
          {
           "alignmentgroup": "True",
           "hovertemplate": "Job Function=Hospitality<br>Year=2018<br>Degree=%{x}<br>degree_type=%{y}<extra></extra>",
           "legendgroup": "Hospitality",
           "marker": {
            "color": "#ab63fa"
           },
           "name": "Hospitality",
           "offsetgroup": "Hospitality",
           "orientation": "v",
           "showlegend": true,
           "textposition": "auto",
           "type": "bar",
           "x": [
            "not specified"
           ],
           "xaxis": "x",
           "y": [
            100
           ],
           "yaxis": "y"
          }
         ],
         "name": "2018"
        },
        {
         "data": [
          {
           "alignmentgroup": "True",
           "hovertemplate": "Job Function=Other<br>Year=2019<br>Degree=%{x}<br>degree_type=%{y}<extra></extra>",
           "legendgroup": "Other",
           "marker": {
            "color": "#636efa"
           },
           "name": "Other",
           "offsetgroup": "Other",
           "orientation": "v",
           "showlegend": true,
           "textposition": "auto",
           "type": "bar",
           "x": [
            "bachelors",
            "not specified",
            "masters"
           ],
           "xaxis": "x",
           "y": [
            50,
            29,
            21
           ],
           "yaxis": "y"
          },
          {
           "alignmentgroup": "True",
           "hovertemplate": "Job Function=Financial Services<br>Year=2019<br>Degree=%{x}<br>degree_type=%{y}<extra></extra>",
           "legendgroup": "Financial Services",
           "marker": {
            "color": "#EF553B"
           },
           "name": "Financial Services",
           "offsetgroup": "Financial Services",
           "orientation": "v",
           "showlegend": true,
           "textposition": "auto",
           "type": "bar",
           "x": [
            "bachelors",
            "masters",
            "not specified",
            "mba"
           ],
           "xaxis": "x",
           "y": [
            39,
            34,
            25,
            2
           ],
           "yaxis": "y"
          },
          {
           "alignmentgroup": "True",
           "hovertemplate": "Job Function=Consulting<br>Year=2019<br>Degree=%{x}<br>degree_type=%{y}<extra></extra>",
           "legendgroup": "Consulting",
           "marker": {
            "color": "#00cc96"
           },
           "name": "Consulting",
           "offsetgroup": "Consulting",
           "orientation": "v",
           "showlegend": true,
           "textposition": "auto",
           "type": "bar",
           "x": [
            "masters",
            "bachelors",
            "not specified",
            "mba"
           ],
           "xaxis": "x",
           "y": [
            63,
            24,
            11,
            2
           ],
           "yaxis": "y"
          },
          {
           "alignmentgroup": "True",
           "hovertemplate": "Job Function=Transportation & Logistics<br>Year=2019<br>Degree=%{x}<br>degree_type=%{y}<extra></extra>",
           "legendgroup": "Transportation & Logistics",
           "marker": {
            "color": "#ab63fa"
           },
           "name": "Transportation & Logistics",
           "offsetgroup": "Transportation & Logistics",
           "orientation": "v",
           "showlegend": true,
           "textposition": "auto",
           "type": "bar",
           "x": [
            "masters",
            "bachelors",
            "not specified"
           ],
           "xaxis": "x",
           "y": [
            43,
            36,
            21
           ],
           "yaxis": "y"
          },
          {
           "alignmentgroup": "True",
           "hovertemplate": "Job Function=Healthcare & Pharmaceuticals<br>Year=2019<br>Degree=%{x}<br>degree_type=%{y}<extra></extra>",
           "legendgroup": "Healthcare & Pharmaceuticals",
           "marker": {
            "color": "#FFA15A"
           },
           "name": "Healthcare & Pharmaceuticals",
           "offsetgroup": "Healthcare & Pharmaceuticals",
           "orientation": "v",
           "showlegend": true,
           "textposition": "auto",
           "type": "bar",
           "x": [
            "bachelors",
            "masters",
            "not specified"
           ],
           "xaxis": "x",
           "y": [
            50,
            38,
            12
           ],
           "yaxis": "y"
          },
          {
           "alignmentgroup": "True",
           "hovertemplate": "Job Function=Manufacturing<br>Year=2019<br>Degree=%{x}<br>degree_type=%{y}<extra></extra>",
           "legendgroup": "Manufacturing",
           "marker": {
            "color": "#19d3f3"
           },
           "name": "Manufacturing",
           "offsetgroup": "Manufacturing",
           "orientation": "v",
           "showlegend": true,
           "textposition": "auto",
           "type": "bar",
           "x": [
            "masters",
            "bachelors",
            "mba"
           ],
           "xaxis": "x",
           "y": [
            50,
            44,
            6
           ],
           "yaxis": "y"
          },
          {
           "alignmentgroup": "True",
           "hovertemplate": "Job Function=Real Estate & Construction<br>Year=2019<br>Degree=%{x}<br>degree_type=%{y}<extra></extra>",
           "legendgroup": "Real Estate & Construction",
           "marker": {
            "color": "#FF6692"
           },
           "name": "Real Estate & Construction",
           "offsetgroup": "Real Estate & Construction",
           "orientation": "v",
           "showlegend": true,
           "textposition": "auto",
           "type": "bar",
           "x": [
            "bachelors",
            "masters"
           ],
           "xaxis": "x",
           "y": [
            75,
            25
           ],
           "yaxis": "y"
          },
          {
           "alignmentgroup": "True",
           "hovertemplate": "Job Function=Professional Services<br>Year=2019<br>Degree=%{x}<br>degree_type=%{y}<extra></extra>",
           "legendgroup": "Professional Services",
           "marker": {
            "color": "#B6E880"
           },
           "name": "Professional Services",
           "offsetgroup": "Professional Services",
           "orientation": "v",
           "showlegend": true,
           "textposition": "auto",
           "type": "bar",
           "x": [
            "bachelors",
            "not specified",
            "masters"
           ],
           "xaxis": "x",
           "y": [
            40,
            33,
            27
           ],
           "yaxis": "y"
          },
          {
           "alignmentgroup": "True",
           "hovertemplate": "Job Function=Technology<br>Year=2019<br>Degree=%{x}<br>degree_type=%{y}<extra></extra>",
           "legendgroup": "Technology",
           "marker": {
            "color": "#FF97FF"
           },
           "name": "Technology",
           "offsetgroup": "Technology",
           "orientation": "v",
           "showlegend": true,
           "textposition": "auto",
           "type": "bar",
           "x": [
            "bachelors",
            "masters"
           ],
           "xaxis": "x",
           "y": [
            67,
            33
           ],
           "yaxis": "y"
          },
          {
           "alignmentgroup": "True",
           "hovertemplate": "Job Function=Government & Non Profit & Education<br>Year=2019<br>Degree=%{x}<br>degree_type=%{y}<extra></extra>",
           "legendgroup": "Government & Non Profit & Education",
           "marker": {
            "color": "#FECB52"
           },
           "name": "Government & Non Profit & Education",
           "offsetgroup": "Government & Non Profit & Education",
           "orientation": "v",
           "showlegend": true,
           "textposition": "auto",
           "type": "bar",
           "x": [
            "bachelors",
            "not specified",
            "masters"
           ],
           "xaxis": "x",
           "y": [
            67,
            27,
            7
           ],
           "yaxis": "y"
          },
          {
           "alignmentgroup": "True",
           "hovertemplate": "Job Function=Consumer Packaged Goods<br>Year=2019<br>Degree=%{x}<br>degree_type=%{y}<extra></extra>",
           "legendgroup": "Consumer Packaged Goods",
           "marker": {
            "color": "#636efa"
           },
           "name": "Consumer Packaged Goods",
           "offsetgroup": "Consumer Packaged Goods",
           "orientation": "v",
           "showlegend": true,
           "textposition": "auto",
           "type": "bar",
           "x": [
            "bachelors",
            "not specified",
            "masters",
            "mba"
           ],
           "xaxis": "x",
           "y": [
            65,
            18,
            12,
            6
           ],
           "yaxis": "y"
          },
          {
           "alignmentgroup": "True",
           "hovertemplate": "Job Function=Retail<br>Year=2019<br>Degree=%{x}<br>degree_type=%{y}<extra></extra>",
           "legendgroup": "Retail",
           "marker": {
            "color": "#EF553B"
           },
           "name": "Retail",
           "offsetgroup": "Retail",
           "orientation": "v",
           "showlegend": true,
           "textposition": "auto",
           "type": "bar",
           "x": [
            "bachelors",
            "not specified",
            "masters"
           ],
           "xaxis": "x",
           "y": [
            40,
            40,
            20
           ],
           "yaxis": "y"
          },
          {
           "alignmentgroup": "True",
           "hovertemplate": "Job Function=Media & Entertainment & Sports<br>Year=2019<br>Degree=%{x}<br>degree_type=%{y}<extra></extra>",
           "legendgroup": "Media & Entertainment & Sports",
           "marker": {
            "color": "#00cc96"
           },
           "name": "Media & Entertainment & Sports",
           "offsetgroup": "Media & Entertainment & Sports",
           "orientation": "v",
           "showlegend": true,
           "textposition": "auto",
           "type": "bar",
           "x": [
            "bachelors",
            "masters",
            "not specified"
           ],
           "xaxis": "x",
           "y": [
            33,
            33,
            33
           ],
           "yaxis": "y"
          },
          {
           "alignmentgroup": "True",
           "hovertemplate": "Job Function=Hospitality<br>Year=2019<br>Degree=%{x}<br>degree_type=%{y}<extra></extra>",
           "legendgroup": "Hospitality",
           "marker": {
            "color": "#ab63fa"
           },
           "name": "Hospitality",
           "offsetgroup": "Hospitality",
           "orientation": "v",
           "showlegend": true,
           "textposition": "auto",
           "type": "bar",
           "x": [
            "masters",
            "bachelors"
           ],
           "xaxis": "x",
           "y": [
            67,
            33
           ],
           "yaxis": "y"
          },
          {
           "alignmentgroup": "True",
           "hovertemplate": "Job Function=Energy<br>Year=2019<br>Degree=%{x}<br>degree_type=%{y}<extra></extra>",
           "legendgroup": "Energy",
           "marker": {
            "color": "#FFA15A"
           },
           "name": "Energy",
           "offsetgroup": "Energy",
           "orientation": "v",
           "showlegend": true,
           "textposition": "auto",
           "type": "bar",
           "x": [
            "masters",
            "bachelors"
           ],
           "xaxis": "x",
           "y": [
            50,
            50
           ],
           "yaxis": "y"
          }
         ],
         "name": "2019"
        },
        {
         "data": [
          {
           "alignmentgroup": "True",
           "hovertemplate": "Job Function=Other<br>Year=2020<br>Degree=%{x}<br>degree_type=%{y}<extra></extra>",
           "legendgroup": "Other",
           "marker": {
            "color": "#636efa"
           },
           "name": "Other",
           "offsetgroup": "Other",
           "orientation": "v",
           "showlegend": true,
           "textposition": "auto",
           "type": "bar",
           "x": [
            "bachelors",
            "masters",
            "not specified"
           ],
           "xaxis": "x",
           "y": [
            33,
            33,
            33
           ],
           "yaxis": "y"
          },
          {
           "alignmentgroup": "True",
           "hovertemplate": "Job Function=Financial Services<br>Year=2020<br>Degree=%{x}<br>degree_type=%{y}<extra></extra>",
           "legendgroup": "Financial Services",
           "marker": {
            "color": "#EF553B"
           },
           "name": "Financial Services",
           "offsetgroup": "Financial Services",
           "orientation": "v",
           "showlegend": true,
           "textposition": "auto",
           "type": "bar",
           "x": [
            "masters",
            "bachelors",
            "not specified"
           ],
           "xaxis": "x",
           "y": [
            61,
            29,
            11
           ],
           "yaxis": "y"
          },
          {
           "alignmentgroup": "True",
           "hovertemplate": "Job Function=Consulting<br>Year=2020<br>Degree=%{x}<br>degree_type=%{y}<extra></extra>",
           "legendgroup": "Consulting",
           "marker": {
            "color": "#00cc96"
           },
           "name": "Consulting",
           "offsetgroup": "Consulting",
           "orientation": "v",
           "showlegend": true,
           "textposition": "auto",
           "type": "bar",
           "x": [
            "masters",
            "bachelors",
            "not specified"
           ],
           "xaxis": "x",
           "y": [
            95,
            2,
            2
           ],
           "yaxis": "y"
          },
          {
           "alignmentgroup": "True",
           "hovertemplate": "Job Function=Transportation & Logistics<br>Year=2020<br>Degree=%{x}<br>degree_type=%{y}<extra></extra>",
           "legendgroup": "Transportation & Logistics",
           "marker": {
            "color": "#ab63fa"
           },
           "name": "Transportation & Logistics",
           "offsetgroup": "Transportation & Logistics",
           "orientation": "v",
           "showlegend": true,
           "textposition": "auto",
           "type": "bar",
           "x": [
            "bachelors",
            "masters",
            "not specified"
           ],
           "xaxis": "x",
           "y": [
            33,
            33,
            33
           ],
           "yaxis": "y"
          },
          {
           "alignmentgroup": "True",
           "hovertemplate": "Job Function=Healthcare & Pharmaceuticals<br>Year=2020<br>Degree=%{x}<br>degree_type=%{y}<extra></extra>",
           "legendgroup": "Healthcare & Pharmaceuticals",
           "marker": {
            "color": "#FFA15A"
           },
           "name": "Healthcare & Pharmaceuticals",
           "offsetgroup": "Healthcare & Pharmaceuticals",
           "orientation": "v",
           "showlegend": true,
           "textposition": "auto",
           "type": "bar",
           "x": [
            "bachelors",
            "masters",
            "not specified"
           ],
           "xaxis": "x",
           "y": [
            33,
            33,
            33
           ],
           "yaxis": "y"
          },
          {
           "alignmentgroup": "True",
           "hovertemplate": "Job Function=Manufacturing<br>Year=2020<br>Degree=%{x}<br>degree_type=%{y}<extra></extra>",
           "legendgroup": "Manufacturing",
           "marker": {
            "color": "#19d3f3"
           },
           "name": "Manufacturing",
           "offsetgroup": "Manufacturing",
           "orientation": "v",
           "showlegend": true,
           "textposition": "auto",
           "type": "bar",
           "x": [
            "masters",
            "bachelors",
            "not specified"
           ],
           "xaxis": "x",
           "y": [
            71,
            14,
            14
           ],
           "yaxis": "y"
          },
          {
           "alignmentgroup": "True",
           "hovertemplate": "Job Function=Real Estate & Construction<br>Year=2020<br>Degree=%{x}<br>degree_type=%{y}<extra></extra>",
           "legendgroup": "Real Estate & Construction",
           "marker": {
            "color": "#FF6692"
           },
           "name": "Real Estate & Construction",
           "offsetgroup": "Real Estate & Construction",
           "orientation": "v",
           "showlegend": true,
           "textposition": "auto",
           "type": "bar",
           "x": [
            "masters",
            "bachelors"
           ],
           "xaxis": "x",
           "y": [
            50,
            50
           ],
           "yaxis": "y"
          },
          {
           "alignmentgroup": "True",
           "hovertemplate": "Job Function=Professional Services<br>Year=2020<br>Degree=%{x}<br>degree_type=%{y}<extra></extra>",
           "legendgroup": "Professional Services",
           "marker": {
            "color": "#B6E880"
           },
           "name": "Professional Services",
           "offsetgroup": "Professional Services",
           "orientation": "v",
           "showlegend": true,
           "textposition": "auto",
           "type": "bar",
           "x": [
            "bachelors",
            "not specified",
            "masters"
           ],
           "xaxis": "x",
           "y": [
            44,
            33,
            22
           ],
           "yaxis": "y"
          },
          {
           "alignmentgroup": "True",
           "hovertemplate": "Job Function=Technology<br>Year=2020<br>Degree=%{x}<br>degree_type=%{y}<extra></extra>",
           "legendgroup": "Technology",
           "marker": {
            "color": "#FF97FF"
           },
           "name": "Technology",
           "offsetgroup": "Technology",
           "orientation": "v",
           "showlegend": true,
           "textposition": "auto",
           "type": "bar",
           "x": [
            "masters",
            "bachelors",
            "not specified"
           ],
           "xaxis": "x",
           "y": [
            73,
            18,
            9
           ],
           "yaxis": "y"
          },
          {
           "alignmentgroup": "True",
           "hovertemplate": "Job Function=Government & Non Profit & Education<br>Year=2020<br>Degree=%{x}<br>degree_type=%{y}<extra></extra>",
           "legendgroup": "Government & Non Profit & Education",
           "marker": {
            "color": "#FECB52"
           },
           "name": "Government & Non Profit & Education",
           "offsetgroup": "Government & Non Profit & Education",
           "orientation": "v",
           "showlegend": true,
           "textposition": "auto",
           "type": "bar",
           "x": [
            "masters",
            "bachelors"
           ],
           "xaxis": "x",
           "y": [
            78,
            22
           ],
           "yaxis": "y"
          },
          {
           "alignmentgroup": "True",
           "hovertemplate": "Job Function=Consumer Packaged Goods<br>Year=2020<br>Degree=%{x}<br>degree_type=%{y}<extra></extra>",
           "legendgroup": "Consumer Packaged Goods",
           "marker": {
            "color": "#636efa"
           },
           "name": "Consumer Packaged Goods",
           "offsetgroup": "Consumer Packaged Goods",
           "orientation": "v",
           "showlegend": true,
           "textposition": "auto",
           "type": "bar",
           "x": [
            "masters",
            "not specified",
            "bachelors"
           ],
           "xaxis": "x",
           "y": [
            43,
            43,
            14
           ],
           "yaxis": "y"
          },
          {
           "alignmentgroup": "True",
           "hovertemplate": "Job Function=Retail<br>Year=2020<br>Degree=%{x}<br>degree_type=%{y}<extra></extra>",
           "legendgroup": "Retail",
           "marker": {
            "color": "#EF553B"
           },
           "name": "Retail",
           "offsetgroup": "Retail",
           "orientation": "v",
           "showlegend": true,
           "textposition": "auto",
           "type": "bar",
           "x": [
            "bachelors",
            "not specified",
            "masters"
           ],
           "xaxis": "x",
           "y": [
            43,
            43,
            14
           ],
           "yaxis": "y"
          },
          {
           "alignmentgroup": "True",
           "hovertemplate": "Job Function=Media & Entertainment & Sports<br>Year=2020<br>Degree=%{x}<br>degree_type=%{y}<extra></extra>",
           "legendgroup": "Media & Entertainment & Sports",
           "marker": {
            "color": "#00cc96"
           },
           "name": "Media & Entertainment & Sports",
           "offsetgroup": "Media & Entertainment & Sports",
           "orientation": "v",
           "showlegend": true,
           "textposition": "auto",
           "type": "bar",
           "x": [
            "masters",
            "bachelors"
           ],
           "xaxis": "x",
           "y": [
            50,
            50
           ],
           "yaxis": "y"
          },
          {
           "alignmentgroup": "True",
           "hovertemplate": "Job Function=Hospitality<br>Year=2020<br>Degree=%{x}<br>degree_type=%{y}<extra></extra>",
           "legendgroup": "Hospitality",
           "marker": {
            "color": "#ab63fa"
           },
           "name": "Hospitality",
           "offsetgroup": "Hospitality",
           "orientation": "v",
           "showlegend": true,
           "textposition": "auto",
           "type": "bar",
           "x": [
            "masters",
            "bachelors"
           ],
           "xaxis": "x",
           "y": [
            67,
            33
           ],
           "yaxis": "y"
          },
          {
           "alignmentgroup": "True",
           "hovertemplate": "Job Function=Energy<br>Year=2020<br>Degree=%{x}<br>degree_type=%{y}<extra></extra>",
           "legendgroup": "Energy",
           "marker": {
            "color": "#FFA15A"
           },
           "name": "Energy",
           "offsetgroup": "Energy",
           "orientation": "v",
           "showlegend": true,
           "textposition": "auto",
           "type": "bar",
           "x": [
            "bachelors",
            "not specified"
           ],
           "xaxis": "x",
           "y": [
            50,
            50
           ],
           "yaxis": "y"
          }
         ],
         "name": "2020"
        }
       ],
       "layout": {
        "barmode": "group",
        "legend": {
         "title": {
          "text": "Job Function"
         },
         "tracegroupgap": 0
        },
        "margin": {
         "t": 60
        },
        "sliders": [
         {
          "active": 0,
          "currentvalue": {
           "prefix": "Year="
          },
          "len": 0.9,
          "pad": {
           "b": 10,
           "t": 60
          },
          "steps": [
           {
            "args": [
             [
              "2014"
             ],
             {
              "frame": {
               "duration": 0,
               "redraw": true
              },
              "fromcurrent": true,
              "mode": "immediate",
              "transition": {
               "duration": 0,
               "easing": "linear"
              }
             }
            ],
            "label": "2014",
            "method": "animate"
           },
           {
            "args": [
             [
              "2015"
             ],
             {
              "frame": {
               "duration": 0,
               "redraw": true
              },
              "fromcurrent": true,
              "mode": "immediate",
              "transition": {
               "duration": 0,
               "easing": "linear"
              }
             }
            ],
            "label": "2015",
            "method": "animate"
           },
           {
            "args": [
             [
              "2016"
             ],
             {
              "frame": {
               "duration": 0,
               "redraw": true
              },
              "fromcurrent": true,
              "mode": "immediate",
              "transition": {
               "duration": 0,
               "easing": "linear"
              }
             }
            ],
            "label": "2016",
            "method": "animate"
           },
           {
            "args": [
             [
              "2017"
             ],
             {
              "frame": {
               "duration": 0,
               "redraw": true
              },
              "fromcurrent": true,
              "mode": "immediate",
              "transition": {
               "duration": 0,
               "easing": "linear"
              }
             }
            ],
            "label": "2017",
            "method": "animate"
           },
           {
            "args": [
             [
              "2018"
             ],
             {
              "frame": {
               "duration": 0,
               "redraw": true
              },
              "fromcurrent": true,
              "mode": "immediate",
              "transition": {
               "duration": 0,
               "easing": "linear"
              }
             }
            ],
            "label": "2018",
            "method": "animate"
           },
           {
            "args": [
             [
              "2019"
             ],
             {
              "frame": {
               "duration": 0,
               "redraw": true
              },
              "fromcurrent": true,
              "mode": "immediate",
              "transition": {
               "duration": 0,
               "easing": "linear"
              }
             }
            ],
            "label": "2019",
            "method": "animate"
           },
           {
            "args": [
             [
              "2020"
             ],
             {
              "frame": {
               "duration": 0,
               "redraw": true
              },
              "fromcurrent": true,
              "mode": "immediate",
              "transition": {
               "duration": 0,
               "easing": "linear"
              }
             }
            ],
            "label": "2020",
            "method": "animate"
           }
          ],
          "x": 0.1,
          "xanchor": "left",
          "y": 0,
          "yanchor": "top"
         }
        ],
        "template": {
         "data": {
          "bar": [
           {
            "error_x": {
             "color": "#2a3f5f"
            },
            "error_y": {
             "color": "#2a3f5f"
            },
            "marker": {
             "line": {
              "color": "#E5ECF6",
              "width": 0.5
             }
            },
            "type": "bar"
           }
          ],
          "barpolar": [
           {
            "marker": {
             "line": {
              "color": "#E5ECF6",
              "width": 0.5
             }
            },
            "type": "barpolar"
           }
          ],
          "carpet": [
           {
            "aaxis": {
             "endlinecolor": "#2a3f5f",
             "gridcolor": "white",
             "linecolor": "white",
             "minorgridcolor": "white",
             "startlinecolor": "#2a3f5f"
            },
            "baxis": {
             "endlinecolor": "#2a3f5f",
             "gridcolor": "white",
             "linecolor": "white",
             "minorgridcolor": "white",
             "startlinecolor": "#2a3f5f"
            },
            "type": "carpet"
           }
          ],
          "choropleth": [
           {
            "colorbar": {
             "outlinewidth": 0,
             "ticks": ""
            },
            "type": "choropleth"
           }
          ],
          "contour": [
           {
            "colorbar": {
             "outlinewidth": 0,
             "ticks": ""
            },
            "colorscale": [
             [
              0,
              "#0d0887"
             ],
             [
              0.1111111111111111,
              "#46039f"
             ],
             [
              0.2222222222222222,
              "#7201a8"
             ],
             [
              0.3333333333333333,
              "#9c179e"
             ],
             [
              0.4444444444444444,
              "#bd3786"
             ],
             [
              0.5555555555555556,
              "#d8576b"
             ],
             [
              0.6666666666666666,
              "#ed7953"
             ],
             [
              0.7777777777777778,
              "#fb9f3a"
             ],
             [
              0.8888888888888888,
              "#fdca26"
             ],
             [
              1,
              "#f0f921"
             ]
            ],
            "type": "contour"
           }
          ],
          "contourcarpet": [
           {
            "colorbar": {
             "outlinewidth": 0,
             "ticks": ""
            },
            "type": "contourcarpet"
           }
          ],
          "heatmap": [
           {
            "colorbar": {
             "outlinewidth": 0,
             "ticks": ""
            },
            "colorscale": [
             [
              0,
              "#0d0887"
             ],
             [
              0.1111111111111111,
              "#46039f"
             ],
             [
              0.2222222222222222,
              "#7201a8"
             ],
             [
              0.3333333333333333,
              "#9c179e"
             ],
             [
              0.4444444444444444,
              "#bd3786"
             ],
             [
              0.5555555555555556,
              "#d8576b"
             ],
             [
              0.6666666666666666,
              "#ed7953"
             ],
             [
              0.7777777777777778,
              "#fb9f3a"
             ],
             [
              0.8888888888888888,
              "#fdca26"
             ],
             [
              1,
              "#f0f921"
             ]
            ],
            "type": "heatmap"
           }
          ],
          "heatmapgl": [
           {
            "colorbar": {
             "outlinewidth": 0,
             "ticks": ""
            },
            "colorscale": [
             [
              0,
              "#0d0887"
             ],
             [
              0.1111111111111111,
              "#46039f"
             ],
             [
              0.2222222222222222,
              "#7201a8"
             ],
             [
              0.3333333333333333,
              "#9c179e"
             ],
             [
              0.4444444444444444,
              "#bd3786"
             ],
             [
              0.5555555555555556,
              "#d8576b"
             ],
             [
              0.6666666666666666,
              "#ed7953"
             ],
             [
              0.7777777777777778,
              "#fb9f3a"
             ],
             [
              0.8888888888888888,
              "#fdca26"
             ],
             [
              1,
              "#f0f921"
             ]
            ],
            "type": "heatmapgl"
           }
          ],
          "histogram": [
           {
            "marker": {
             "colorbar": {
              "outlinewidth": 0,
              "ticks": ""
             }
            },
            "type": "histogram"
           }
          ],
          "histogram2d": [
           {
            "colorbar": {
             "outlinewidth": 0,
             "ticks": ""
            },
            "colorscale": [
             [
              0,
              "#0d0887"
             ],
             [
              0.1111111111111111,
              "#46039f"
             ],
             [
              0.2222222222222222,
              "#7201a8"
             ],
             [
              0.3333333333333333,
              "#9c179e"
             ],
             [
              0.4444444444444444,
              "#bd3786"
             ],
             [
              0.5555555555555556,
              "#d8576b"
             ],
             [
              0.6666666666666666,
              "#ed7953"
             ],
             [
              0.7777777777777778,
              "#fb9f3a"
             ],
             [
              0.8888888888888888,
              "#fdca26"
             ],
             [
              1,
              "#f0f921"
             ]
            ],
            "type": "histogram2d"
           }
          ],
          "histogram2dcontour": [
           {
            "colorbar": {
             "outlinewidth": 0,
             "ticks": ""
            },
            "colorscale": [
             [
              0,
              "#0d0887"
             ],
             [
              0.1111111111111111,
              "#46039f"
             ],
             [
              0.2222222222222222,
              "#7201a8"
             ],
             [
              0.3333333333333333,
              "#9c179e"
             ],
             [
              0.4444444444444444,
              "#bd3786"
             ],
             [
              0.5555555555555556,
              "#d8576b"
             ],
             [
              0.6666666666666666,
              "#ed7953"
             ],
             [
              0.7777777777777778,
              "#fb9f3a"
             ],
             [
              0.8888888888888888,
              "#fdca26"
             ],
             [
              1,
              "#f0f921"
             ]
            ],
            "type": "histogram2dcontour"
           }
          ],
          "mesh3d": [
           {
            "colorbar": {
             "outlinewidth": 0,
             "ticks": ""
            },
            "type": "mesh3d"
           }
          ],
          "parcoords": [
           {
            "line": {
             "colorbar": {
              "outlinewidth": 0,
              "ticks": ""
             }
            },
            "type": "parcoords"
           }
          ],
          "pie": [
           {
            "automargin": true,
            "type": "pie"
           }
          ],
          "scatter": [
           {
            "marker": {
             "colorbar": {
              "outlinewidth": 0,
              "ticks": ""
             }
            },
            "type": "scatter"
           }
          ],
          "scatter3d": [
           {
            "line": {
             "colorbar": {
              "outlinewidth": 0,
              "ticks": ""
             }
            },
            "marker": {
             "colorbar": {
              "outlinewidth": 0,
              "ticks": ""
             }
            },
            "type": "scatter3d"
           }
          ],
          "scattercarpet": [
           {
            "marker": {
             "colorbar": {
              "outlinewidth": 0,
              "ticks": ""
             }
            },
            "type": "scattercarpet"
           }
          ],
          "scattergeo": [
           {
            "marker": {
             "colorbar": {
              "outlinewidth": 0,
              "ticks": ""
             }
            },
            "type": "scattergeo"
           }
          ],
          "scattergl": [
           {
            "marker": {
             "colorbar": {
              "outlinewidth": 0,
              "ticks": ""
             }
            },
            "type": "scattergl"
           }
          ],
          "scattermapbox": [
           {
            "marker": {
             "colorbar": {
              "outlinewidth": 0,
              "ticks": ""
             }
            },
            "type": "scattermapbox"
           }
          ],
          "scatterpolar": [
           {
            "marker": {
             "colorbar": {
              "outlinewidth": 0,
              "ticks": ""
             }
            },
            "type": "scatterpolar"
           }
          ],
          "scatterpolargl": [
           {
            "marker": {
             "colorbar": {
              "outlinewidth": 0,
              "ticks": ""
             }
            },
            "type": "scatterpolargl"
           }
          ],
          "scatterternary": [
           {
            "marker": {
             "colorbar": {
              "outlinewidth": 0,
              "ticks": ""
             }
            },
            "type": "scatterternary"
           }
          ],
          "surface": [
           {
            "colorbar": {
             "outlinewidth": 0,
             "ticks": ""
            },
            "colorscale": [
             [
              0,
              "#0d0887"
             ],
             [
              0.1111111111111111,
              "#46039f"
             ],
             [
              0.2222222222222222,
              "#7201a8"
             ],
             [
              0.3333333333333333,
              "#9c179e"
             ],
             [
              0.4444444444444444,
              "#bd3786"
             ],
             [
              0.5555555555555556,
              "#d8576b"
             ],
             [
              0.6666666666666666,
              "#ed7953"
             ],
             [
              0.7777777777777778,
              "#fb9f3a"
             ],
             [
              0.8888888888888888,
              "#fdca26"
             ],
             [
              1,
              "#f0f921"
             ]
            ],
            "type": "surface"
           }
          ],
          "table": [
           {
            "cells": {
             "fill": {
              "color": "#EBF0F8"
             },
             "line": {
              "color": "white"
             }
            },
            "header": {
             "fill": {
              "color": "#C8D4E3"
             },
             "line": {
              "color": "white"
             }
            },
            "type": "table"
           }
          ]
         },
         "layout": {
          "annotationdefaults": {
           "arrowcolor": "#2a3f5f",
           "arrowhead": 0,
           "arrowwidth": 1
          },
          "coloraxis": {
           "colorbar": {
            "outlinewidth": 0,
            "ticks": ""
           }
          },
          "colorscale": {
           "diverging": [
            [
             0,
             "#8e0152"
            ],
            [
             0.1,
             "#c51b7d"
            ],
            [
             0.2,
             "#de77ae"
            ],
            [
             0.3,
             "#f1b6da"
            ],
            [
             0.4,
             "#fde0ef"
            ],
            [
             0.5,
             "#f7f7f7"
            ],
            [
             0.6,
             "#e6f5d0"
            ],
            [
             0.7,
             "#b8e186"
            ],
            [
             0.8,
             "#7fbc41"
            ],
            [
             0.9,
             "#4d9221"
            ],
            [
             1,
             "#276419"
            ]
           ],
           "sequential": [
            [
             0,
             "#0d0887"
            ],
            [
             0.1111111111111111,
             "#46039f"
            ],
            [
             0.2222222222222222,
             "#7201a8"
            ],
            [
             0.3333333333333333,
             "#9c179e"
            ],
            [
             0.4444444444444444,
             "#bd3786"
            ],
            [
             0.5555555555555556,
             "#d8576b"
            ],
            [
             0.6666666666666666,
             "#ed7953"
            ],
            [
             0.7777777777777778,
             "#fb9f3a"
            ],
            [
             0.8888888888888888,
             "#fdca26"
            ],
            [
             1,
             "#f0f921"
            ]
           ],
           "sequentialminus": [
            [
             0,
             "#0d0887"
            ],
            [
             0.1111111111111111,
             "#46039f"
            ],
            [
             0.2222222222222222,
             "#7201a8"
            ],
            [
             0.3333333333333333,
             "#9c179e"
            ],
            [
             0.4444444444444444,
             "#bd3786"
            ],
            [
             0.5555555555555556,
             "#d8576b"
            ],
            [
             0.6666666666666666,
             "#ed7953"
            ],
            [
             0.7777777777777778,
             "#fb9f3a"
            ],
            [
             0.8888888888888888,
             "#fdca26"
            ],
            [
             1,
             "#f0f921"
            ]
           ]
          },
          "colorway": [
           "#636efa",
           "#EF553B",
           "#00cc96",
           "#ab63fa",
           "#FFA15A",
           "#19d3f3",
           "#FF6692",
           "#B6E880",
           "#FF97FF",
           "#FECB52"
          ],
          "font": {
           "color": "#2a3f5f"
          },
          "geo": {
           "bgcolor": "white",
           "lakecolor": "white",
           "landcolor": "#E5ECF6",
           "showlakes": true,
           "showland": true,
           "subunitcolor": "white"
          },
          "hoverlabel": {
           "align": "left"
          },
          "hovermode": "closest",
          "mapbox": {
           "style": "light"
          },
          "paper_bgcolor": "white",
          "plot_bgcolor": "#E5ECF6",
          "polar": {
           "angularaxis": {
            "gridcolor": "white",
            "linecolor": "white",
            "ticks": ""
           },
           "bgcolor": "#E5ECF6",
           "radialaxis": {
            "gridcolor": "white",
            "linecolor": "white",
            "ticks": ""
           }
          },
          "scene": {
           "xaxis": {
            "backgroundcolor": "#E5ECF6",
            "gridcolor": "white",
            "gridwidth": 2,
            "linecolor": "white",
            "showbackground": true,
            "ticks": "",
            "zerolinecolor": "white"
           },
           "yaxis": {
            "backgroundcolor": "#E5ECF6",
            "gridcolor": "white",
            "gridwidth": 2,
            "linecolor": "white",
            "showbackground": true,
            "ticks": "",
            "zerolinecolor": "white"
           },
           "zaxis": {
            "backgroundcolor": "#E5ECF6",
            "gridcolor": "white",
            "gridwidth": 2,
            "linecolor": "white",
            "showbackground": true,
            "ticks": "",
            "zerolinecolor": "white"
           }
          },
          "shapedefaults": {
           "line": {
            "color": "#2a3f5f"
           }
          },
          "ternary": {
           "aaxis": {
            "gridcolor": "white",
            "linecolor": "white",
            "ticks": ""
           },
           "baxis": {
            "gridcolor": "white",
            "linecolor": "white",
            "ticks": ""
           },
           "bgcolor": "#E5ECF6",
           "caxis": {
            "gridcolor": "white",
            "linecolor": "white",
            "ticks": ""
           }
          },
          "title": {
           "x": 0.05
          },
          "xaxis": {
           "automargin": true,
           "gridcolor": "white",
           "linecolor": "white",
           "ticks": "",
           "title": {
            "standoff": 15
           },
           "zerolinecolor": "white",
           "zerolinewidth": 2
          },
          "yaxis": {
           "automargin": true,
           "gridcolor": "white",
           "linecolor": "white",
           "ticks": "",
           "title": {
            "standoff": 15
           },
           "zerolinecolor": "white",
           "zerolinewidth": 2
          }
         }
        },
        "updatemenus": [
         {
          "buttons": [
           {
            "args": [
             null,
             {
              "frame": {
               "duration": 500,
               "redraw": true
              },
              "fromcurrent": true,
              "mode": "immediate",
              "transition": {
               "duration": 500,
               "easing": "linear"
              }
             }
            ],
            "label": "&#9654;",
            "method": "animate"
           },
           {
            "args": [
             [
              null
             ],
             {
              "frame": {
               "duration": 0,
               "redraw": true
              },
              "fromcurrent": true,
              "mode": "immediate",
              "transition": {
               "duration": 0,
               "easing": "linear"
              }
             }
            ],
            "label": "&#9724;",
            "method": "animate"
           }
          ],
          "direction": "left",
          "pad": {
           "r": 10,
           "t": 70
          },
          "showactive": false,
          "type": "buttons",
          "x": 0.1,
          "xanchor": "right",
          "y": 0,
          "yanchor": "top"
         }
        ],
        "xaxis": {
         "anchor": "y",
         "domain": [
          0,
          1
         ],
         "tickangle": 45,
         "title": {
          "text": "Degree"
         }
        },
        "yaxis": {
         "anchor": "x",
         "domain": [
          0,
          1
         ],
         "title": {
          "text": "degree_type"
         }
        }
       }
      },
      "text/html": [
       "<div>\n",
       "        \n",
       "        \n",
       "            <div id=\"0e4ff2e7-dd70-4cce-93c4-76c941b9882c\" class=\"plotly-graph-div\" style=\"height:525px; width:100%;\"></div>\n",
       "            <script type=\"text/javascript\">\n",
       "                require([\"plotly\"], function(Plotly) {\n",
       "                    window.PLOTLYENV=window.PLOTLYENV || {};\n",
       "                    \n",
       "                if (document.getElementById(\"0e4ff2e7-dd70-4cce-93c4-76c941b9882c\")) {\n",
       "                    Plotly.newPlot(\n",
       "                        '0e4ff2e7-dd70-4cce-93c4-76c941b9882c',\n",
       "                        [{\"alignmentgroup\": \"True\", \"hovertemplate\": \"Job Function=Other<br>Year=2014<br>Degree=%{x}<br>degree_type=%{y}<extra></extra>\", \"legendgroup\": \"Other\", \"marker\": {\"color\": \"#636efa\"}, \"name\": \"Other\", \"offsetgroup\": \"Other\", \"orientation\": \"v\", \"showlegend\": true, \"textposition\": \"auto\", \"type\": \"bar\", \"x\": [\"bachelors\", \"not specified\", \"masters\", \"mba\"], \"xaxis\": \"x\", \"y\": [38.0, 36.0, 25.0, 2.0], \"yaxis\": \"y\"}],\n",
       "                        {\"barmode\": \"group\", \"legend\": {\"title\": {\"text\": \"Job Function\"}, \"tracegroupgap\": 0}, \"margin\": {\"t\": 60}, \"sliders\": [{\"active\": 0, \"currentvalue\": {\"prefix\": \"Year=\"}, \"len\": 0.9, \"pad\": {\"b\": 10, \"t\": 60}, \"steps\": [{\"args\": [[\"2014\"], {\"frame\": {\"duration\": 0, \"redraw\": true}, \"fromcurrent\": true, \"mode\": \"immediate\", \"transition\": {\"duration\": 0, \"easing\": \"linear\"}}], \"label\": \"2014\", \"method\": \"animate\"}, {\"args\": [[\"2015\"], {\"frame\": {\"duration\": 0, \"redraw\": true}, \"fromcurrent\": true, \"mode\": \"immediate\", \"transition\": {\"duration\": 0, \"easing\": \"linear\"}}], \"label\": \"2015\", \"method\": \"animate\"}, {\"args\": [[\"2016\"], {\"frame\": {\"duration\": 0, \"redraw\": true}, \"fromcurrent\": true, \"mode\": \"immediate\", \"transition\": {\"duration\": 0, \"easing\": \"linear\"}}], \"label\": \"2016\", \"method\": \"animate\"}, {\"args\": [[\"2017\"], {\"frame\": {\"duration\": 0, \"redraw\": true}, \"fromcurrent\": true, \"mode\": \"immediate\", \"transition\": {\"duration\": 0, \"easing\": \"linear\"}}], \"label\": \"2017\", \"method\": \"animate\"}, {\"args\": [[\"2018\"], {\"frame\": {\"duration\": 0, \"redraw\": true}, \"fromcurrent\": true, \"mode\": \"immediate\", \"transition\": {\"duration\": 0, \"easing\": \"linear\"}}], \"label\": \"2018\", \"method\": \"animate\"}, {\"args\": [[\"2019\"], {\"frame\": {\"duration\": 0, \"redraw\": true}, \"fromcurrent\": true, \"mode\": \"immediate\", \"transition\": {\"duration\": 0, \"easing\": \"linear\"}}], \"label\": \"2019\", \"method\": \"animate\"}, {\"args\": [[\"2020\"], {\"frame\": {\"duration\": 0, \"redraw\": true}, \"fromcurrent\": true, \"mode\": \"immediate\", \"transition\": {\"duration\": 0, \"easing\": \"linear\"}}], \"label\": \"2020\", \"method\": \"animate\"}], \"x\": 0.1, \"xanchor\": \"left\", \"y\": 0, \"yanchor\": \"top\"}], \"template\": {\"data\": {\"bar\": [{\"error_x\": {\"color\": \"#2a3f5f\"}, \"error_y\": {\"color\": \"#2a3f5f\"}, \"marker\": {\"line\": {\"color\": \"#E5ECF6\", \"width\": 0.5}}, \"type\": \"bar\"}], \"barpolar\": [{\"marker\": {\"line\": {\"color\": \"#E5ECF6\", \"width\": 0.5}}, \"type\": \"barpolar\"}], \"carpet\": [{\"aaxis\": {\"endlinecolor\": \"#2a3f5f\", \"gridcolor\": \"white\", \"linecolor\": \"white\", \"minorgridcolor\": \"white\", \"startlinecolor\": \"#2a3f5f\"}, \"baxis\": {\"endlinecolor\": \"#2a3f5f\", \"gridcolor\": \"white\", \"linecolor\": \"white\", \"minorgridcolor\": \"white\", \"startlinecolor\": \"#2a3f5f\"}, \"type\": \"carpet\"}], \"choropleth\": [{\"colorbar\": {\"outlinewidth\": 0, \"ticks\": \"\"}, \"type\": \"choropleth\"}], \"contour\": [{\"colorbar\": {\"outlinewidth\": 0, \"ticks\": \"\"}, \"colorscale\": [[0.0, \"#0d0887\"], [0.1111111111111111, \"#46039f\"], [0.2222222222222222, \"#7201a8\"], [0.3333333333333333, \"#9c179e\"], [0.4444444444444444, \"#bd3786\"], [0.5555555555555556, \"#d8576b\"], [0.6666666666666666, \"#ed7953\"], [0.7777777777777778, \"#fb9f3a\"], [0.8888888888888888, \"#fdca26\"], [1.0, \"#f0f921\"]], \"type\": \"contour\"}], \"contourcarpet\": [{\"colorbar\": {\"outlinewidth\": 0, \"ticks\": \"\"}, \"type\": \"contourcarpet\"}], \"heatmap\": [{\"colorbar\": {\"outlinewidth\": 0, \"ticks\": \"\"}, \"colorscale\": [[0.0, \"#0d0887\"], [0.1111111111111111, \"#46039f\"], [0.2222222222222222, \"#7201a8\"], [0.3333333333333333, \"#9c179e\"], [0.4444444444444444, \"#bd3786\"], [0.5555555555555556, \"#d8576b\"], [0.6666666666666666, \"#ed7953\"], [0.7777777777777778, \"#fb9f3a\"], [0.8888888888888888, \"#fdca26\"], [1.0, \"#f0f921\"]], \"type\": \"heatmap\"}], \"heatmapgl\": [{\"colorbar\": {\"outlinewidth\": 0, \"ticks\": \"\"}, \"colorscale\": [[0.0, \"#0d0887\"], [0.1111111111111111, \"#46039f\"], [0.2222222222222222, \"#7201a8\"], [0.3333333333333333, \"#9c179e\"], [0.4444444444444444, \"#bd3786\"], [0.5555555555555556, \"#d8576b\"], [0.6666666666666666, \"#ed7953\"], [0.7777777777777778, \"#fb9f3a\"], [0.8888888888888888, \"#fdca26\"], [1.0, \"#f0f921\"]], \"type\": \"heatmapgl\"}], \"histogram\": [{\"marker\": {\"colorbar\": {\"outlinewidth\": 0, \"ticks\": \"\"}}, \"type\": \"histogram\"}], \"histogram2d\": [{\"colorbar\": {\"outlinewidth\": 0, \"ticks\": \"\"}, \"colorscale\": [[0.0, \"#0d0887\"], [0.1111111111111111, \"#46039f\"], [0.2222222222222222, \"#7201a8\"], [0.3333333333333333, \"#9c179e\"], [0.4444444444444444, \"#bd3786\"], [0.5555555555555556, \"#d8576b\"], [0.6666666666666666, \"#ed7953\"], [0.7777777777777778, \"#fb9f3a\"], [0.8888888888888888, \"#fdca26\"], [1.0, \"#f0f921\"]], \"type\": \"histogram2d\"}], \"histogram2dcontour\": [{\"colorbar\": {\"outlinewidth\": 0, \"ticks\": \"\"}, \"colorscale\": [[0.0, \"#0d0887\"], [0.1111111111111111, \"#46039f\"], [0.2222222222222222, \"#7201a8\"], [0.3333333333333333, \"#9c179e\"], [0.4444444444444444, \"#bd3786\"], [0.5555555555555556, \"#d8576b\"], [0.6666666666666666, \"#ed7953\"], [0.7777777777777778, \"#fb9f3a\"], [0.8888888888888888, \"#fdca26\"], [1.0, \"#f0f921\"]], \"type\": \"histogram2dcontour\"}], \"mesh3d\": [{\"colorbar\": {\"outlinewidth\": 0, \"ticks\": \"\"}, \"type\": \"mesh3d\"}], \"parcoords\": [{\"line\": {\"colorbar\": {\"outlinewidth\": 0, \"ticks\": \"\"}}, \"type\": \"parcoords\"}], \"pie\": [{\"automargin\": true, \"type\": \"pie\"}], \"scatter\": [{\"marker\": {\"colorbar\": {\"outlinewidth\": 0, \"ticks\": \"\"}}, \"type\": \"scatter\"}], \"scatter3d\": [{\"line\": {\"colorbar\": {\"outlinewidth\": 0, \"ticks\": \"\"}}, \"marker\": {\"colorbar\": {\"outlinewidth\": 0, \"ticks\": \"\"}}, \"type\": \"scatter3d\"}], \"scattercarpet\": [{\"marker\": {\"colorbar\": {\"outlinewidth\": 0, \"ticks\": \"\"}}, \"type\": \"scattercarpet\"}], \"scattergeo\": [{\"marker\": {\"colorbar\": {\"outlinewidth\": 0, \"ticks\": \"\"}}, \"type\": \"scattergeo\"}], \"scattergl\": [{\"marker\": {\"colorbar\": {\"outlinewidth\": 0, \"ticks\": \"\"}}, \"type\": \"scattergl\"}], \"scattermapbox\": [{\"marker\": {\"colorbar\": {\"outlinewidth\": 0, \"ticks\": \"\"}}, \"type\": \"scattermapbox\"}], \"scatterpolar\": [{\"marker\": {\"colorbar\": {\"outlinewidth\": 0, \"ticks\": \"\"}}, \"type\": \"scatterpolar\"}], \"scatterpolargl\": [{\"marker\": {\"colorbar\": {\"outlinewidth\": 0, \"ticks\": \"\"}}, \"type\": \"scatterpolargl\"}], \"scatterternary\": [{\"marker\": {\"colorbar\": {\"outlinewidth\": 0, \"ticks\": \"\"}}, \"type\": \"scatterternary\"}], \"surface\": [{\"colorbar\": {\"outlinewidth\": 0, \"ticks\": \"\"}, \"colorscale\": [[0.0, \"#0d0887\"], [0.1111111111111111, \"#46039f\"], [0.2222222222222222, \"#7201a8\"], [0.3333333333333333, \"#9c179e\"], [0.4444444444444444, \"#bd3786\"], [0.5555555555555556, \"#d8576b\"], [0.6666666666666666, \"#ed7953\"], [0.7777777777777778, \"#fb9f3a\"], [0.8888888888888888, \"#fdca26\"], [1.0, \"#f0f921\"]], \"type\": \"surface\"}], \"table\": [{\"cells\": {\"fill\": {\"color\": \"#EBF0F8\"}, \"line\": {\"color\": \"white\"}}, \"header\": {\"fill\": {\"color\": \"#C8D4E3\"}, \"line\": {\"color\": \"white\"}}, \"type\": \"table\"}]}, \"layout\": {\"annotationdefaults\": {\"arrowcolor\": \"#2a3f5f\", \"arrowhead\": 0, \"arrowwidth\": 1}, \"coloraxis\": {\"colorbar\": {\"outlinewidth\": 0, \"ticks\": \"\"}}, \"colorscale\": {\"diverging\": [[0, \"#8e0152\"], [0.1, \"#c51b7d\"], [0.2, \"#de77ae\"], [0.3, \"#f1b6da\"], [0.4, \"#fde0ef\"], [0.5, \"#f7f7f7\"], [0.6, \"#e6f5d0\"], [0.7, \"#b8e186\"], [0.8, \"#7fbc41\"], [0.9, \"#4d9221\"], [1, \"#276419\"]], \"sequential\": [[0.0, \"#0d0887\"], [0.1111111111111111, \"#46039f\"], [0.2222222222222222, \"#7201a8\"], [0.3333333333333333, \"#9c179e\"], [0.4444444444444444, \"#bd3786\"], [0.5555555555555556, \"#d8576b\"], [0.6666666666666666, \"#ed7953\"], [0.7777777777777778, \"#fb9f3a\"], [0.8888888888888888, \"#fdca26\"], [1.0, \"#f0f921\"]], \"sequentialminus\": [[0.0, \"#0d0887\"], [0.1111111111111111, \"#46039f\"], [0.2222222222222222, \"#7201a8\"], [0.3333333333333333, \"#9c179e\"], [0.4444444444444444, \"#bd3786\"], [0.5555555555555556, \"#d8576b\"], [0.6666666666666666, \"#ed7953\"], [0.7777777777777778, \"#fb9f3a\"], [0.8888888888888888, \"#fdca26\"], [1.0, \"#f0f921\"]]}, \"colorway\": [\"#636efa\", \"#EF553B\", \"#00cc96\", \"#ab63fa\", \"#FFA15A\", \"#19d3f3\", \"#FF6692\", \"#B6E880\", \"#FF97FF\", \"#FECB52\"], \"font\": {\"color\": \"#2a3f5f\"}, \"geo\": {\"bgcolor\": \"white\", \"lakecolor\": \"white\", \"landcolor\": \"#E5ECF6\", \"showlakes\": true, \"showland\": true, \"subunitcolor\": \"white\"}, \"hoverlabel\": {\"align\": \"left\"}, \"hovermode\": \"closest\", \"mapbox\": {\"style\": \"light\"}, \"paper_bgcolor\": \"white\", \"plot_bgcolor\": \"#E5ECF6\", \"polar\": {\"angularaxis\": {\"gridcolor\": \"white\", \"linecolor\": \"white\", \"ticks\": \"\"}, \"bgcolor\": \"#E5ECF6\", \"radialaxis\": {\"gridcolor\": \"white\", \"linecolor\": \"white\", \"ticks\": \"\"}}, \"scene\": {\"xaxis\": {\"backgroundcolor\": \"#E5ECF6\", \"gridcolor\": \"white\", \"gridwidth\": 2, \"linecolor\": \"white\", \"showbackground\": true, \"ticks\": \"\", \"zerolinecolor\": \"white\"}, \"yaxis\": {\"backgroundcolor\": \"#E5ECF6\", \"gridcolor\": \"white\", \"gridwidth\": 2, \"linecolor\": \"white\", \"showbackground\": true, \"ticks\": \"\", \"zerolinecolor\": \"white\"}, \"zaxis\": {\"backgroundcolor\": \"#E5ECF6\", \"gridcolor\": \"white\", \"gridwidth\": 2, \"linecolor\": \"white\", \"showbackground\": true, \"ticks\": \"\", \"zerolinecolor\": \"white\"}}, \"shapedefaults\": {\"line\": {\"color\": \"#2a3f5f\"}}, \"ternary\": {\"aaxis\": {\"gridcolor\": \"white\", \"linecolor\": \"white\", \"ticks\": \"\"}, \"baxis\": {\"gridcolor\": \"white\", \"linecolor\": \"white\", \"ticks\": \"\"}, \"bgcolor\": \"#E5ECF6\", \"caxis\": {\"gridcolor\": \"white\", \"linecolor\": \"white\", \"ticks\": \"\"}}, \"title\": {\"x\": 0.05}, \"xaxis\": {\"automargin\": true, \"gridcolor\": \"white\", \"linecolor\": \"white\", \"ticks\": \"\", \"title\": {\"standoff\": 15}, \"zerolinecolor\": \"white\", \"zerolinewidth\": 2}, \"yaxis\": {\"automargin\": true, \"gridcolor\": \"white\", \"linecolor\": \"white\", \"ticks\": \"\", \"title\": {\"standoff\": 15}, \"zerolinecolor\": \"white\", \"zerolinewidth\": 2}}}, \"updatemenus\": [{\"buttons\": [{\"args\": [null, {\"frame\": {\"duration\": 500, \"redraw\": true}, \"fromcurrent\": true, \"mode\": \"immediate\", \"transition\": {\"duration\": 500, \"easing\": \"linear\"}}], \"label\": \"&#9654;\", \"method\": \"animate\"}, {\"args\": [[null], {\"frame\": {\"duration\": 0, \"redraw\": true}, \"fromcurrent\": true, \"mode\": \"immediate\", \"transition\": {\"duration\": 0, \"easing\": \"linear\"}}], \"label\": \"&#9724;\", \"method\": \"animate\"}], \"direction\": \"left\", \"pad\": {\"r\": 10, \"t\": 70}, \"showactive\": false, \"type\": \"buttons\", \"x\": 0.1, \"xanchor\": \"right\", \"y\": 0, \"yanchor\": \"top\"}], \"xaxis\": {\"anchor\": \"y\", \"domain\": [0.0, 1.0], \"tickangle\": 45, \"title\": {\"text\": \"Degree\"}}, \"yaxis\": {\"anchor\": \"x\", \"domain\": [0.0, 1.0], \"title\": {\"text\": \"degree_type\"}}},\n",
       "                        {\"responsive\": true}\n",
       "                    ).then(function(){\n",
       "                            Plotly.addFrames('0e4ff2e7-dd70-4cce-93c4-76c941b9882c', [{\"data\": [{\"alignmentgroup\": \"True\", \"hovertemplate\": \"Job Function=Other<br>Year=2014<br>Degree=%{x}<br>degree_type=%{y}<extra></extra>\", \"legendgroup\": \"Other\", \"marker\": {\"color\": \"#636efa\"}, \"name\": \"Other\", \"offsetgroup\": \"Other\", \"orientation\": \"v\", \"showlegend\": true, \"textposition\": \"auto\", \"x\": [\"bachelors\", \"not specified\", \"masters\", \"mba\"], \"xaxis\": \"x\", \"y\": [38.0, 36.0, 25.0, 2.0], \"yaxis\": \"y\", \"type\": \"bar\"}], \"name\": \"2014\"}, {\"data\": [{\"alignmentgroup\": \"True\", \"hovertemplate\": \"Job Function=Other<br>Year=2015<br>Degree=%{x}<br>degree_type=%{y}<extra></extra>\", \"legendgroup\": \"Other\", \"marker\": {\"color\": \"#636efa\"}, \"name\": \"Other\", \"offsetgroup\": \"Other\", \"orientation\": \"v\", \"showlegend\": true, \"textposition\": \"auto\", \"x\": [\"not specified\", \"bachelors\", \"masters\", \"mba\"], \"xaxis\": \"x\", \"y\": [46.0, 33.0, 16.0, 5.0], \"yaxis\": \"y\", \"type\": \"bar\"}], \"name\": \"2015\"}, {\"data\": [{\"alignmentgroup\": \"True\", \"hovertemplate\": \"Job Function=Other<br>Year=2016<br>Degree=%{x}<br>degree_type=%{y}<extra></extra>\", \"legendgroup\": \"Other\", \"marker\": {\"color\": \"#636efa\"}, \"name\": \"Other\", \"offsetgroup\": \"Other\", \"orientation\": \"v\", \"showlegend\": true, \"textposition\": \"auto\", \"x\": [\"not specified\", \"bachelors\", \"masters\", \"mba\"], \"xaxis\": \"x\", \"y\": [48.0, 29.0, 14.0, 9.0], \"yaxis\": \"y\", \"type\": \"bar\"}], \"name\": \"2016\"}, {\"data\": [{\"alignmentgroup\": \"True\", \"hovertemplate\": \"Job Function=Other<br>Year=2017<br>Degree=%{x}<br>degree_type=%{y}<extra></extra>\", \"legendgroup\": \"Other\", \"marker\": {\"color\": \"#636efa\"}, \"name\": \"Other\", \"offsetgroup\": \"Other\", \"orientation\": \"v\", \"showlegend\": true, \"textposition\": \"auto\", \"x\": [\"not specified\", \"bachelors\", \"masters\", \"mba\"], \"xaxis\": \"x\", \"y\": [46.0, 37.0, 9.0, 8.0], \"yaxis\": \"y\", \"type\": \"bar\"}], \"name\": \"2017\"}, {\"data\": [{\"alignmentgroup\": \"True\", \"hovertemplate\": \"Job Function=Other<br>Year=2018<br>Degree=%{x}<br>degree_type=%{y}<extra></extra>\", \"legendgroup\": \"Other\", \"marker\": {\"color\": \"#636efa\"}, \"name\": \"Other\", \"offsetgroup\": \"Other\", \"orientation\": \"v\", \"showlegend\": true, \"textposition\": \"auto\", \"x\": [\"not specified\", \"bachelors\", \"masters\"], \"xaxis\": \"x\", \"y\": [58.0, 33.0, 8.0], \"yaxis\": \"y\", \"type\": \"bar\"}, {\"alignmentgroup\": \"True\", \"hovertemplate\": \"Job Function=Financial Services<br>Year=2018<br>Degree=%{x}<br>degree_type=%{y}<extra></extra>\", \"legendgroup\": \"Financial Services\", \"marker\": {\"color\": \"#EF553B\"}, \"name\": \"Financial Services\", \"offsetgroup\": \"Financial Services\", \"orientation\": \"v\", \"showlegend\": true, \"textposition\": \"auto\", \"x\": [\"bachelors\", \"not specified\", \"masters\", \"mba\"], \"xaxis\": \"x\", \"y\": [49.0, 28.0, 22.0, 1.0], \"yaxis\": \"y\", \"type\": \"bar\"}, {\"alignmentgroup\": \"True\", \"hovertemplate\": \"Job Function=Consulting<br>Year=2018<br>Degree=%{x}<br>degree_type=%{y}<extra></extra>\", \"legendgroup\": \"Consulting\", \"marker\": {\"color\": \"#00cc96\"}, \"name\": \"Consulting\", \"offsetgroup\": \"Consulting\", \"orientation\": \"v\", \"showlegend\": true, \"textposition\": \"auto\", \"x\": [\"bachelors\", \"masters\", \"not specified\", \"mba\", \"phd\"], \"xaxis\": \"x\", \"y\": [51.0, 31.0, 14.0, 4.0, 1.0], \"yaxis\": \"y\", \"type\": \"bar\"}, {\"alignmentgroup\": \"True\", \"hovertemplate\": \"Job Function=Transportation & Logistics<br>Year=2018<br>Degree=%{x}<br>degree_type=%{y}<extra></extra>\", \"legendgroup\": \"Transportation & Logistics\", \"marker\": {\"color\": \"#ab63fa\"}, \"name\": \"Transportation & Logistics\", \"offsetgroup\": \"Transportation & Logistics\", \"orientation\": \"v\", \"showlegend\": true, \"textposition\": \"auto\", \"x\": [\"not specified\", \"bachelors\", \"masters\"], \"xaxis\": \"x\", \"y\": [56.0, 33.0, 11.0], \"yaxis\": \"y\", \"type\": \"bar\"}, {\"alignmentgroup\": \"True\", \"hovertemplate\": \"Job Function=Healthcare & Pharmaceuticals<br>Year=2018<br>Degree=%{x}<br>degree_type=%{y}<extra></extra>\", \"legendgroup\": \"Healthcare & Pharmaceuticals\", \"marker\": {\"color\": \"#FFA15A\"}, \"name\": \"Healthcare & Pharmaceuticals\", \"offsetgroup\": \"Healthcare & Pharmaceuticals\", \"orientation\": \"v\", \"showlegend\": true, \"textposition\": \"auto\", \"x\": [\"not specified\", \"bachelors\", \"masters\"], \"xaxis\": \"x\", \"y\": [43.0, 29.0, 29.0], \"yaxis\": \"y\", \"type\": \"bar\"}, {\"alignmentgroup\": \"True\", \"hovertemplate\": \"Job Function=Manufacturing<br>Year=2018<br>Degree=%{x}<br>degree_type=%{y}<extra></extra>\", \"legendgroup\": \"Manufacturing\", \"marker\": {\"color\": \"#19d3f3\"}, \"name\": \"Manufacturing\", \"offsetgroup\": \"Manufacturing\", \"orientation\": \"v\", \"showlegend\": true, \"textposition\": \"auto\", \"x\": [\"masters\", \"mba\", \"not specified\"], \"xaxis\": \"x\", \"y\": [40.0, 40.0, 20.0], \"yaxis\": \"y\", \"type\": \"bar\"}, {\"alignmentgroup\": \"True\", \"hovertemplate\": \"Job Function=Real Estate & Construction<br>Year=2018<br>Degree=%{x}<br>degree_type=%{y}<extra></extra>\", \"legendgroup\": \"Real Estate & Construction\", \"marker\": {\"color\": \"#FF6692\"}, \"name\": \"Real Estate & Construction\", \"offsetgroup\": \"Real Estate & Construction\", \"orientation\": \"v\", \"showlegend\": true, \"textposition\": \"auto\", \"x\": [\"not specified\", \"bachelors\", \"masters\"], \"xaxis\": \"x\", \"y\": [67.0, 17.0, 17.0], \"yaxis\": \"y\", \"type\": \"bar\"}, {\"alignmentgroup\": \"True\", \"hovertemplate\": \"Job Function=Professional Services<br>Year=2018<br>Degree=%{x}<br>degree_type=%{y}<extra></extra>\", \"legendgroup\": \"Professional Services\", \"marker\": {\"color\": \"#B6E880\"}, \"name\": \"Professional Services\", \"offsetgroup\": \"Professional Services\", \"orientation\": \"v\", \"showlegend\": true, \"textposition\": \"auto\", \"x\": [\"bachelors\", \"not specified\", \"masters\"], \"xaxis\": \"x\", \"y\": [56.0, 22.0, 22.0], \"yaxis\": \"y\", \"type\": \"bar\"}, {\"alignmentgroup\": \"True\", \"hovertemplate\": \"Job Function=Technology<br>Year=2018<br>Degree=%{x}<br>degree_type=%{y}<extra></extra>\", \"legendgroup\": \"Technology\", \"marker\": {\"color\": \"#FF97FF\"}, \"name\": \"Technology\", \"offsetgroup\": \"Technology\", \"orientation\": \"v\", \"showlegend\": true, \"textposition\": \"auto\", \"x\": [\"bachelors\", \"masters\"], \"xaxis\": \"x\", \"y\": [67.0, 33.0], \"yaxis\": \"y\", \"type\": \"bar\"}, {\"alignmentgroup\": \"True\", \"hovertemplate\": \"Job Function=Government & Non Profit & Education<br>Year=2018<br>Degree=%{x}<br>degree_type=%{y}<extra></extra>\", \"legendgroup\": \"Government & Non Profit & Education\", \"marker\": {\"color\": \"#FECB52\"}, \"name\": \"Government & Non Profit & Education\", \"offsetgroup\": \"Government & Non Profit & Education\", \"orientation\": \"v\", \"showlegend\": true, \"textposition\": \"auto\", \"x\": [\"bachelors\", \"not specified\"], \"xaxis\": \"x\", \"y\": [67.0, 33.0], \"yaxis\": \"y\", \"type\": \"bar\"}, {\"alignmentgroup\": \"True\", \"hovertemplate\": \"Job Function=Consumer Packaged Goods<br>Year=2018<br>Degree=%{x}<br>degree_type=%{y}<extra></extra>\", \"legendgroup\": \"Consumer Packaged Goods\", \"marker\": {\"color\": \"#636efa\"}, \"name\": \"Consumer Packaged Goods\", \"offsetgroup\": \"Consumer Packaged Goods\", \"orientation\": \"v\", \"showlegend\": true, \"textposition\": \"auto\", \"x\": [\"bachelors\", \"masters\"], \"xaxis\": \"x\", \"y\": [67.0, 33.0], \"yaxis\": \"y\", \"type\": \"bar\"}, {\"alignmentgroup\": \"True\", \"hovertemplate\": \"Job Function=Retail<br>Year=2018<br>Degree=%{x}<br>degree_type=%{y}<extra></extra>\", \"legendgroup\": \"Retail\", \"marker\": {\"color\": \"#EF553B\"}, \"name\": \"Retail\", \"offsetgroup\": \"Retail\", \"orientation\": \"v\", \"showlegend\": true, \"textposition\": \"auto\", \"x\": [\"not specified\", \"bachelors\", \"masters\"], \"xaxis\": \"x\", \"y\": [50.0, 33.0, 17.0], \"yaxis\": \"y\", \"type\": \"bar\"}, {\"alignmentgroup\": \"True\", \"hovertemplate\": \"Job Function=Media & Entertainment & Sports<br>Year=2018<br>Degree=%{x}<br>degree_type=%{y}<extra></extra>\", \"legendgroup\": \"Media & Entertainment & Sports\", \"marker\": {\"color\": \"#00cc96\"}, \"name\": \"Media & Entertainment & Sports\", \"offsetgroup\": \"Media & Entertainment & Sports\", \"orientation\": \"v\", \"showlegend\": true, \"textposition\": \"auto\", \"x\": [\"masters\"], \"xaxis\": \"x\", \"y\": [100.0], \"yaxis\": \"y\", \"type\": \"bar\"}, {\"alignmentgroup\": \"True\", \"hovertemplate\": \"Job Function=Hospitality<br>Year=2018<br>Degree=%{x}<br>degree_type=%{y}<extra></extra>\", \"legendgroup\": \"Hospitality\", \"marker\": {\"color\": \"#ab63fa\"}, \"name\": \"Hospitality\", \"offsetgroup\": \"Hospitality\", \"orientation\": \"v\", \"showlegend\": true, \"textposition\": \"auto\", \"x\": [\"not specified\"], \"xaxis\": \"x\", \"y\": [100.0], \"yaxis\": \"y\", \"type\": \"bar\"}], \"name\": \"2018\"}, {\"data\": [{\"alignmentgroup\": \"True\", \"hovertemplate\": \"Job Function=Other<br>Year=2019<br>Degree=%{x}<br>degree_type=%{y}<extra></extra>\", \"legendgroup\": \"Other\", \"marker\": {\"color\": \"#636efa\"}, \"name\": \"Other\", \"offsetgroup\": \"Other\", \"orientation\": \"v\", \"showlegend\": true, \"textposition\": \"auto\", \"x\": [\"bachelors\", \"not specified\", \"masters\"], \"xaxis\": \"x\", \"y\": [50.0, 29.0, 21.0], \"yaxis\": \"y\", \"type\": \"bar\"}, {\"alignmentgroup\": \"True\", \"hovertemplate\": \"Job Function=Financial Services<br>Year=2019<br>Degree=%{x}<br>degree_type=%{y}<extra></extra>\", \"legendgroup\": \"Financial Services\", \"marker\": {\"color\": \"#EF553B\"}, \"name\": \"Financial Services\", \"offsetgroup\": \"Financial Services\", \"orientation\": \"v\", \"showlegend\": true, \"textposition\": \"auto\", \"x\": [\"bachelors\", \"masters\", \"not specified\", \"mba\"], \"xaxis\": \"x\", \"y\": [39.0, 34.0, 25.0, 2.0], \"yaxis\": \"y\", \"type\": \"bar\"}, {\"alignmentgroup\": \"True\", \"hovertemplate\": \"Job Function=Consulting<br>Year=2019<br>Degree=%{x}<br>degree_type=%{y}<extra></extra>\", \"legendgroup\": \"Consulting\", \"marker\": {\"color\": \"#00cc96\"}, \"name\": \"Consulting\", \"offsetgroup\": \"Consulting\", \"orientation\": \"v\", \"showlegend\": true, \"textposition\": \"auto\", \"x\": [\"masters\", \"bachelors\", \"not specified\", \"mba\"], \"xaxis\": \"x\", \"y\": [63.0, 24.0, 11.0, 2.0], \"yaxis\": \"y\", \"type\": \"bar\"}, {\"alignmentgroup\": \"True\", \"hovertemplate\": \"Job Function=Transportation & Logistics<br>Year=2019<br>Degree=%{x}<br>degree_type=%{y}<extra></extra>\", \"legendgroup\": \"Transportation & Logistics\", \"marker\": {\"color\": \"#ab63fa\"}, \"name\": \"Transportation & Logistics\", \"offsetgroup\": \"Transportation & Logistics\", \"orientation\": \"v\", \"showlegend\": true, \"textposition\": \"auto\", \"x\": [\"masters\", \"bachelors\", \"not specified\"], \"xaxis\": \"x\", \"y\": [43.0, 36.0, 21.0], \"yaxis\": \"y\", \"type\": \"bar\"}, {\"alignmentgroup\": \"True\", \"hovertemplate\": \"Job Function=Healthcare & Pharmaceuticals<br>Year=2019<br>Degree=%{x}<br>degree_type=%{y}<extra></extra>\", \"legendgroup\": \"Healthcare & Pharmaceuticals\", \"marker\": {\"color\": \"#FFA15A\"}, \"name\": \"Healthcare & Pharmaceuticals\", \"offsetgroup\": \"Healthcare & Pharmaceuticals\", \"orientation\": \"v\", \"showlegend\": true, \"textposition\": \"auto\", \"x\": [\"bachelors\", \"masters\", \"not specified\"], \"xaxis\": \"x\", \"y\": [50.0, 38.0, 12.0], \"yaxis\": \"y\", \"type\": \"bar\"}, {\"alignmentgroup\": \"True\", \"hovertemplate\": \"Job Function=Manufacturing<br>Year=2019<br>Degree=%{x}<br>degree_type=%{y}<extra></extra>\", \"legendgroup\": \"Manufacturing\", \"marker\": {\"color\": \"#19d3f3\"}, \"name\": \"Manufacturing\", \"offsetgroup\": \"Manufacturing\", \"orientation\": \"v\", \"showlegend\": true, \"textposition\": \"auto\", \"x\": [\"masters\", \"bachelors\", \"mba\"], \"xaxis\": \"x\", \"y\": [50.0, 44.0, 6.0], \"yaxis\": \"y\", \"type\": \"bar\"}, {\"alignmentgroup\": \"True\", \"hovertemplate\": \"Job Function=Real Estate & Construction<br>Year=2019<br>Degree=%{x}<br>degree_type=%{y}<extra></extra>\", \"legendgroup\": \"Real Estate & Construction\", \"marker\": {\"color\": \"#FF6692\"}, \"name\": \"Real Estate & Construction\", \"offsetgroup\": \"Real Estate & Construction\", \"orientation\": \"v\", \"showlegend\": true, \"textposition\": \"auto\", \"x\": [\"bachelors\", \"masters\"], \"xaxis\": \"x\", \"y\": [75.0, 25.0], \"yaxis\": \"y\", \"type\": \"bar\"}, {\"alignmentgroup\": \"True\", \"hovertemplate\": \"Job Function=Professional Services<br>Year=2019<br>Degree=%{x}<br>degree_type=%{y}<extra></extra>\", \"legendgroup\": \"Professional Services\", \"marker\": {\"color\": \"#B6E880\"}, \"name\": \"Professional Services\", \"offsetgroup\": \"Professional Services\", \"orientation\": \"v\", \"showlegend\": true, \"textposition\": \"auto\", \"x\": [\"bachelors\", \"not specified\", \"masters\"], \"xaxis\": \"x\", \"y\": [40.0, 33.0, 27.0], \"yaxis\": \"y\", \"type\": \"bar\"}, {\"alignmentgroup\": \"True\", \"hovertemplate\": \"Job Function=Technology<br>Year=2019<br>Degree=%{x}<br>degree_type=%{y}<extra></extra>\", \"legendgroup\": \"Technology\", \"marker\": {\"color\": \"#FF97FF\"}, \"name\": \"Technology\", \"offsetgroup\": \"Technology\", \"orientation\": \"v\", \"showlegend\": true, \"textposition\": \"auto\", \"x\": [\"bachelors\", \"masters\"], \"xaxis\": \"x\", \"y\": [67.0, 33.0], \"yaxis\": \"y\", \"type\": \"bar\"}, {\"alignmentgroup\": \"True\", \"hovertemplate\": \"Job Function=Government & Non Profit & Education<br>Year=2019<br>Degree=%{x}<br>degree_type=%{y}<extra></extra>\", \"legendgroup\": \"Government & Non Profit & Education\", \"marker\": {\"color\": \"#FECB52\"}, \"name\": \"Government & Non Profit & Education\", \"offsetgroup\": \"Government & Non Profit & Education\", \"orientation\": \"v\", \"showlegend\": true, \"textposition\": \"auto\", \"x\": [\"bachelors\", \"not specified\", \"masters\"], \"xaxis\": \"x\", \"y\": [67.0, 27.0, 7.0], \"yaxis\": \"y\", \"type\": \"bar\"}, {\"alignmentgroup\": \"True\", \"hovertemplate\": \"Job Function=Consumer Packaged Goods<br>Year=2019<br>Degree=%{x}<br>degree_type=%{y}<extra></extra>\", \"legendgroup\": \"Consumer Packaged Goods\", \"marker\": {\"color\": \"#636efa\"}, \"name\": \"Consumer Packaged Goods\", \"offsetgroup\": \"Consumer Packaged Goods\", \"orientation\": \"v\", \"showlegend\": true, \"textposition\": \"auto\", \"x\": [\"bachelors\", \"not specified\", \"masters\", \"mba\"], \"xaxis\": \"x\", \"y\": [65.0, 18.0, 12.0, 6.0], \"yaxis\": \"y\", \"type\": \"bar\"}, {\"alignmentgroup\": \"True\", \"hovertemplate\": \"Job Function=Retail<br>Year=2019<br>Degree=%{x}<br>degree_type=%{y}<extra></extra>\", \"legendgroup\": \"Retail\", \"marker\": {\"color\": \"#EF553B\"}, \"name\": \"Retail\", \"offsetgroup\": \"Retail\", \"orientation\": \"v\", \"showlegend\": true, \"textposition\": \"auto\", \"x\": [\"bachelors\", \"not specified\", \"masters\"], \"xaxis\": \"x\", \"y\": [40.0, 40.0, 20.0], \"yaxis\": \"y\", \"type\": \"bar\"}, {\"alignmentgroup\": \"True\", \"hovertemplate\": \"Job Function=Media & Entertainment & Sports<br>Year=2019<br>Degree=%{x}<br>degree_type=%{y}<extra></extra>\", \"legendgroup\": \"Media & Entertainment & Sports\", \"marker\": {\"color\": \"#00cc96\"}, \"name\": \"Media & Entertainment & Sports\", \"offsetgroup\": \"Media & Entertainment & Sports\", \"orientation\": \"v\", \"showlegend\": true, \"textposition\": \"auto\", \"x\": [\"bachelors\", \"masters\", \"not specified\"], \"xaxis\": \"x\", \"y\": [33.0, 33.0, 33.0], \"yaxis\": \"y\", \"type\": \"bar\"}, {\"alignmentgroup\": \"True\", \"hovertemplate\": \"Job Function=Hospitality<br>Year=2019<br>Degree=%{x}<br>degree_type=%{y}<extra></extra>\", \"legendgroup\": \"Hospitality\", \"marker\": {\"color\": \"#ab63fa\"}, \"name\": \"Hospitality\", \"offsetgroup\": \"Hospitality\", \"orientation\": \"v\", \"showlegend\": true, \"textposition\": \"auto\", \"x\": [\"masters\", \"bachelors\"], \"xaxis\": \"x\", \"y\": [67.0, 33.0], \"yaxis\": \"y\", \"type\": \"bar\"}, {\"alignmentgroup\": \"True\", \"hovertemplate\": \"Job Function=Energy<br>Year=2019<br>Degree=%{x}<br>degree_type=%{y}<extra></extra>\", \"legendgroup\": \"Energy\", \"marker\": {\"color\": \"#FFA15A\"}, \"name\": \"Energy\", \"offsetgroup\": \"Energy\", \"orientation\": \"v\", \"showlegend\": true, \"textposition\": \"auto\", \"x\": [\"masters\", \"bachelors\"], \"xaxis\": \"x\", \"y\": [50.0, 50.0], \"yaxis\": \"y\", \"type\": \"bar\"}], \"name\": \"2019\"}, {\"data\": [{\"alignmentgroup\": \"True\", \"hovertemplate\": \"Job Function=Other<br>Year=2020<br>Degree=%{x}<br>degree_type=%{y}<extra></extra>\", \"legendgroup\": \"Other\", \"marker\": {\"color\": \"#636efa\"}, \"name\": \"Other\", \"offsetgroup\": \"Other\", \"orientation\": \"v\", \"showlegend\": true, \"textposition\": \"auto\", \"x\": [\"bachelors\", \"masters\", \"not specified\"], \"xaxis\": \"x\", \"y\": [33.0, 33.0, 33.0], \"yaxis\": \"y\", \"type\": \"bar\"}, {\"alignmentgroup\": \"True\", \"hovertemplate\": \"Job Function=Financial Services<br>Year=2020<br>Degree=%{x}<br>degree_type=%{y}<extra></extra>\", \"legendgroup\": \"Financial Services\", \"marker\": {\"color\": \"#EF553B\"}, \"name\": \"Financial Services\", \"offsetgroup\": \"Financial Services\", \"orientation\": \"v\", \"showlegend\": true, \"textposition\": \"auto\", \"x\": [\"masters\", \"bachelors\", \"not specified\"], \"xaxis\": \"x\", \"y\": [61.0, 29.0, 11.0], \"yaxis\": \"y\", \"type\": \"bar\"}, {\"alignmentgroup\": \"True\", \"hovertemplate\": \"Job Function=Consulting<br>Year=2020<br>Degree=%{x}<br>degree_type=%{y}<extra></extra>\", \"legendgroup\": \"Consulting\", \"marker\": {\"color\": \"#00cc96\"}, \"name\": \"Consulting\", \"offsetgroup\": \"Consulting\", \"orientation\": \"v\", \"showlegend\": true, \"textposition\": \"auto\", \"x\": [\"masters\", \"bachelors\", \"not specified\"], \"xaxis\": \"x\", \"y\": [95.0, 2.0, 2.0], \"yaxis\": \"y\", \"type\": \"bar\"}, {\"alignmentgroup\": \"True\", \"hovertemplate\": \"Job Function=Transportation & Logistics<br>Year=2020<br>Degree=%{x}<br>degree_type=%{y}<extra></extra>\", \"legendgroup\": \"Transportation & Logistics\", \"marker\": {\"color\": \"#ab63fa\"}, \"name\": \"Transportation & Logistics\", \"offsetgroup\": \"Transportation & Logistics\", \"orientation\": \"v\", \"showlegend\": true, \"textposition\": \"auto\", \"x\": [\"bachelors\", \"masters\", \"not specified\"], \"xaxis\": \"x\", \"y\": [33.0, 33.0, 33.0], \"yaxis\": \"y\", \"type\": \"bar\"}, {\"alignmentgroup\": \"True\", \"hovertemplate\": \"Job Function=Healthcare & Pharmaceuticals<br>Year=2020<br>Degree=%{x}<br>degree_type=%{y}<extra></extra>\", \"legendgroup\": \"Healthcare & Pharmaceuticals\", \"marker\": {\"color\": \"#FFA15A\"}, \"name\": \"Healthcare & Pharmaceuticals\", \"offsetgroup\": \"Healthcare & Pharmaceuticals\", \"orientation\": \"v\", \"showlegend\": true, \"textposition\": \"auto\", \"x\": [\"bachelors\", \"masters\", \"not specified\"], \"xaxis\": \"x\", \"y\": [33.0, 33.0, 33.0], \"yaxis\": \"y\", \"type\": \"bar\"}, {\"alignmentgroup\": \"True\", \"hovertemplate\": \"Job Function=Manufacturing<br>Year=2020<br>Degree=%{x}<br>degree_type=%{y}<extra></extra>\", \"legendgroup\": \"Manufacturing\", \"marker\": {\"color\": \"#19d3f3\"}, \"name\": \"Manufacturing\", \"offsetgroup\": \"Manufacturing\", \"orientation\": \"v\", \"showlegend\": true, \"textposition\": \"auto\", \"x\": [\"masters\", \"bachelors\", \"not specified\"], \"xaxis\": \"x\", \"y\": [71.0, 14.0, 14.0], \"yaxis\": \"y\", \"type\": \"bar\"}, {\"alignmentgroup\": \"True\", \"hovertemplate\": \"Job Function=Real Estate & Construction<br>Year=2020<br>Degree=%{x}<br>degree_type=%{y}<extra></extra>\", \"legendgroup\": \"Real Estate & Construction\", \"marker\": {\"color\": \"#FF6692\"}, \"name\": \"Real Estate & Construction\", \"offsetgroup\": \"Real Estate & Construction\", \"orientation\": \"v\", \"showlegend\": true, \"textposition\": \"auto\", \"x\": [\"masters\", \"bachelors\"], \"xaxis\": \"x\", \"y\": [50.0, 50.0], \"yaxis\": \"y\", \"type\": \"bar\"}, {\"alignmentgroup\": \"True\", \"hovertemplate\": \"Job Function=Professional Services<br>Year=2020<br>Degree=%{x}<br>degree_type=%{y}<extra></extra>\", \"legendgroup\": \"Professional Services\", \"marker\": {\"color\": \"#B6E880\"}, \"name\": \"Professional Services\", \"offsetgroup\": \"Professional Services\", \"orientation\": \"v\", \"showlegend\": true, \"textposition\": \"auto\", \"x\": [\"bachelors\", \"not specified\", \"masters\"], \"xaxis\": \"x\", \"y\": [44.0, 33.0, 22.0], \"yaxis\": \"y\", \"type\": \"bar\"}, {\"alignmentgroup\": \"True\", \"hovertemplate\": \"Job Function=Technology<br>Year=2020<br>Degree=%{x}<br>degree_type=%{y}<extra></extra>\", \"legendgroup\": \"Technology\", \"marker\": {\"color\": \"#FF97FF\"}, \"name\": \"Technology\", \"offsetgroup\": \"Technology\", \"orientation\": \"v\", \"showlegend\": true, \"textposition\": \"auto\", \"x\": [\"masters\", \"bachelors\", \"not specified\"], \"xaxis\": \"x\", \"y\": [73.0, 18.0, 9.0], \"yaxis\": \"y\", \"type\": \"bar\"}, {\"alignmentgroup\": \"True\", \"hovertemplate\": \"Job Function=Government & Non Profit & Education<br>Year=2020<br>Degree=%{x}<br>degree_type=%{y}<extra></extra>\", \"legendgroup\": \"Government & Non Profit & Education\", \"marker\": {\"color\": \"#FECB52\"}, \"name\": \"Government & Non Profit & Education\", \"offsetgroup\": \"Government & Non Profit & Education\", \"orientation\": \"v\", \"showlegend\": true, \"textposition\": \"auto\", \"x\": [\"masters\", \"bachelors\"], \"xaxis\": \"x\", \"y\": [78.0, 22.0], \"yaxis\": \"y\", \"type\": \"bar\"}, {\"alignmentgroup\": \"True\", \"hovertemplate\": \"Job Function=Consumer Packaged Goods<br>Year=2020<br>Degree=%{x}<br>degree_type=%{y}<extra></extra>\", \"legendgroup\": \"Consumer Packaged Goods\", \"marker\": {\"color\": \"#636efa\"}, \"name\": \"Consumer Packaged Goods\", \"offsetgroup\": \"Consumer Packaged Goods\", \"orientation\": \"v\", \"showlegend\": true, \"textposition\": \"auto\", \"x\": [\"masters\", \"not specified\", \"bachelors\"], \"xaxis\": \"x\", \"y\": [43.0, 43.0, 14.0], \"yaxis\": \"y\", \"type\": \"bar\"}, {\"alignmentgroup\": \"True\", \"hovertemplate\": \"Job Function=Retail<br>Year=2020<br>Degree=%{x}<br>degree_type=%{y}<extra></extra>\", \"legendgroup\": \"Retail\", \"marker\": {\"color\": \"#EF553B\"}, \"name\": \"Retail\", \"offsetgroup\": \"Retail\", \"orientation\": \"v\", \"showlegend\": true, \"textposition\": \"auto\", \"x\": [\"bachelors\", \"not specified\", \"masters\"], \"xaxis\": \"x\", \"y\": [43.0, 43.0, 14.0], \"yaxis\": \"y\", \"type\": \"bar\"}, {\"alignmentgroup\": \"True\", \"hovertemplate\": \"Job Function=Media & Entertainment & Sports<br>Year=2020<br>Degree=%{x}<br>degree_type=%{y}<extra></extra>\", \"legendgroup\": \"Media & Entertainment & Sports\", \"marker\": {\"color\": \"#00cc96\"}, \"name\": \"Media & Entertainment & Sports\", \"offsetgroup\": \"Media & Entertainment & Sports\", \"orientation\": \"v\", \"showlegend\": true, \"textposition\": \"auto\", \"x\": [\"masters\", \"bachelors\"], \"xaxis\": \"x\", \"y\": [50.0, 50.0], \"yaxis\": \"y\", \"type\": \"bar\"}, {\"alignmentgroup\": \"True\", \"hovertemplate\": \"Job Function=Hospitality<br>Year=2020<br>Degree=%{x}<br>degree_type=%{y}<extra></extra>\", \"legendgroup\": \"Hospitality\", \"marker\": {\"color\": \"#ab63fa\"}, \"name\": \"Hospitality\", \"offsetgroup\": \"Hospitality\", \"orientation\": \"v\", \"showlegend\": true, \"textposition\": \"auto\", \"x\": [\"masters\", \"bachelors\"], \"xaxis\": \"x\", \"y\": [67.0, 33.0], \"yaxis\": \"y\", \"type\": \"bar\"}, {\"alignmentgroup\": \"True\", \"hovertemplate\": \"Job Function=Energy<br>Year=2020<br>Degree=%{x}<br>degree_type=%{y}<extra></extra>\", \"legendgroup\": \"Energy\", \"marker\": {\"color\": \"#FFA15A\"}, \"name\": \"Energy\", \"offsetgroup\": \"Energy\", \"orientation\": \"v\", \"showlegend\": true, \"textposition\": \"auto\", \"x\": [\"bachelors\", \"not specified\"], \"xaxis\": \"x\", \"y\": [50.0, 50.0], \"yaxis\": \"y\", \"type\": \"bar\"}], \"name\": \"2020\"}]);\n",
       "                        }).then(function(){\n",
       "                            \n",
       "var gd = document.getElementById('0e4ff2e7-dd70-4cce-93c4-76c941b9882c');\n",
       "var x = new MutationObserver(function (mutations, observer) {{\n",
       "        var display = window.getComputedStyle(gd).display;\n",
       "        if (!display || display === 'none') {{\n",
       "            console.log([gd, 'removed!']);\n",
       "            Plotly.purge(gd);\n",
       "            observer.disconnect();\n",
       "        }}\n",
       "}});\n",
       "\n",
       "// Listen for the removal of the full notebook cells\n",
       "var notebookContainer = gd.closest('#notebook-container');\n",
       "if (notebookContainer) {{\n",
       "    x.observe(notebookContainer, {childList: true});\n",
       "}}\n",
       "\n",
       "// Listen for the clearing of the current output cell\n",
       "var outputEl = gd.closest('.output');\n",
       "if (outputEl) {{\n",
       "    x.observe(outputEl, {childList: true});\n",
       "}}\n",
       "\n",
       "                        })\n",
       "                };\n",
       "                });\n",
       "            </script>\n",
       "        </div>"
      ]
     },
     "metadata": {},
     "output_type": "display_data"
    }
   ],
   "source": [
    "# visualize the degrees.\n",
    "\n",
    "DegreeData[\"Year\"] = DegreeData[\"Year\"].astype(str)\n",
    "\n",
    "import plotly.express as px\n",
    "\n",
    "fig = px.bar(DegreeData, x=\"Degree\", y=\"degree_type\",color = 'Job Function', animation_frame ='Year', barmode = 'group')\n",
    "fig.update_layout(barmode='group', xaxis_tickangle=45)\n",
    "fig.show()"
   ]
  },
  {
   "cell_type": "code",
   "execution_count": 98,
   "metadata": {},
   "outputs": [],
   "source": [
    "DegreeData['On Campus'] = 'OCI'"
   ]
  },
  {
   "cell_type": "code",
   "execution_count": 99,
   "metadata": {},
   "outputs": [],
   "source": [
    "### Dataset Creation for Tableau ###"
   ]
  },
  {
   "cell_type": "code",
   "execution_count": 100,
   "metadata": {},
   "outputs": [
    {
     "name": "stdout",
     "output_type": "stream",
     "text": [
      "C:/Users/krish/Desktop/UMD/Capstone/skill_visual.csv\n"
     ]
    }
   ],
   "source": [
    "### Select NonOciSkills.csv file from your working directory ###\n",
    "\n",
    "root = Tk()\n",
    "root.filename =  filedialog.askopenfilename()\n",
    "print (root.filename)\n",
    "root.destroy()"
   ]
  },
  {
   "cell_type": "code",
   "execution_count": 101,
   "metadata": {},
   "outputs": [],
   "source": [
    "df1 = pd.read_csv(root.filename)"
   ]
  },
  {
   "cell_type": "code",
   "execution_count": 102,
   "metadata": {},
   "outputs": [],
   "source": [
    "df2 = df1.append(df_skills_top)"
   ]
  },
  {
   "cell_type": "code",
   "execution_count": 103,
   "metadata": {},
   "outputs": [],
   "source": [
    "df2 = df2.reset_index(drop = True)"
   ]
  },
  {
   "cell_type": "code",
   "execution_count": 104,
   "metadata": {},
   "outputs": [],
   "source": [
    "df2.to_csv(\"TopSkills.csv\")"
   ]
  },
  {
   "cell_type": "code",
   "execution_count": 105,
   "metadata": {},
   "outputs": [
    {
     "name": "stdout",
     "output_type": "stream",
     "text": [
      "C:/Users/krish/Desktop/UMD/Capstone/JLMinDegree.csv\n"
     ]
    }
   ],
   "source": [
    "### Select NonOciDegree.csv file from your working directory ###\n",
    "\n",
    "root = Tk()\n",
    "root.filename =  filedialog.askopenfilename()\n",
    "print (root.filename)\n",
    "root.destroy()"
   ]
  },
  {
   "cell_type": "code",
   "execution_count": 106,
   "metadata": {},
   "outputs": [],
   "source": [
    "df3 = pd.read_csv(root.filename)"
   ]
  },
  {
   "cell_type": "code",
   "execution_count": 107,
   "metadata": {},
   "outputs": [],
   "source": [
    "df4 = df3.append(DegreeData)"
   ]
  },
  {
   "cell_type": "code",
   "execution_count": 108,
   "metadata": {},
   "outputs": [],
   "source": [
    "df4 = df4.reset_index(drop = True)"
   ]
  },
  {
   "cell_type": "code",
   "execution_count": 109,
   "metadata": {},
   "outputs": [],
   "source": [
    "df4.to_csv(\"MinDegree.csv\")"
   ]
  },
  {
   "cell_type": "code",
   "execution_count": 110,
   "metadata": {},
   "outputs": [],
   "source": [
    "#### The End #####"
   ]
  }
 ],
 "metadata": {
  "kernelspec": {
   "display_name": "Python 3",
   "language": "python",
   "name": "python3"
  },
  "language_info": {
   "codemirror_mode": {
    "name": "ipython",
    "version": 3
   },
   "file_extension": ".py",
   "mimetype": "text/x-python",
   "name": "python",
   "nbconvert_exporter": "python",
   "pygments_lexer": "ipython3",
   "version": "3.7.0"
  }
 },
 "nbformat": 4,
 "nbformat_minor": 2
}
